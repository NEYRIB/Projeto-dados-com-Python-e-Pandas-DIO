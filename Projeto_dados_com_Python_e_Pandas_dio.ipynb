{
  "nbformat": 4,
  "nbformat_minor": 0,
  "metadata": {
    "colab": {
      "name": " Projeto -  dados com Python e Pandas dio.ipynb",
      "provenance": [],
      "collapsed_sections": [
        "BDV5-iYOeLt4",
        "pJvhiwYvrfqA",
        "H9vdptQ5dCJA",
        "_LO-qBJJ0Nt3",
        "THWQV_dbW0QH",
        "YcAas4_fbny5",
        "rB_DeG9wcA4b",
        "pLPJFTmm5mY8",
        "NeQ5xPSIgh8j",
        "YRENfqeHbvvG",
        "YG3JRsNKcHOa",
        "DnpDJhmqcQ4b"
      ],
      "authorship_tag": "ABX9TyOulVlXzkdd6v5s/jZByW2L",
      "include_colab_link": true
    },
    "kernelspec": {
      "name": "python3",
      "display_name": "Python 3"
    },
    "language_info": {
      "name": "python"
    }
  },
  "cells": [
    {
      "cell_type": "markdown",
      "metadata": {
        "id": "view-in-github",
        "colab_type": "text"
      },
      "source": [
        "<a href=\"https://colab.research.google.com/github/NEYRIB/Projeto-dados-com-Python-e-Pandas-DIO/blob/main/Projeto_dados_com_Python_e_Pandas_dio.ipynb\" target=\"_parent\"><img src=\"https://colab.research.google.com/assets/colab-badge.svg\" alt=\"Open In Colab\"/></a>"
      ]
    },
    {
      "cell_type": "markdown",
      "metadata": {
        "id": "BDV5-iYOeLt4"
      },
      "source": [
        "# **Disclaimer**\n",
        "#**1ª Etapa - Análise do mês**\n",
        "Premissas;\n",
        "\n",
        "*Análise das Compras feitas no mês*\n",
        "\n",
        "*Análise das Vendas feitas no mês*\n",
        "#**2ª Etapa - Apuração dos Impostos: ICMS, IPI, PIS e COFINS**\n",
        "Premissas;\n",
        "\n",
        "*-Regime de Tributação Lucro Real (débito/crédito)*\n",
        "\n",
        "*-ICMS e IPI base informada no documento fiscal*\n",
        "\n",
        "*-PIS e COFINS 1,65% e 7,60%*\n",
        "\n",
        "*-CFOPs considerados: Compras 1102 e 1403 e Insumos, Vendas 5102*"
      ]
    },
    {
      "cell_type": "markdown",
      "metadata": {
        "id": "pJvhiwYvrfqA"
      },
      "source": [
        "# Suporte"
      ]
    },
    {
      "cell_type": "code",
      "metadata": {
        "id": "PDysvtuMUyik"
      },
      "source": [
        "#Importando as bibliotecas\n",
        "import pandas as pd\n",
        "import matplotlib.pyplot as plt\n",
        "plt.style.use(\"seaborn\")"
      ],
      "execution_count": 309,
      "outputs": []
    },
    {
      "cell_type": "code",
      "metadata": {
        "colab": {
          "resources": {
            "http://localhost:8080/nbextensions/google.colab/files.js": {
              "data": "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",
              "ok": true,
              "headers": [
                [
                  "content-type",
                  "application/javascript"
                ]
              ],
              "status": 200,
              "status_text": ""
            }
          },
          "base_uri": "https://localhost:8080/",
          "height": 106
        },
        "id": "fm8uPDipY1KB",
        "outputId": "43a73c58-48a7-43cd-c574-c739c757f119"
      },
      "source": [
        "#Upload do arquivo\n",
        "from google.colab import files\n",
        "arq = files.upload()"
      ],
      "execution_count": 311,
      "outputs": [
        {
          "output_type": "display_data",
          "data": {
            "text/html": [
              "\n",
              "     <input type=\"file\" id=\"files-1ff104fd-0389-4544-bf03-a95b8ffa0d19\" name=\"files[]\" multiple disabled\n",
              "        style=\"border:none\" />\n",
              "     <output id=\"result-1ff104fd-0389-4544-bf03-a95b8ffa0d19\">\n",
              "      Upload widget is only available when the cell has been executed in the\n",
              "      current browser session. Please rerun this cell to enable.\n",
              "      </output>\n",
              "      <script src=\"/nbextensions/google.colab/files.js\"></script> "
            ],
            "text/plain": [
              "<IPython.core.display.HTML object>"
            ]
          },
          "metadata": {}
        },
        {
          "output_type": "stream",
          "name": "stdout",
          "text": [
            "Saving RelatorioNFe-entradas_limpa.xlsx to RelatorioNFe-entradas_limpa.xlsx\n",
            "Saving RelatorioNFe-saidas_limpa.xlsx to RelatorioNFe-saidas_limpa.xlsx\n"
          ]
        }
      ]
    },
    {
      "cell_type": "markdown",
      "metadata": {
        "id": "rmlgaD1ausxB"
      },
      "source": [
        "#**Análise do mês**"
      ]
    },
    {
      "cell_type": "markdown",
      "metadata": {
        "id": "H9vdptQ5dCJA"
      },
      "source": [
        "#*Análise da Planilha com Notas Fiscais de Compras*"
      ]
    },
    {
      "cell_type": "code",
      "metadata": {
        "id": "k0mkjeNlZJSH"
      },
      "source": [
        "#Criando DataFrame de Compras\n",
        "dfcompras = pd.read_excel(\"RelatorioNFe-entradas_limpa.xlsx\")"
      ],
      "execution_count": 312,
      "outputs": []
    },
    {
      "cell_type": "code",
      "metadata": {
        "colab": {
          "base_uri": "https://localhost:8080/",
          "height": 459
        },
        "id": "LX3ttbqvZoyK",
        "outputId": "04a0fbde-9016-442e-fc97-7aa3ffeab428"
      },
      "source": [
        "#Visualizando as 5 primeiras linhas\n",
        "dfcompras.head()"
      ],
      "execution_count": 313,
      "outputs": [
        {
          "output_type": "execute_result",
          "data": {
            "text/html": [
              "<div>\n",
              "<style scoped>\n",
              "    .dataframe tbody tr th:only-of-type {\n",
              "        vertical-align: middle;\n",
              "    }\n",
              "\n",
              "    .dataframe tbody tr th {\n",
              "        vertical-align: top;\n",
              "    }\n",
              "\n",
              "    .dataframe thead th {\n",
              "        text-align: right;\n",
              "    }\n",
              "</style>\n",
              "<table border=\"1\" class=\"dataframe\">\n",
              "  <thead>\n",
              "    <tr style=\"text-align: right;\">\n",
              "      <th></th>\n",
              "      <th>Nº da Nota - Compra</th>\n",
              "      <th>Tipo Oper.  - Compra</th>\n",
              "      <th>Natureza Operação  - Compra</th>\n",
              "      <th>CNPJ Destinatário  - Compra</th>\n",
              "      <th>Razão Social Destinatário  - Compra</th>\n",
              "      <th>UF Dest - Compra</th>\n",
              "      <th>CNPJ Emitente - Compra</th>\n",
              "      <th>Razão Social Emitente - Compra</th>\n",
              "      <th>Valor da Nota Fiscal - Compra</th>\n",
              "      <th>Emissão - Compra</th>\n",
              "      <th>Data Entr. Saída - Compra</th>\n",
              "      <th>Valor dos Produtos - Compra</th>\n",
              "      <th>Total ICMS - Compra</th>\n",
              "      <th>Total IPI - Compra</th>\n",
              "      <th>Forma de Pagamento - Compra</th>\n",
              "    </tr>\n",
              "  </thead>\n",
              "  <tbody>\n",
              "    <tr>\n",
              "      <th>0</th>\n",
              "      <td>335953</td>\n",
              "      <td>1 - Entrada</td>\n",
              "      <td>1102 - Compra para comercialização</td>\n",
              "      <td>17.011.236/0001-59</td>\n",
              "      <td>COMERCIAL CELULOSE S.A.</td>\n",
              "      <td>MG</td>\n",
              "      <td>00.189.864/0001-56</td>\n",
              "      <td>BOBINAS PECAS</td>\n",
              "      <td>333.00</td>\n",
              "      <td>2021-07-12</td>\n",
              "      <td>-</td>\n",
              "      <td>333.00</td>\n",
              "      <td>0.0</td>\n",
              "      <td>0.0</td>\n",
              "      <td>A vista</td>\n",
              "    </tr>\n",
              "    <tr>\n",
              "      <th>1</th>\n",
              "      <td>222350</td>\n",
              "      <td>1 - Entrada</td>\n",
              "      <td>1102 - Compra para comercialização</td>\n",
              "      <td>17.011.236/0001-59</td>\n",
              "      <td>COMERCIAL CELULOSE S.A.</td>\n",
              "      <td>MG</td>\n",
              "      <td>01.111.114/0001-11</td>\n",
              "      <td>COMERCIAL DE MAT. ESCRITORIO</td>\n",
              "      <td>563.11</td>\n",
              "      <td>2021-07-07</td>\n",
              "      <td>-</td>\n",
              "      <td>561.11</td>\n",
              "      <td>0.0</td>\n",
              "      <td>0.0</td>\n",
              "      <td>28 dias</td>\n",
              "    </tr>\n",
              "    <tr>\n",
              "      <th>2</th>\n",
              "      <td>222603</td>\n",
              "      <td>1 - Entrada</td>\n",
              "      <td>1102 - Compra para comercialização</td>\n",
              "      <td>17.011.236/0001-59</td>\n",
              "      <td>COMERCIAL CELULOSE S.A.</td>\n",
              "      <td>MG</td>\n",
              "      <td>01.111.114/0001-11</td>\n",
              "      <td>COMERCIAL DE MAT. ESCRITORIO</td>\n",
              "      <td>1456.56</td>\n",
              "      <td>2021-07-15</td>\n",
              "      <td>-</td>\n",
              "      <td>1454.56</td>\n",
              "      <td>0.0</td>\n",
              "      <td>0.0</td>\n",
              "      <td>28 dias</td>\n",
              "    </tr>\n",
              "    <tr>\n",
              "      <th>3</th>\n",
              "      <td>223025</td>\n",
              "      <td>1 - Entrada</td>\n",
              "      <td>1102 - Compra para comercialização</td>\n",
              "      <td>17.011.236/0001-59</td>\n",
              "      <td>COMERCIAL CELULOSE S.A.</td>\n",
              "      <td>MG</td>\n",
              "      <td>01.111.114/0001-11</td>\n",
              "      <td>COMERCIAL DE MAT. ESCRITORIO</td>\n",
              "      <td>1458.64</td>\n",
              "      <td>2021-07-22</td>\n",
              "      <td>-</td>\n",
              "      <td>1458.64</td>\n",
              "      <td>0.0</td>\n",
              "      <td>0.0</td>\n",
              "      <td>28 dias</td>\n",
              "    </tr>\n",
              "    <tr>\n",
              "      <th>4</th>\n",
              "      <td>223069</td>\n",
              "      <td>1 - Entrada</td>\n",
              "      <td>1102 - Compra para comercialização</td>\n",
              "      <td>17.011.236/0001-59</td>\n",
              "      <td>COMERCIAL CELULOSE S.A.</td>\n",
              "      <td>MG</td>\n",
              "      <td>01.111.114/0001-11</td>\n",
              "      <td>COMERCIAL DE MAT. ESCRITORIO</td>\n",
              "      <td>65.80</td>\n",
              "      <td>2021-07-23</td>\n",
              "      <td>-</td>\n",
              "      <td>63.80</td>\n",
              "      <td>0.0</td>\n",
              "      <td>0.0</td>\n",
              "      <td>28 dias</td>\n",
              "    </tr>\n",
              "  </tbody>\n",
              "</table>\n",
              "</div>"
            ],
            "text/plain": [
              "   Nº da Nota - Compra  ... Forma de Pagamento - Compra\n",
              "0               335953  ...                     A vista\n",
              "1               222350  ...                     28 dias\n",
              "2               222603  ...                     28 dias\n",
              "3               223025  ...                     28 dias\n",
              "4               223069  ...                     28 dias\n",
              "\n",
              "[5 rows x 15 columns]"
            ]
          },
          "metadata": {},
          "execution_count": 313
        }
      ]
    },
    {
      "cell_type": "code",
      "metadata": {
        "colab": {
          "base_uri": "https://localhost:8080/"
        },
        "id": "yNDsj6aaaCEx",
        "outputId": "e56c0f4b-3ba8-42f1-872f-2ea69437b881"
      },
      "source": [
        "#Quantidade de linhas e colunas\n",
        "dfcompras.shape"
      ],
      "execution_count": 314,
      "outputs": [
        {
          "output_type": "execute_result",
          "data": {
            "text/plain": [
              "(86, 15)"
            ]
          },
          "metadata": {},
          "execution_count": 314
        }
      ]
    },
    {
      "cell_type": "code",
      "metadata": {
        "colab": {
          "base_uri": "https://localhost:8080/"
        },
        "id": "Cgk7kx3saU3z",
        "outputId": "a1de0315-4b4e-4883-d7a4-f07476c0de69"
      },
      "source": [
        "#Verificando os tipos de dados\n",
        "dfcompras.dtypes"
      ],
      "execution_count": 315,
      "outputs": [
        {
          "output_type": "execute_result",
          "data": {
            "text/plain": [
              "Nº da Nota - Compra                      int64\n",
              "Tipo Oper.  - Compra                    object\n",
              "Natureza Operação  - Compra             object\n",
              "CNPJ Destinatário  - Compra             object\n",
              "Razão Social Destinatário  - Compra     object\n",
              "UF Dest - Compra                        object\n",
              "CNPJ Emitente - Compra                  object\n",
              "Razão Social Emitente - Compra          object\n",
              "Valor da Nota Fiscal - Compra          float64\n",
              "Emissão - Compra                        object\n",
              "Data Entr. Saída - Compra               object\n",
              "Valor dos Produtos - Compra            float64\n",
              "Total ICMS - Compra                    float64\n",
              "Total IPI - Compra                     float64\n",
              "Forma de Pagamento - Compra             object\n",
              "dtype: object"
            ]
          },
          "metadata": {},
          "execution_count": 315
        }
      ]
    },
    {
      "cell_type": "code",
      "metadata": {
        "id": "tXaSUFlrx5iH"
      },
      "source": [
        "#Alterando o tipo de dado das colunas Compras\n",
        "dfcompras[\"Nº da Nota - Compra\"] = dfcompras[\"Nº da Nota - Compra\"].astype(\"object\")\n",
        "dfcompras[\"Emissão - Compra\"] = dfcompras[\"Emissão - Compra\"].astype(\"datetime64[ns]\")"
      ],
      "execution_count": 316,
      "outputs": []
    },
    {
      "cell_type": "code",
      "metadata": {
        "colab": {
          "base_uri": "https://localhost:8080/"
        },
        "id": "_mSdaR7EwTex",
        "outputId": "a16f8443-f62c-4428-e5a9-2f3f1731d36d"
      },
      "source": [
        "#Verificando os tipos de dados\n",
        "dfcompras.dtypes"
      ],
      "execution_count": 317,
      "outputs": [
        {
          "output_type": "execute_result",
          "data": {
            "text/plain": [
              "Nº da Nota - Compra                            object\n",
              "Tipo Oper.  - Compra                           object\n",
              "Natureza Operação  - Compra                    object\n",
              "CNPJ Destinatário  - Compra                    object\n",
              "Razão Social Destinatário  - Compra            object\n",
              "UF Dest - Compra                               object\n",
              "CNPJ Emitente - Compra                         object\n",
              "Razão Social Emitente - Compra                 object\n",
              "Valor da Nota Fiscal - Compra                 float64\n",
              "Emissão - Compra                       datetime64[ns]\n",
              "Data Entr. Saída - Compra                      object\n",
              "Valor dos Produtos - Compra                   float64\n",
              "Total ICMS - Compra                           float64\n",
              "Total IPI - Compra                            float64\n",
              "Forma de Pagamento - Compra                    object\n",
              "dtype: object"
            ]
          },
          "metadata": {},
          "execution_count": 317
        }
      ]
    },
    {
      "cell_type": "code",
      "metadata": {
        "colab": {
          "base_uri": "https://localhost:8080/"
        },
        "id": "LpEDx5aX2PS7",
        "outputId": "01111f4d-10f1-4f57-cf9c-67e411c7244b"
      },
      "source": [
        "#Consultando linhas com valores faltantes\n",
        "dfcompras.isnull().sum()"
      ],
      "execution_count": 318,
      "outputs": [
        {
          "output_type": "execute_result",
          "data": {
            "text/plain": [
              "Nº da Nota - Compra                    0\n",
              "Tipo Oper.  - Compra                   0\n",
              "Natureza Operação  - Compra            0\n",
              "CNPJ Destinatário  - Compra            0\n",
              "Razão Social Destinatário  - Compra    0\n",
              "UF Dest - Compra                       0\n",
              "CNPJ Emitente - Compra                 0\n",
              "Razão Social Emitente - Compra         0\n",
              "Valor da Nota Fiscal - Compra          0\n",
              "Emissão - Compra                       0\n",
              "Data Entr. Saída - Compra              0\n",
              "Valor dos Produtos - Compra            0\n",
              "Total ICMS - Compra                    0\n",
              "Total IPI - Compra                     0\n",
              "Forma de Pagamento - Compra            0\n",
              "dtype: int64"
            ]
          },
          "metadata": {},
          "execution_count": 318
        }
      ]
    },
    {
      "cell_type": "code",
      "metadata": {
        "colab": {
          "base_uri": "https://localhost:8080/",
          "height": 329
        },
        "id": "PFN8RDYn2bVx",
        "outputId": "28384829-7946-4882-f7e2-e8cfb9628ec4"
      },
      "source": [
        "dfcompras.sample(3)"
      ],
      "execution_count": 319,
      "outputs": [
        {
          "output_type": "execute_result",
          "data": {
            "text/html": [
              "<div>\n",
              "<style scoped>\n",
              "    .dataframe tbody tr th:only-of-type {\n",
              "        vertical-align: middle;\n",
              "    }\n",
              "\n",
              "    .dataframe tbody tr th {\n",
              "        vertical-align: top;\n",
              "    }\n",
              "\n",
              "    .dataframe thead th {\n",
              "        text-align: right;\n",
              "    }\n",
              "</style>\n",
              "<table border=\"1\" class=\"dataframe\">\n",
              "  <thead>\n",
              "    <tr style=\"text-align: right;\">\n",
              "      <th></th>\n",
              "      <th>Nº da Nota - Compra</th>\n",
              "      <th>Tipo Oper.  - Compra</th>\n",
              "      <th>Natureza Operação  - Compra</th>\n",
              "      <th>CNPJ Destinatário  - Compra</th>\n",
              "      <th>Razão Social Destinatário  - Compra</th>\n",
              "      <th>UF Dest - Compra</th>\n",
              "      <th>CNPJ Emitente - Compra</th>\n",
              "      <th>Razão Social Emitente - Compra</th>\n",
              "      <th>Valor da Nota Fiscal - Compra</th>\n",
              "      <th>Emissão - Compra</th>\n",
              "      <th>Data Entr. Saída - Compra</th>\n",
              "      <th>Valor dos Produtos - Compra</th>\n",
              "      <th>Total ICMS - Compra</th>\n",
              "      <th>Total IPI - Compra</th>\n",
              "      <th>Forma de Pagamento - Compra</th>\n",
              "    </tr>\n",
              "  </thead>\n",
              "  <tbody>\n",
              "    <tr>\n",
              "      <th>78</th>\n",
              "      <td>359737</td>\n",
              "      <td>1 - Entrada</td>\n",
              "      <td>1102 - Compra para comercialização</td>\n",
              "      <td>17.011.236/0001-59</td>\n",
              "      <td>COMERCIAL CELULOSE S.A.</td>\n",
              "      <td>MG</td>\n",
              "      <td>05.097.111/0001-14</td>\n",
              "      <td>R CAIXAS LTDA</td>\n",
              "      <td>24846.21</td>\n",
              "      <td>2021-07-17</td>\n",
              "      <td>-</td>\n",
              "      <td>24846.21</td>\n",
              "      <td>993.85</td>\n",
              "      <td>0.00</td>\n",
              "      <td>42 DIAS</td>\n",
              "    </tr>\n",
              "    <tr>\n",
              "      <th>48</th>\n",
              "      <td>97535</td>\n",
              "      <td>1 - Entrada</td>\n",
              "      <td>1102 - Compra para comercialização</td>\n",
              "      <td>17.011.236/0001-59</td>\n",
              "      <td>COMERCIAL CELULOSE S.A.</td>\n",
              "      <td>MG</td>\n",
              "      <td>04.155.016/0001-74</td>\n",
              "      <td>FA BOBINAS S.A.</td>\n",
              "      <td>20857.97</td>\n",
              "      <td>2021-07-20</td>\n",
              "      <td>-</td>\n",
              "      <td>15909.21</td>\n",
              "      <td>1909.09</td>\n",
              "      <td>1185.35</td>\n",
              "      <td>42 DIAS</td>\n",
              "    </tr>\n",
              "    <tr>\n",
              "      <th>9</th>\n",
              "      <td>50973</td>\n",
              "      <td>1 - Entrada</td>\n",
              "      <td>1403 - Compra para comercialização ST</td>\n",
              "      <td>17.011.236/0001-59</td>\n",
              "      <td>COMERCIAL CELULOSE S.A.</td>\n",
              "      <td>MG</td>\n",
              "      <td>06.150.119/0001-59</td>\n",
              "      <td>ATACADO PAPELÃO LTDA</td>\n",
              "      <td>882.58</td>\n",
              "      <td>2021-07-09</td>\n",
              "      <td>-</td>\n",
              "      <td>882.58</td>\n",
              "      <td>0.00</td>\n",
              "      <td>0.00</td>\n",
              "      <td>28 dias</td>\n",
              "    </tr>\n",
              "  </tbody>\n",
              "</table>\n",
              "</div>"
            ],
            "text/plain": [
              "   Nº da Nota - Compra  ... Forma de Pagamento - Compra\n",
              "78              359737  ...                     42 DIAS\n",
              "48               97535  ...                     42 DIAS\n",
              "9                50973  ...                     28 dias\n",
              "\n",
              "[3 rows x 15 columns]"
            ]
          },
          "metadata": {},
          "execution_count": 319
        }
      ]
    },
    {
      "cell_type": "code",
      "metadata": {
        "colab": {
          "base_uri": "https://localhost:8080/"
        },
        "id": "x3BIp0f62u1S",
        "outputId": "bb97a135-0ba7-4a95-9997-da0b14e8bdfd"
      },
      "source": [
        "#Retornando a maior Compra\n",
        "dfcompras[\"Valor da Nota Fiscal - Compra\"].max()"
      ],
      "execution_count": 320,
      "outputs": [
        {
          "output_type": "execute_result",
          "data": {
            "text/plain": [
              "163145.14"
            ]
          },
          "metadata": {},
          "execution_count": 320
        }
      ]
    },
    {
      "cell_type": "code",
      "metadata": {
        "colab": {
          "base_uri": "https://localhost:8080/"
        },
        "id": "aP3I-6qviRi3",
        "outputId": "dc077572-5489-4694-fb72-d5cb7a7ab936"
      },
      "source": [
        "#Retornando a menor Compra\n",
        "dfcompras[\"Valor da Nota Fiscal - Compra\"].min()"
      ],
      "execution_count": 321,
      "outputs": [
        {
          "output_type": "execute_result",
          "data": {
            "text/plain": [
              "20.0"
            ]
          },
          "metadata": {},
          "execution_count": 321
        }
      ]
    },
    {
      "cell_type": "code",
      "metadata": {
        "colab": {
          "base_uri": "https://localhost:8080/"
        },
        "id": "vVV9vIuNidbt",
        "outputId": "95496d21-393a-4220-f261-21657b6a9541"
      },
      "source": [
        "#Retornando a média das Compras\n",
        "round(dfcompras[\"Valor da Nota Fiscal - Compra\"].mean(),2)"
      ],
      "execution_count": 322,
      "outputs": [
        {
          "output_type": "execute_result",
          "data": {
            "text/plain": [
              "19106.37"
            ]
          },
          "metadata": {},
          "execution_count": 322
        }
      ]
    },
    {
      "cell_type": "code",
      "metadata": {
        "colab": {
          "base_uri": "https://localhost:8080/",
          "height": 332
        },
        "id": "rOzZDrH02v2-",
        "outputId": "7b89bfbb-92c9-4f5b-efb1-581810a981e0"
      },
      "source": [
        "#Retonando em ordem decrescente 3 Maiores Compras\n",
        "dfcompras.nlargest(3, \"Valor da Nota Fiscal - Compra\")"
      ],
      "execution_count": 323,
      "outputs": [
        {
          "output_type": "execute_result",
          "data": {
            "text/html": [
              "<div>\n",
              "<style scoped>\n",
              "    .dataframe tbody tr th:only-of-type {\n",
              "        vertical-align: middle;\n",
              "    }\n",
              "\n",
              "    .dataframe tbody tr th {\n",
              "        vertical-align: top;\n",
              "    }\n",
              "\n",
              "    .dataframe thead th {\n",
              "        text-align: right;\n",
              "    }\n",
              "</style>\n",
              "<table border=\"1\" class=\"dataframe\">\n",
              "  <thead>\n",
              "    <tr style=\"text-align: right;\">\n",
              "      <th></th>\n",
              "      <th>Nº da Nota - Compra</th>\n",
              "      <th>Tipo Oper.  - Compra</th>\n",
              "      <th>Natureza Operação  - Compra</th>\n",
              "      <th>CNPJ Destinatário  - Compra</th>\n",
              "      <th>Razão Social Destinatário  - Compra</th>\n",
              "      <th>UF Dest - Compra</th>\n",
              "      <th>CNPJ Emitente - Compra</th>\n",
              "      <th>Razão Social Emitente - Compra</th>\n",
              "      <th>Valor da Nota Fiscal - Compra</th>\n",
              "      <th>Emissão - Compra</th>\n",
              "      <th>Data Entr. Saída - Compra</th>\n",
              "      <th>Valor dos Produtos - Compra</th>\n",
              "      <th>Total ICMS - Compra</th>\n",
              "      <th>Total IPI - Compra</th>\n",
              "      <th>Forma de Pagamento - Compra</th>\n",
              "    </tr>\n",
              "  </thead>\n",
              "  <tbody>\n",
              "    <tr>\n",
              "      <th>50</th>\n",
              "      <td>97532</td>\n",
              "      <td>1 - Entrada</td>\n",
              "      <td>1102 - Compra para comercialização</td>\n",
              "      <td>17.011.236/0001-59</td>\n",
              "      <td>COMERCIAL CELULOSE S.A.</td>\n",
              "      <td>MG</td>\n",
              "      <td>04.155.016/0001-74</td>\n",
              "      <td>FA BOBINAS S.A.</td>\n",
              "      <td>163145.14</td>\n",
              "      <td>2021-07-20</td>\n",
              "      <td>-</td>\n",
              "      <td>125979.84</td>\n",
              "      <td>14687.29</td>\n",
              "      <td>7415.68</td>\n",
              "      <td>42 DIAS</td>\n",
              "    </tr>\n",
              "    <tr>\n",
              "      <th>80</th>\n",
              "      <td>359720</td>\n",
              "      <td>1 - Entrada</td>\n",
              "      <td>1102 - Compra para comercialização</td>\n",
              "      <td>17.011.236/0001-59</td>\n",
              "      <td>COMERCIAL CELULOSE S.A.</td>\n",
              "      <td>MG</td>\n",
              "      <td>05.097.111/0001-14</td>\n",
              "      <td>R CAIXAS LTDA</td>\n",
              "      <td>109971.04</td>\n",
              "      <td>2021-07-17</td>\n",
              "      <td>-</td>\n",
              "      <td>109971.04</td>\n",
              "      <td>4398.84</td>\n",
              "      <td>0.00</td>\n",
              "      <td>42 DIAS</td>\n",
              "    </tr>\n",
              "    <tr>\n",
              "      <th>85</th>\n",
              "      <td>320953</td>\n",
              "      <td>1 - Entrada</td>\n",
              "      <td>1102 - Compra para comercialização</td>\n",
              "      <td>17.011.236/0001-59</td>\n",
              "      <td>COMERCIAL CELULOSE S.A.</td>\n",
              "      <td>MG</td>\n",
              "      <td>05.097.111/0001-14</td>\n",
              "      <td>R CAIXAS LTDA</td>\n",
              "      <td>105855.38</td>\n",
              "      <td>2021-07-29</td>\n",
              "      <td>-</td>\n",
              "      <td>105855.38</td>\n",
              "      <td>4234.22</td>\n",
              "      <td>0.00</td>\n",
              "      <td>42 DIAS</td>\n",
              "    </tr>\n",
              "  </tbody>\n",
              "</table>\n",
              "</div>"
            ],
            "text/plain": [
              "   Nº da Nota - Compra  ... Forma de Pagamento - Compra\n",
              "50               97532  ...                     42 DIAS\n",
              "80              359720  ...                     42 DIAS\n",
              "85              320953  ...                     42 DIAS\n",
              "\n",
              "[3 rows x 15 columns]"
            ]
          },
          "metadata": {},
          "execution_count": 323
        }
      ]
    },
    {
      "cell_type": "code",
      "metadata": {
        "colab": {
          "base_uri": "https://localhost:8080/",
          "height": 346
        },
        "id": "uZrhTIWe22jx",
        "outputId": "2a7f0b02-7272-4e52-cf6d-348efcf56677"
      },
      "source": [
        "#Retonando em ordem crescente 3 Menores Compras\n",
        "dfcompras.nsmallest(3, \"Valor da Nota Fiscal - Compra\")"
      ],
      "execution_count": 324,
      "outputs": [
        {
          "output_type": "execute_result",
          "data": {
            "text/html": [
              "<div>\n",
              "<style scoped>\n",
              "    .dataframe tbody tr th:only-of-type {\n",
              "        vertical-align: middle;\n",
              "    }\n",
              "\n",
              "    .dataframe tbody tr th {\n",
              "        vertical-align: top;\n",
              "    }\n",
              "\n",
              "    .dataframe thead th {\n",
              "        text-align: right;\n",
              "    }\n",
              "</style>\n",
              "<table border=\"1\" class=\"dataframe\">\n",
              "  <thead>\n",
              "    <tr style=\"text-align: right;\">\n",
              "      <th></th>\n",
              "      <th>Nº da Nota - Compra</th>\n",
              "      <th>Tipo Oper.  - Compra</th>\n",
              "      <th>Natureza Operação  - Compra</th>\n",
              "      <th>CNPJ Destinatário  - Compra</th>\n",
              "      <th>Razão Social Destinatário  - Compra</th>\n",
              "      <th>UF Dest - Compra</th>\n",
              "      <th>CNPJ Emitente - Compra</th>\n",
              "      <th>Razão Social Emitente - Compra</th>\n",
              "      <th>Valor da Nota Fiscal - Compra</th>\n",
              "      <th>Emissão - Compra</th>\n",
              "      <th>Data Entr. Saída - Compra</th>\n",
              "      <th>Valor dos Produtos - Compra</th>\n",
              "      <th>Total ICMS - Compra</th>\n",
              "      <th>Total IPI - Compra</th>\n",
              "      <th>Forma de Pagamento - Compra</th>\n",
              "    </tr>\n",
              "  </thead>\n",
              "  <tbody>\n",
              "    <tr>\n",
              "      <th>33</th>\n",
              "      <td>329650</td>\n",
              "      <td>1 - Entrada</td>\n",
              "      <td>1403 - Compra para comercialização ST</td>\n",
              "      <td>17.011.236/0001-59</td>\n",
              "      <td>COMERCIAL CELULOSE S.A.</td>\n",
              "      <td>MG</td>\n",
              "      <td>40.411.544/0146-74</td>\n",
              "      <td>CLARO S.A</td>\n",
              "      <td>20.0</td>\n",
              "      <td>2021-07-14</td>\n",
              "      <td>-</td>\n",
              "      <td>20.0</td>\n",
              "      <td>0.0</td>\n",
              "      <td>0.0</td>\n",
              "      <td>A vista</td>\n",
              "    </tr>\n",
              "    <tr>\n",
              "      <th>4</th>\n",
              "      <td>223069</td>\n",
              "      <td>1 - Entrada</td>\n",
              "      <td>1102 - Compra para comercialização</td>\n",
              "      <td>17.011.236/0001-59</td>\n",
              "      <td>COMERCIAL CELULOSE S.A.</td>\n",
              "      <td>MG</td>\n",
              "      <td>01.111.114/0001-11</td>\n",
              "      <td>COMERCIAL DE MAT. ESCRITORIO</td>\n",
              "      <td>65.8</td>\n",
              "      <td>2021-07-23</td>\n",
              "      <td>-</td>\n",
              "      <td>63.8</td>\n",
              "      <td>0.0</td>\n",
              "      <td>0.0</td>\n",
              "      <td>28 dias</td>\n",
              "    </tr>\n",
              "    <tr>\n",
              "      <th>5</th>\n",
              "      <td>223077</td>\n",
              "      <td>1 - Entrada</td>\n",
              "      <td>1102 - Compra para comercialização</td>\n",
              "      <td>17.011.236/0001-59</td>\n",
              "      <td>COMERCIAL CELULOSE S.A.</td>\n",
              "      <td>MG</td>\n",
              "      <td>01.111.114/0001-11</td>\n",
              "      <td>COMERCIAL DE MAT. ESCRITORIO</td>\n",
              "      <td>112.4</td>\n",
              "      <td>2021-07-23</td>\n",
              "      <td>-</td>\n",
              "      <td>110.4</td>\n",
              "      <td>0.0</td>\n",
              "      <td>0.0</td>\n",
              "      <td>28 dias</td>\n",
              "    </tr>\n",
              "  </tbody>\n",
              "</table>\n",
              "</div>"
            ],
            "text/plain": [
              "   Nº da Nota - Compra  ... Forma de Pagamento - Compra\n",
              "33              329650  ...                     A vista\n",
              "4               223069  ...                     28 dias\n",
              "5               223077  ...                     28 dias\n",
              "\n",
              "[3 rows x 15 columns]"
            ]
          },
          "metadata": {},
          "execution_count": 324
        }
      ]
    },
    {
      "cell_type": "code",
      "metadata": {
        "colab": {
          "base_uri": "https://localhost:8080/",
          "height": 787
        },
        "id": "QYWDZuI4qoIu",
        "outputId": "0b35ffd8-d85b-412e-b743-bcb5383b247e"
      },
      "source": [
        "#Ordenando o conjunto de dados\n",
        "dfcompras.sort_values(\"Valor da Nota Fiscal - Compra\", ascending=False).head(10)"
      ],
      "execution_count": 325,
      "outputs": [
        {
          "output_type": "execute_result",
          "data": {
            "text/html": [
              "<div>\n",
              "<style scoped>\n",
              "    .dataframe tbody tr th:only-of-type {\n",
              "        vertical-align: middle;\n",
              "    }\n",
              "\n",
              "    .dataframe tbody tr th {\n",
              "        vertical-align: top;\n",
              "    }\n",
              "\n",
              "    .dataframe thead th {\n",
              "        text-align: right;\n",
              "    }\n",
              "</style>\n",
              "<table border=\"1\" class=\"dataframe\">\n",
              "  <thead>\n",
              "    <tr style=\"text-align: right;\">\n",
              "      <th></th>\n",
              "      <th>Nº da Nota - Compra</th>\n",
              "      <th>Tipo Oper.  - Compra</th>\n",
              "      <th>Natureza Operação  - Compra</th>\n",
              "      <th>CNPJ Destinatário  - Compra</th>\n",
              "      <th>Razão Social Destinatário  - Compra</th>\n",
              "      <th>UF Dest - Compra</th>\n",
              "      <th>CNPJ Emitente - Compra</th>\n",
              "      <th>Razão Social Emitente - Compra</th>\n",
              "      <th>Valor da Nota Fiscal - Compra</th>\n",
              "      <th>Emissão - Compra</th>\n",
              "      <th>Data Entr. Saída - Compra</th>\n",
              "      <th>Valor dos Produtos - Compra</th>\n",
              "      <th>Total ICMS - Compra</th>\n",
              "      <th>Total IPI - Compra</th>\n",
              "      <th>Forma de Pagamento - Compra</th>\n",
              "    </tr>\n",
              "  </thead>\n",
              "  <tbody>\n",
              "    <tr>\n",
              "      <th>50</th>\n",
              "      <td>97532</td>\n",
              "      <td>1 - Entrada</td>\n",
              "      <td>1102 - Compra para comercialização</td>\n",
              "      <td>17.011.236/0001-59</td>\n",
              "      <td>COMERCIAL CELULOSE S.A.</td>\n",
              "      <td>MG</td>\n",
              "      <td>04.155.016/0001-74</td>\n",
              "      <td>FA BOBINAS S.A.</td>\n",
              "      <td>163145.14</td>\n",
              "      <td>2021-07-20</td>\n",
              "      <td>-</td>\n",
              "      <td>125979.84</td>\n",
              "      <td>14687.29</td>\n",
              "      <td>7415.68</td>\n",
              "      <td>42 DIAS</td>\n",
              "    </tr>\n",
              "    <tr>\n",
              "      <th>80</th>\n",
              "      <td>359720</td>\n",
              "      <td>1 - Entrada</td>\n",
              "      <td>1102 - Compra para comercialização</td>\n",
              "      <td>17.011.236/0001-59</td>\n",
              "      <td>COMERCIAL CELULOSE S.A.</td>\n",
              "      <td>MG</td>\n",
              "      <td>05.097.111/0001-14</td>\n",
              "      <td>R CAIXAS LTDA</td>\n",
              "      <td>109971.04</td>\n",
              "      <td>2021-07-17</td>\n",
              "      <td>-</td>\n",
              "      <td>109971.04</td>\n",
              "      <td>4398.84</td>\n",
              "      <td>0.00</td>\n",
              "      <td>42 DIAS</td>\n",
              "    </tr>\n",
              "    <tr>\n",
              "      <th>85</th>\n",
              "      <td>320953</td>\n",
              "      <td>1 - Entrada</td>\n",
              "      <td>1102 - Compra para comercialização</td>\n",
              "      <td>17.011.236/0001-59</td>\n",
              "      <td>COMERCIAL CELULOSE S.A.</td>\n",
              "      <td>MG</td>\n",
              "      <td>05.097.111/0001-14</td>\n",
              "      <td>R CAIXAS LTDA</td>\n",
              "      <td>105855.38</td>\n",
              "      <td>2021-07-29</td>\n",
              "      <td>-</td>\n",
              "      <td>105855.38</td>\n",
              "      <td>4234.22</td>\n",
              "      <td>0.00</td>\n",
              "      <td>42 DIAS</td>\n",
              "    </tr>\n",
              "    <tr>\n",
              "      <th>79</th>\n",
              "      <td>359759</td>\n",
              "      <td>1 - Entrada</td>\n",
              "      <td>1102 - Compra para comercialização</td>\n",
              "      <td>17.011.236/0001-59</td>\n",
              "      <td>COMERCIAL CELULOSE S.A.</td>\n",
              "      <td>MG</td>\n",
              "      <td>05.097.111/0001-14</td>\n",
              "      <td>R CAIXAS LTDA</td>\n",
              "      <td>102902.14</td>\n",
              "      <td>2021-07-17</td>\n",
              "      <td>-</td>\n",
              "      <td>102902.14</td>\n",
              "      <td>4116.09</td>\n",
              "      <td>0.00</td>\n",
              "      <td>42 DIAS</td>\n",
              "    </tr>\n",
              "    <tr>\n",
              "      <th>75</th>\n",
              "      <td>3272</td>\n",
              "      <td>1 - Entrada</td>\n",
              "      <td>2653 - Compra de combustível ou lubrificante</td>\n",
              "      <td>17.011.236/0001-59</td>\n",
              "      <td>COMERCIAL CELULOSE S.A.</td>\n",
              "      <td>MG</td>\n",
              "      <td>00.616.970/0001-05</td>\n",
              "      <td>CLUB PAPEL LTDA</td>\n",
              "      <td>102066.47</td>\n",
              "      <td>2021-07-09</td>\n",
              "      <td>-</td>\n",
              "      <td>75376.10</td>\n",
              "      <td>0.00</td>\n",
              "      <td>0.00</td>\n",
              "      <td>42 DIAS</td>\n",
              "    </tr>\n",
              "    <tr>\n",
              "      <th>46</th>\n",
              "      <td>97532</td>\n",
              "      <td>1 - Entrada</td>\n",
              "      <td>1102 - Compra para comercialização</td>\n",
              "      <td>17.011.236/0001-59</td>\n",
              "      <td>COMERCIAL CELULOSE S.A.</td>\n",
              "      <td>MG</td>\n",
              "      <td>04.155.016/0001-74</td>\n",
              "      <td>FA BOBINAS S.A.</td>\n",
              "      <td>89575.35</td>\n",
              "      <td>2021-07-20</td>\n",
              "      <td>-</td>\n",
              "      <td>68871.12</td>\n",
              "      <td>7984.74</td>\n",
              "      <td>4331.51</td>\n",
              "      <td>42 DIAS</td>\n",
              "    </tr>\n",
              "    <tr>\n",
              "      <th>84</th>\n",
              "      <td>320950</td>\n",
              "      <td>1 - Entrada</td>\n",
              "      <td>1102 - Compra para comercialização</td>\n",
              "      <td>17.011.236/0001-59</td>\n",
              "      <td>COMERCIAL CELULOSE S.A.</td>\n",
              "      <td>MG</td>\n",
              "      <td>05.097.111/0001-14</td>\n",
              "      <td>R CAIXAS LTDA</td>\n",
              "      <td>87423.06</td>\n",
              "      <td>2021-07-29</td>\n",
              "      <td>-</td>\n",
              "      <td>87423.06</td>\n",
              "      <td>3496.92</td>\n",
              "      <td>0.00</td>\n",
              "      <td>42 DIAS</td>\n",
              "    </tr>\n",
              "    <tr>\n",
              "      <th>52</th>\n",
              "      <td>97263</td>\n",
              "      <td>1 - Entrada</td>\n",
              "      <td>1102 - Compra para comercialização</td>\n",
              "      <td>17.011.236/0001-59</td>\n",
              "      <td>COMERCIAL CELULOSE S.A.</td>\n",
              "      <td>MG</td>\n",
              "      <td>04.155.016/0001-74</td>\n",
              "      <td>FA BOBINAS S.A.</td>\n",
              "      <td>76105.56</td>\n",
              "      <td>2021-07-21</td>\n",
              "      <td>-</td>\n",
              "      <td>57562.45</td>\n",
              "      <td>6378.97</td>\n",
              "      <td>4249.90</td>\n",
              "      <td>42 DIAS</td>\n",
              "    </tr>\n",
              "    <tr>\n",
              "      <th>54</th>\n",
              "      <td>27562</td>\n",
              "      <td>1 - Entrada</td>\n",
              "      <td>1102 - Compra para comercialização</td>\n",
              "      <td>17.011.236/0001-59</td>\n",
              "      <td>COMERCIAL CELULOSE S.A.</td>\n",
              "      <td>MG</td>\n",
              "      <td>11.145.571/0001-10</td>\n",
              "      <td>DQUIM PRODUTOS EIRELI</td>\n",
              "      <td>70947.60</td>\n",
              "      <td>2021-07-28</td>\n",
              "      <td>-</td>\n",
              "      <td>70947.60</td>\n",
              "      <td>8513.71</td>\n",
              "      <td>0.00</td>\n",
              "      <td>A vista</td>\n",
              "    </tr>\n",
              "    <tr>\n",
              "      <th>73</th>\n",
              "      <td>3207</td>\n",
              "      <td>1 - Entrada</td>\n",
              "      <td>2653 - Compra de combustível ou lubrificante</td>\n",
              "      <td>17.011.236/0001-59</td>\n",
              "      <td>COMERCIAL CELULOSE S.A.</td>\n",
              "      <td>MG</td>\n",
              "      <td>00.616.970/0001-05</td>\n",
              "      <td>CLUB PAPEL LTDA</td>\n",
              "      <td>70248.17</td>\n",
              "      <td>2021-07-01</td>\n",
              "      <td>-</td>\n",
              "      <td>51878.28</td>\n",
              "      <td>0.00</td>\n",
              "      <td>0.00</td>\n",
              "      <td>42 DIAS</td>\n",
              "    </tr>\n",
              "  </tbody>\n",
              "</table>\n",
              "</div>"
            ],
            "text/plain": [
              "   Nº da Nota - Compra  ... Forma de Pagamento - Compra\n",
              "50               97532  ...                     42 DIAS\n",
              "80              359720  ...                     42 DIAS\n",
              "85              320953  ...                     42 DIAS\n",
              "79              359759  ...                     42 DIAS\n",
              "75                3272  ...                     42 DIAS\n",
              "46               97532  ...                     42 DIAS\n",
              "84              320950  ...                     42 DIAS\n",
              "52               97263  ...                     42 DIAS\n",
              "54               27562  ...                     A vista\n",
              "73                3207  ...                     42 DIAS\n",
              "\n",
              "[10 rows x 15 columns]"
            ]
          },
          "metadata": {},
          "execution_count": 325
        }
      ]
    },
    {
      "cell_type": "code",
      "metadata": {
        "colab": {
          "base_uri": "https://localhost:8080/",
          "height": 347
        },
        "id": "j-ZL4P4M01zp",
        "outputId": "7e47fdb7-b9ee-4f7d-88a1-5e843eaac59a"
      },
      "source": [
        "#Gráfico de barras horizontais\n",
        "dfcompras[\"Razão Social Emitente - Compra\"].value_counts(ascending=True).plot.barh();"
      ],
      "execution_count": 326,
      "outputs": [
        {
          "output_type": "display_data",
          "data": {
            "image/png": "[encoded data removed]",
            "text/plain": [
              "<Figure size 576x396 with 1 Axes>"
            ]
          },
          "metadata": {}
        }
      ]
    },
    {
      "cell_type": "code",
      "metadata": {
        "colab": {
          "base_uri": "https://localhost:8080/"
        },
        "id": "A3HIqv3025bw",
        "outputId": "49bfafa4-69d0-4709-bbd0-937eb30a62d6"
      },
      "source": [
        "#Agrupamento Natureza da Operação (importante para apuração dos Créditos dos impostos)\n",
        "dfcompras.groupby(\"Natureza Operação  - Compra\")[\"Valor da Nota Fiscal - Compra\"].sum()"
      ],
      "execution_count": 327,
      "outputs": [
        {
          "output_type": "execute_result",
          "data": {
            "text/plain": [
              "Natureza Operação  - Compra\n",
              "1102 - Compra para comercialização                1151303.98\n",
              "1202 - Devolução venda de mercadoria adquirida        203.84\n",
              "1403 - Compra para comercialização ST              174047.52\n",
              "1653 - Compra de combustível ou lubrificante        64603.28\n",
              "1922 - Simples faturamento para entrega futura      18405.89\n",
              "2653 - Compra de combustível ou lubrificante       234258.57\n",
              "6556 - Devolução de material de uso ou consumo        324.48\n",
              "Name: Valor da Nota Fiscal - Compra, dtype: float64"
            ]
          },
          "metadata": {},
          "execution_count": 327
        }
      ]
    },
    {
      "cell_type": "code",
      "metadata": {
        "colab": {
          "base_uri": "https://localhost:8080/",
          "height": 330
        },
        "id": "gljEu0nQuq3V",
        "outputId": "6ccabd4d-80cd-4896-cf05-e06a816c0958"
      },
      "source": [
        "#Gráfico de Pizza\n",
        "dfcompras[\"Natureza Operação  - Compra\"].value_counts().plot.pie()\n",
        "plt.ylabel(\"Tipos de Compras no mês\");"
      ],
      "execution_count": 328,
      "outputs": [
        {
          "output_type": "display_data",
          "data": {
            "image/png": "[encoded data removed]",
            "text/plain": [
              "<Figure size 576x396 with 1 Axes>"
            ]
          },
          "metadata": {}
        }
      ]
    },
    {
      "cell_type": "code",
      "metadata": {
        "colab": {
          "base_uri": "https://localhost:8080/",
          "height": 297
        },
        "id": "uRnt4eP5bxKZ",
        "outputId": "ee63a44b-b040-4ebf-b31b-2e2e64a0c9aa"
      },
      "source": [
        "#Estatísticas\n",
        "dfcompras.describe()"
      ],
      "execution_count": 329,
      "outputs": [
        {
          "output_type": "execute_result",
          "data": {
            "text/html": [
              "<div>\n",
              "<style scoped>\n",
              "    .dataframe tbody tr th:only-of-type {\n",
              "        vertical-align: middle;\n",
              "    }\n",
              "\n",
              "    .dataframe tbody tr th {\n",
              "        vertical-align: top;\n",
              "    }\n",
              "\n",
              "    .dataframe thead th {\n",
              "        text-align: right;\n",
              "    }\n",
              "</style>\n",
              "<table border=\"1\" class=\"dataframe\">\n",
              "  <thead>\n",
              "    <tr style=\"text-align: right;\">\n",
              "      <th></th>\n",
              "      <th>Valor da Nota Fiscal - Compra</th>\n",
              "      <th>Valor dos Produtos - Compra</th>\n",
              "      <th>Total ICMS - Compra</th>\n",
              "      <th>Total IPI - Compra</th>\n",
              "    </tr>\n",
              "  </thead>\n",
              "  <tbody>\n",
              "    <tr>\n",
              "      <th>count</th>\n",
              "      <td>86.000000</td>\n",
              "      <td>86.000000</td>\n",
              "      <td>86.000000</td>\n",
              "      <td>86.000000</td>\n",
              "    </tr>\n",
              "    <tr>\n",
              "      <th>mean</th>\n",
              "      <td>19106.366977</td>\n",
              "      <td>16313.183488</td>\n",
              "      <td>1043.616047</td>\n",
              "      <td>441.680814</td>\n",
              "    </tr>\n",
              "    <tr>\n",
              "      <th>std</th>\n",
              "      <td>33952.861869</td>\n",
              "      <td>29374.947008</td>\n",
              "      <td>2356.979240</td>\n",
              "      <td>1210.171742</td>\n",
              "    </tr>\n",
              "    <tr>\n",
              "      <th>min</th>\n",
              "      <td>20.000000</td>\n",
              "      <td>20.000000</td>\n",
              "      <td>0.000000</td>\n",
              "      <td>0.000000</td>\n",
              "    </tr>\n",
              "    <tr>\n",
              "      <th>25%</th>\n",
              "      <td>569.832500</td>\n",
              "      <td>564.922500</td>\n",
              "      <td>0.000000</td>\n",
              "      <td>0.000000</td>\n",
              "    </tr>\n",
              "    <tr>\n",
              "      <th>50%</th>\n",
              "      <td>2046.745000</td>\n",
              "      <td>2163.450000</td>\n",
              "      <td>40.710000</td>\n",
              "      <td>0.000000</td>\n",
              "    </tr>\n",
              "    <tr>\n",
              "      <th>75%</th>\n",
              "      <td>20402.442500</td>\n",
              "      <td>15257.627500</td>\n",
              "      <td>503.375000</td>\n",
              "      <td>61.717500</td>\n",
              "    </tr>\n",
              "    <tr>\n",
              "      <th>max</th>\n",
              "      <td>163145.140000</td>\n",
              "      <td>125979.840000</td>\n",
              "      <td>14687.290000</td>\n",
              "      <td>7415.680000</td>\n",
              "    </tr>\n",
              "  </tbody>\n",
              "</table>\n",
              "</div>"
            ],
            "text/plain": [
              "       Valor da Nota Fiscal - Compra  ...  Total IPI - Compra\n",
              "count                      86.000000  ...           86.000000\n",
              "mean                    19106.366977  ...          441.680814\n",
              "std                     33952.861869  ...         1210.171742\n",
              "min                        20.000000  ...            0.000000\n",
              "25%                       569.832500  ...            0.000000\n",
              "50%                      2046.745000  ...            0.000000\n",
              "75%                     20402.442500  ...           61.717500\n",
              "max                    163145.140000  ...         7415.680000\n",
              "\n",
              "[8 rows x 4 columns]"
            ]
          },
          "metadata": {},
          "execution_count": 329
        }
      ]
    },
    {
      "cell_type": "markdown",
      "metadata": {
        "id": "_LO-qBJJ0Nt3"
      },
      "source": [
        "#*Análise da Planilha com Notas Fiscais de Vendas*"
      ]
    },
    {
      "cell_type": "code",
      "metadata": {
        "id": "cNcU4NdOAXVz"
      },
      "source": [
        "#Criando DataFrame de Vendas\n",
        "dfvendas = pd.read_excel(\"RelatorioNFe-saidas_limpa.xlsx\")"
      ],
      "execution_count": 330,
      "outputs": []
    },
    {
      "cell_type": "code",
      "metadata": {
        "colab": {
          "base_uri": "https://localhost:8080/",
          "height": 459
        },
        "id": "v4Bl3V3ZAp1w",
        "outputId": "7c2ecfb1-f58b-40e6-9501-873ff63c0d03"
      },
      "source": [
        "#Visualizando as 5 primeiras linhas\n",
        "dfvendas.head()"
      ],
      "execution_count": 331,
      "outputs": [
        {
          "output_type": "execute_result",
          "data": {
            "text/html": [
              "<div>\n",
              "<style scoped>\n",
              "    .dataframe tbody tr th:only-of-type {\n",
              "        vertical-align: middle;\n",
              "    }\n",
              "\n",
              "    .dataframe tbody tr th {\n",
              "        vertical-align: top;\n",
              "    }\n",
              "\n",
              "    .dataframe thead th {\n",
              "        text-align: right;\n",
              "    }\n",
              "</style>\n",
              "<table border=\"1\" class=\"dataframe\">\n",
              "  <thead>\n",
              "    <tr style=\"text-align: right;\">\n",
              "      <th></th>\n",
              "      <th>Nº da Nota - Venda</th>\n",
              "      <th>Tipo Oper. - Venda</th>\n",
              "      <th>Natureza Operação - Venda</th>\n",
              "      <th>CNPJ Destinatário - Venda</th>\n",
              "      <th>Razão Social Destinatário - Venda</th>\n",
              "      <th>UF Dest - Venda</th>\n",
              "      <th>CNPJ Emitente - Venda</th>\n",
              "      <th>Razão Social Emitente - Venda</th>\n",
              "      <th>Valor da Nota Fiscal - Venda</th>\n",
              "      <th>Emissão - Venda</th>\n",
              "      <th>Data Entr. Saída - Venda</th>\n",
              "      <th>Valor dos Produtos - Venda</th>\n",
              "      <th>Total ICMS - Venda</th>\n",
              "      <th>Total IPI - Venda</th>\n",
              "      <th>Forma de Pagamento - Venda</th>\n",
              "    </tr>\n",
              "  </thead>\n",
              "  <tbody>\n",
              "    <tr>\n",
              "      <th>0</th>\n",
              "      <td>43363</td>\n",
              "      <td>1 - Saída</td>\n",
              "      <td>5102 - Venda de mercadoria</td>\n",
              "      <td>19.697.697/0001-66</td>\n",
              "      <td>CAITANO PAPEL</td>\n",
              "      <td>MG</td>\n",
              "      <td>17.011.236/0001-59</td>\n",
              "      <td>COMERCIAL CELULOSE S.A.</td>\n",
              "      <td>2034.66</td>\n",
              "      <td>2021-07-01</td>\n",
              "      <td>-</td>\n",
              "      <td>2034.66</td>\n",
              "      <td>0.0</td>\n",
              "      <td>0.0</td>\n",
              "      <td>28 DIAS</td>\n",
              "    </tr>\n",
              "    <tr>\n",
              "      <th>1</th>\n",
              "      <td>43364</td>\n",
              "      <td>1 - Saída</td>\n",
              "      <td>5102 - Venda de mercadoria</td>\n",
              "      <td>76.977.957/0001-46</td>\n",
              "      <td>MAIA PAPEL</td>\n",
              "      <td>MG</td>\n",
              "      <td>17.011.236/0001-59</td>\n",
              "      <td>COMERCIAL CELULOSE S.A.</td>\n",
              "      <td>646.56</td>\n",
              "      <td>2021-07-01</td>\n",
              "      <td>-</td>\n",
              "      <td>646.56</td>\n",
              "      <td>0.0</td>\n",
              "      <td>0.0</td>\n",
              "      <td>A VISTA</td>\n",
              "    </tr>\n",
              "    <tr>\n",
              "      <th>2</th>\n",
              "      <td>43365</td>\n",
              "      <td>1 - Saída</td>\n",
              "      <td>5102 - Venda de mercadoria</td>\n",
              "      <td>59.961.974/0001-74</td>\n",
              "      <td>SILVA PAPEL</td>\n",
              "      <td>MG</td>\n",
              "      <td>17.011.236/0001-59</td>\n",
              "      <td>COMERCIAL CELULOSE S.A.</td>\n",
              "      <td>759.60</td>\n",
              "      <td>2021-07-01</td>\n",
              "      <td>-</td>\n",
              "      <td>759.60</td>\n",
              "      <td>0.0</td>\n",
              "      <td>0.0</td>\n",
              "      <td>A VISTA</td>\n",
              "    </tr>\n",
              "    <tr>\n",
              "      <th>3</th>\n",
              "      <td>43366</td>\n",
              "      <td>1 - Saída</td>\n",
              "      <td>5102 - Venda de mercadoria</td>\n",
              "      <td>17.466.499/0001-00</td>\n",
              "      <td>SPARTA CENTRO ESCRITORIO LTDA</td>\n",
              "      <td>MG</td>\n",
              "      <td>17.011.236/0001-59</td>\n",
              "      <td>COMERCIAL CELULOSE S.A.</td>\n",
              "      <td>813.60</td>\n",
              "      <td>2021-07-01</td>\n",
              "      <td>-</td>\n",
              "      <td>813.60</td>\n",
              "      <td>0.0</td>\n",
              "      <td>0.0</td>\n",
              "      <td>A VISTA</td>\n",
              "    </tr>\n",
              "    <tr>\n",
              "      <th>4</th>\n",
              "      <td>43367</td>\n",
              "      <td>1 - Saída</td>\n",
              "      <td>5102 - Venda de mercadoria</td>\n",
              "      <td>19.197.619/0001-96</td>\n",
              "      <td>COMERCIO DE BOBINAS LTDA</td>\n",
              "      <td>MG</td>\n",
              "      <td>17.011.236/0001-59</td>\n",
              "      <td>COMERCIAL CELULOSE S.A.</td>\n",
              "      <td>762.00</td>\n",
              "      <td>2021-07-01</td>\n",
              "      <td>-</td>\n",
              "      <td>762.00</td>\n",
              "      <td>0.0</td>\n",
              "      <td>0.0</td>\n",
              "      <td>A VISTA</td>\n",
              "    </tr>\n",
              "  </tbody>\n",
              "</table>\n",
              "</div>"
            ],
            "text/plain": [
              "   Nº da Nota - Venda  ... Forma de Pagamento - Venda\n",
              "0               43363  ...                    28 DIAS\n",
              "1               43364  ...                    A VISTA\n",
              "2               43365  ...                    A VISTA\n",
              "3               43366  ...                    A VISTA\n",
              "4               43367  ...                    A VISTA\n",
              "\n",
              "[5 rows x 15 columns]"
            ]
          },
          "metadata": {},
          "execution_count": 331
        }
      ]
    },
    {
      "cell_type": "code",
      "metadata": {
        "colab": {
          "base_uri": "https://localhost:8080/"
        },
        "id": "iRAJuZSOA-XT",
        "outputId": "ec241f20-a3df-4106-97ca-f3a9eef74211"
      },
      "source": [
        "#Quantidade de linhas e colunas\n",
        "dfvendas.shape"
      ],
      "execution_count": 332,
      "outputs": [
        {
          "output_type": "execute_result",
          "data": {
            "text/plain": [
              "(1483, 15)"
            ]
          },
          "metadata": {},
          "execution_count": 332
        }
      ]
    },
    {
      "cell_type": "code",
      "metadata": {
        "colab": {
          "base_uri": "https://localhost:8080/"
        },
        "id": "EBXkraJjBFGq",
        "outputId": "e08aa9e9-c754-471b-954b-49adc821f8db"
      },
      "source": [
        "#Verificando os tipos de dados\n",
        "dfvendas.dtypes"
      ],
      "execution_count": 333,
      "outputs": [
        {
          "output_type": "execute_result",
          "data": {
            "text/plain": [
              "Nº da Nota - Venda                     int64\n",
              "Tipo Oper. - Venda                    object\n",
              "Natureza Operação - Venda             object\n",
              "CNPJ Destinatário - Venda             object\n",
              "Razão Social Destinatário - Venda     object\n",
              "UF Dest - Venda                       object\n",
              "CNPJ Emitente - Venda                 object\n",
              "Razão Social Emitente - Venda         object\n",
              "Valor da Nota Fiscal - Venda         float64\n",
              "Emissão - Venda                       object\n",
              "Data Entr. Saída - Venda              object\n",
              "Valor dos Produtos - Venda           float64\n",
              "Total ICMS - Venda                   float64\n",
              "Total IPI - Venda                    float64\n",
              "Forma de Pagamento - Venda            object\n",
              "dtype: object"
            ]
          },
          "metadata": {},
          "execution_count": 333
        }
      ]
    },
    {
      "cell_type": "code",
      "metadata": {
        "id": "9I9JpluwBLna"
      },
      "source": [
        "#Alterando o tipo de dado das colunas Compras\n",
        "dfvendas[\"Nº da Nota - Venda\"] = dfvendas[\"Nº da Nota - Venda\"].astype(\"object\")\n",
        "dfvendas[\"Emissão - Venda\"] = dfvendas[\"Emissão - Venda\"].astype(\"datetime64[ns]\")"
      ],
      "execution_count": 334,
      "outputs": []
    },
    {
      "cell_type": "code",
      "metadata": {
        "colab": {
          "base_uri": "https://localhost:8080/"
        },
        "id": "BZW_1mPLBcCy",
        "outputId": "5c21c010-9eb9-424d-f41e-9db2db0b5773"
      },
      "source": [
        "#Verificando os tipos de dados\n",
        "dfvendas.dtypes"
      ],
      "execution_count": 335,
      "outputs": [
        {
          "output_type": "execute_result",
          "data": {
            "text/plain": [
              "Nº da Nota - Venda                           object\n",
              "Tipo Oper. - Venda                           object\n",
              "Natureza Operação - Venda                    object\n",
              "CNPJ Destinatário - Venda                    object\n",
              "Razão Social Destinatário - Venda            object\n",
              "UF Dest - Venda                              object\n",
              "CNPJ Emitente - Venda                        object\n",
              "Razão Social Emitente - Venda                object\n",
              "Valor da Nota Fiscal - Venda                float64\n",
              "Emissão - Venda                      datetime64[ns]\n",
              "Data Entr. Saída - Venda                     object\n",
              "Valor dos Produtos - Venda                  float64\n",
              "Total ICMS - Venda                          float64\n",
              "Total IPI - Venda                           float64\n",
              "Forma de Pagamento - Venda                   object\n",
              "dtype: object"
            ]
          },
          "metadata": {},
          "execution_count": 335
        }
      ]
    },
    {
      "cell_type": "code",
      "metadata": {
        "colab": {
          "base_uri": "https://localhost:8080/"
        },
        "id": "y61eMT95Bi-R",
        "outputId": "c0ac3c38-fd51-4564-ce23-430c9dc8433e"
      },
      "source": [
        "#Consultando linhas com valores faltantes\n",
        "dfvendas.isnull().sum()"
      ],
      "execution_count": 336,
      "outputs": [
        {
          "output_type": "execute_result",
          "data": {
            "text/plain": [
              "Nº da Nota - Venda                   0\n",
              "Tipo Oper. - Venda                   0\n",
              "Natureza Operação - Venda            0\n",
              "CNPJ Destinatário - Venda            0\n",
              "Razão Social Destinatário - Venda    0\n",
              "UF Dest - Venda                      0\n",
              "CNPJ Emitente - Venda                0\n",
              "Razão Social Emitente - Venda        0\n",
              "Valor da Nota Fiscal - Venda         0\n",
              "Emissão - Venda                      0\n",
              "Data Entr. Saída - Venda             0\n",
              "Valor dos Produtos - Venda           0\n",
              "Total ICMS - Venda                   0\n",
              "Total IPI - Venda                    0\n",
              "Forma de Pagamento - Venda           0\n",
              "dtype: int64"
            ]
          },
          "metadata": {},
          "execution_count": 336
        }
      ]
    },
    {
      "cell_type": "code",
      "metadata": {
        "colab": {
          "base_uri": "https://localhost:8080/",
          "height": 346
        },
        "id": "zO2j1xIoBqPW",
        "outputId": "dcfed835-7683-4c82-89f3-ffc6c47302b7"
      },
      "source": [
        "dfvendas.sample(3)"
      ],
      "execution_count": 337,
      "outputs": [
        {
          "output_type": "execute_result",
          "data": {
            "text/html": [
              "<div>\n",
              "<style scoped>\n",
              "    .dataframe tbody tr th:only-of-type {\n",
              "        vertical-align: middle;\n",
              "    }\n",
              "\n",
              "    .dataframe tbody tr th {\n",
              "        vertical-align: top;\n",
              "    }\n",
              "\n",
              "    .dataframe thead th {\n",
              "        text-align: right;\n",
              "    }\n",
              "</style>\n",
              "<table border=\"1\" class=\"dataframe\">\n",
              "  <thead>\n",
              "    <tr style=\"text-align: right;\">\n",
              "      <th></th>\n",
              "      <th>Nº da Nota - Venda</th>\n",
              "      <th>Tipo Oper. - Venda</th>\n",
              "      <th>Natureza Operação - Venda</th>\n",
              "      <th>CNPJ Destinatário - Venda</th>\n",
              "      <th>Razão Social Destinatário - Venda</th>\n",
              "      <th>UF Dest - Venda</th>\n",
              "      <th>CNPJ Emitente - Venda</th>\n",
              "      <th>Razão Social Emitente - Venda</th>\n",
              "      <th>Valor da Nota Fiscal - Venda</th>\n",
              "      <th>Emissão - Venda</th>\n",
              "      <th>Data Entr. Saída - Venda</th>\n",
              "      <th>Valor dos Produtos - Venda</th>\n",
              "      <th>Total ICMS - Venda</th>\n",
              "      <th>Total IPI - Venda</th>\n",
              "      <th>Forma de Pagamento - Venda</th>\n",
              "    </tr>\n",
              "  </thead>\n",
              "  <tbody>\n",
              "    <tr>\n",
              "      <th>314</th>\n",
              "      <td>43385</td>\n",
              "      <td>1 - Saída</td>\n",
              "      <td>5102 - Venda de mercadoria</td>\n",
              "      <td>70.914.695/0001-00</td>\n",
              "      <td>O REI DO COLA CENTRO ESCRITORIO LTDA</td>\n",
              "      <td>MG</td>\n",
              "      <td>17.011.236/0001-59</td>\n",
              "      <td>COMERCIAL CELULOSE S.A.</td>\n",
              "      <td>3731.74</td>\n",
              "      <td>2021-07-07</td>\n",
              "      <td>-</td>\n",
              "      <td>3731.74</td>\n",
              "      <td>0.00</td>\n",
              "      <td>0.0</td>\n",
              "      <td>28 DIAS</td>\n",
              "    </tr>\n",
              "    <tr>\n",
              "      <th>845</th>\n",
              "      <td>43959</td>\n",
              "      <td>1 - Saída</td>\n",
              "      <td>5102 - Venda de mercadoria</td>\n",
              "      <td>56.794.596/0001-95</td>\n",
              "      <td>SALA ABASTECA AQUI ANEL LTDA</td>\n",
              "      <td>MG</td>\n",
              "      <td>17.011.236/0001-59</td>\n",
              "      <td>COMERCIAL CELULOSE S.A.</td>\n",
              "      <td>276.88</td>\n",
              "      <td>2021-07-19</td>\n",
              "      <td>-</td>\n",
              "      <td>276.88</td>\n",
              "      <td>19.74</td>\n",
              "      <td>0.0</td>\n",
              "      <td>A VISTA</td>\n",
              "    </tr>\n",
              "    <tr>\n",
              "      <th>213</th>\n",
              "      <td>43279</td>\n",
              "      <td>1 - Saída</td>\n",
              "      <td>5102 - Venda de mercadoria</td>\n",
              "      <td>11.757.771/0001-19</td>\n",
              "      <td>BH BOBINAS LTDA - ME</td>\n",
              "      <td>MG</td>\n",
              "      <td>17.011.236/0001-59</td>\n",
              "      <td>COMERCIAL CELULOSE S.A.</td>\n",
              "      <td>1885.84</td>\n",
              "      <td>2021-07-06</td>\n",
              "      <td>-</td>\n",
              "      <td>1885.84</td>\n",
              "      <td>0.00</td>\n",
              "      <td>0.0</td>\n",
              "      <td>28 DIAS</td>\n",
              "    </tr>\n",
              "  </tbody>\n",
              "</table>\n",
              "</div>"
            ],
            "text/plain": [
              "    Nº da Nota - Venda  ... Forma de Pagamento - Venda\n",
              "314              43385  ...                    28 DIAS\n",
              "845              43959  ...                    A VISTA\n",
              "213              43279  ...                    28 DIAS\n",
              "\n",
              "[3 rows x 15 columns]"
            ]
          },
          "metadata": {},
          "execution_count": 337
        }
      ]
    },
    {
      "cell_type": "code",
      "metadata": {
        "colab": {
          "base_uri": "https://localhost:8080/"
        },
        "id": "pA_67-UEByaz",
        "outputId": "1acc3cf0-fc54-4463-c555-7bba6de405d9"
      },
      "source": [
        "#Retornando a maior Venda do mês\n",
        "dfvendas[\"Valor da Nota Fiscal - Venda\"].max()"
      ],
      "execution_count": 338,
      "outputs": [
        {
          "output_type": "execute_result",
          "data": {
            "text/plain": [
              "62277.6"
            ]
          },
          "metadata": {},
          "execution_count": 338
        }
      ]
    },
    {
      "cell_type": "code",
      "metadata": {
        "colab": {
          "base_uri": "https://localhost:8080/"
        },
        "id": "1-Tp94owCDai",
        "outputId": "80673935-389d-45a4-df41-651131d5c306"
      },
      "source": [
        "#Retornando a menor Venda do mês\n",
        "dfvendas[\"Valor da Nota Fiscal - Venda\"].min()"
      ],
      "execution_count": 339,
      "outputs": [
        {
          "output_type": "execute_result",
          "data": {
            "text/plain": [
              "75.42"
            ]
          },
          "metadata": {},
          "execution_count": 339
        }
      ]
    },
    {
      "cell_type": "code",
      "metadata": {
        "colab": {
          "base_uri": "https://localhost:8080/"
        },
        "id": "lBU02i0ACRkB",
        "outputId": "002c2a1d-891b-43f4-c390-2c302717f49e"
      },
      "source": [
        "#Retornando a média das Vendas do mês\n",
        "round(dfvendas[\"Valor da Nota Fiscal - Venda\"].mean(), 2)"
      ],
      "execution_count": 340,
      "outputs": [
        {
          "output_type": "execute_result",
          "data": {
            "text/plain": [
              "1829.54"
            ]
          },
          "metadata": {},
          "execution_count": 340
        }
      ]
    },
    {
      "cell_type": "code",
      "metadata": {
        "colab": {
          "base_uri": "https://localhost:8080/",
          "height": 346
        },
        "id": "QVH5YQ_ZCjNk",
        "outputId": "6b11b3da-4e05-4716-99b7-d40be2eb1034"
      },
      "source": [
        "#Retonando em ordem decrescente 3 Maiores Compras\n",
        "dfvendas.nlargest(3, \"Valor da Nota Fiscal - Venda\")"
      ],
      "execution_count": 341,
      "outputs": [
        {
          "output_type": "execute_result",
          "data": {
            "text/html": [
              "<div>\n",
              "<style scoped>\n",
              "    .dataframe tbody tr th:only-of-type {\n",
              "        vertical-align: middle;\n",
              "    }\n",
              "\n",
              "    .dataframe tbody tr th {\n",
              "        vertical-align: top;\n",
              "    }\n",
              "\n",
              "    .dataframe thead th {\n",
              "        text-align: right;\n",
              "    }\n",
              "</style>\n",
              "<table border=\"1\" class=\"dataframe\">\n",
              "  <thead>\n",
              "    <tr style=\"text-align: right;\">\n",
              "      <th></th>\n",
              "      <th>Nº da Nota - Venda</th>\n",
              "      <th>Tipo Oper. - Venda</th>\n",
              "      <th>Natureza Operação - Venda</th>\n",
              "      <th>CNPJ Destinatário - Venda</th>\n",
              "      <th>Razão Social Destinatário - Venda</th>\n",
              "      <th>UF Dest - Venda</th>\n",
              "      <th>CNPJ Emitente - Venda</th>\n",
              "      <th>Razão Social Emitente - Venda</th>\n",
              "      <th>Valor da Nota Fiscal - Venda</th>\n",
              "      <th>Emissão - Venda</th>\n",
              "      <th>Data Entr. Saída - Venda</th>\n",
              "      <th>Valor dos Produtos - Venda</th>\n",
              "      <th>Total ICMS - Venda</th>\n",
              "      <th>Total IPI - Venda</th>\n",
              "      <th>Forma de Pagamento - Venda</th>\n",
              "    </tr>\n",
              "  </thead>\n",
              "  <tbody>\n",
              "    <tr>\n",
              "      <th>757</th>\n",
              "      <td>43833</td>\n",
              "      <td>1 - Saída</td>\n",
              "      <td>5102 - Venda de mercadoria</td>\n",
              "      <td>16.655.965/0001-96</td>\n",
              "      <td>CEDA BITTS LTDA</td>\n",
              "      <td>MG</td>\n",
              "      <td>17.011.236/0001-59</td>\n",
              "      <td>COMERCIAL CELULOSE S.A.</td>\n",
              "      <td>62277.6</td>\n",
              "      <td>2021-07-15</td>\n",
              "      <td>-</td>\n",
              "      <td>62277.6</td>\n",
              "      <td>0.0</td>\n",
              "      <td>0.0</td>\n",
              "      <td>42 Dias</td>\n",
              "    </tr>\n",
              "    <tr>\n",
              "      <th>508</th>\n",
              "      <td>44479</td>\n",
              "      <td>1 - Saída</td>\n",
              "      <td>5102 - Venda de mercadoria</td>\n",
              "      <td>50.999.976/0001-99</td>\n",
              "      <td>RFX DISTRIBUIDORA DE PRODUTOS ESCRITORIOS LTDA</td>\n",
              "      <td>MG</td>\n",
              "      <td>17.011.236/0001-59</td>\n",
              "      <td>COMERCIAL CELULOSE S.A.</td>\n",
              "      <td>56410.4</td>\n",
              "      <td>2021-07-12</td>\n",
              "      <td>-</td>\n",
              "      <td>56410.4</td>\n",
              "      <td>0.0</td>\n",
              "      <td>0.0</td>\n",
              "      <td>42 Dias</td>\n",
              "    </tr>\n",
              "    <tr>\n",
              "      <th>1434</th>\n",
              "      <td>44553</td>\n",
              "      <td>1 - Saída</td>\n",
              "      <td>5102 - Venda de mercadoria</td>\n",
              "      <td>79.771.717/0001-96</td>\n",
              "      <td>LIDER PAPEL PECAS LTDA</td>\n",
              "      <td>MG</td>\n",
              "      <td>17.011.236/0001-59</td>\n",
              "      <td>COMERCIAL CELULOSE S.A.</td>\n",
              "      <td>32393.2</td>\n",
              "      <td>2021-07-30</td>\n",
              "      <td>-</td>\n",
              "      <td>32393.2</td>\n",
              "      <td>0.0</td>\n",
              "      <td>0.0</td>\n",
              "      <td>42 Dias</td>\n",
              "    </tr>\n",
              "  </tbody>\n",
              "</table>\n",
              "</div>"
            ],
            "text/plain": [
              "     Nº da Nota - Venda  ... Forma de Pagamento - Venda\n",
              "757               43833  ...                    42 Dias\n",
              "508               44479  ...                    42 Dias\n",
              "1434              44553  ...                    42 Dias\n",
              "\n",
              "[3 rows x 15 columns]"
            ]
          },
          "metadata": {},
          "execution_count": 341
        }
      ]
    },
    {
      "cell_type": "code",
      "metadata": {
        "colab": {
          "base_uri": "https://localhost:8080/",
          "height": 380
        },
        "id": "nvB4aevlCuP_",
        "outputId": "101c0b56-65d3-4a98-ee6f-10e605c4e372"
      },
      "source": [
        "#Retonando em ordem crescente 3 Menores Compras\n",
        "dfvendas.nsmallest(3, \"Valor da Nota Fiscal - Venda\")"
      ],
      "execution_count": 342,
      "outputs": [
        {
          "output_type": "execute_result",
          "data": {
            "text/html": [
              "<div>\n",
              "<style scoped>\n",
              "    .dataframe tbody tr th:only-of-type {\n",
              "        vertical-align: middle;\n",
              "    }\n",
              "\n",
              "    .dataframe tbody tr th {\n",
              "        vertical-align: top;\n",
              "    }\n",
              "\n",
              "    .dataframe thead th {\n",
              "        text-align: right;\n",
              "    }\n",
              "</style>\n",
              "<table border=\"1\" class=\"dataframe\">\n",
              "  <thead>\n",
              "    <tr style=\"text-align: right;\">\n",
              "      <th></th>\n",
              "      <th>Nº da Nota - Venda</th>\n",
              "      <th>Tipo Oper. - Venda</th>\n",
              "      <th>Natureza Operação - Venda</th>\n",
              "      <th>CNPJ Destinatário - Venda</th>\n",
              "      <th>Razão Social Destinatário - Venda</th>\n",
              "      <th>UF Dest - Venda</th>\n",
              "      <th>CNPJ Emitente - Venda</th>\n",
              "      <th>Razão Social Emitente - Venda</th>\n",
              "      <th>Valor da Nota Fiscal - Venda</th>\n",
              "      <th>Emissão - Venda</th>\n",
              "      <th>Data Entr. Saída - Venda</th>\n",
              "      <th>Valor dos Produtos - Venda</th>\n",
              "      <th>Total ICMS - Venda</th>\n",
              "      <th>Total IPI - Venda</th>\n",
              "      <th>Forma de Pagamento - Venda</th>\n",
              "    </tr>\n",
              "  </thead>\n",
              "  <tbody>\n",
              "    <tr>\n",
              "      <th>775</th>\n",
              "      <td>43848</td>\n",
              "      <td>1 - Saída</td>\n",
              "      <td>5202 - Devolução de compra para comercialização</td>\n",
              "      <td>00.616.970/0005-06</td>\n",
              "      <td>TECLUB INDUSTRIA E COMERCIO DE BOBINAS LTDA</td>\n",
              "      <td>PR</td>\n",
              "      <td>17.011.236/0001-59</td>\n",
              "      <td>COMERCIAL CELULOSE S.A.</td>\n",
              "      <td>75.42</td>\n",
              "      <td>2021-07-16</td>\n",
              "      <td>-</td>\n",
              "      <td>58.97</td>\n",
              "      <td>0.00</td>\n",
              "      <td>0.0</td>\n",
              "      <td>A VISTA</td>\n",
              "    </tr>\n",
              "    <tr>\n",
              "      <th>55</th>\n",
              "      <td>43558</td>\n",
              "      <td>1 - Saída</td>\n",
              "      <td>5102 - Venda de mercadoria</td>\n",
              "      <td>41.517.704/0001-50</td>\n",
              "      <td>SAO CRISTOVAO ESCRITORIO LTDA</td>\n",
              "      <td>MG</td>\n",
              "      <td>17.011.236/0001-59</td>\n",
              "      <td>COMERCIAL CELULOSE S.A.</td>\n",
              "      <td>106.08</td>\n",
              "      <td>2021-07-01</td>\n",
              "      <td>-</td>\n",
              "      <td>106.08</td>\n",
              "      <td>19.09</td>\n",
              "      <td>0.0</td>\n",
              "      <td>A VISTA</td>\n",
              "    </tr>\n",
              "    <tr>\n",
              "      <th>428</th>\n",
              "      <td>43498</td>\n",
              "      <td>1 - Saída</td>\n",
              "      <td>5102 - Venda de mercadoria</td>\n",
              "      <td>19.999.667/0001-99</td>\n",
              "      <td>MARCHALENTA CEDA SERVICOS LTDA</td>\n",
              "      <td>MG</td>\n",
              "      <td>17.011.236/0001-59</td>\n",
              "      <td>COMERCIAL CELULOSE S.A.</td>\n",
              "      <td>124.45</td>\n",
              "      <td>2021-07-09</td>\n",
              "      <td>-</td>\n",
              "      <td>124.45</td>\n",
              "      <td>8.42</td>\n",
              "      <td>0.0</td>\n",
              "      <td>A VISTA</td>\n",
              "    </tr>\n",
              "  </tbody>\n",
              "</table>\n",
              "</div>"
            ],
            "text/plain": [
              "    Nº da Nota - Venda  ... Forma de Pagamento - Venda\n",
              "775              43848  ...                    A VISTA\n",
              "55               43558  ...                    A VISTA\n",
              "428              43498  ...                    A VISTA\n",
              "\n",
              "[3 rows x 15 columns]"
            ]
          },
          "metadata": {},
          "execution_count": 342
        }
      ]
    },
    {
      "cell_type": "code",
      "metadata": {
        "colab": {
          "base_uri": "https://localhost:8080/",
          "height": 801
        },
        "id": "UWqITyG5C831",
        "outputId": "939437a5-1a13-41ed-a4c7-f8c1020c7420"
      },
      "source": [
        "#Ordenando o conjunto de dados\n",
        "dfvendas.sort_values(\"Valor da Nota Fiscal - Venda\", ascending=False).head(10)"
      ],
      "execution_count": 343,
      "outputs": [
        {
          "output_type": "execute_result",
          "data": {
            "text/html": [
              "<div>\n",
              "<style scoped>\n",
              "    .dataframe tbody tr th:only-of-type {\n",
              "        vertical-align: middle;\n",
              "    }\n",
              "\n",
              "    .dataframe tbody tr th {\n",
              "        vertical-align: top;\n",
              "    }\n",
              "\n",
              "    .dataframe thead th {\n",
              "        text-align: right;\n",
              "    }\n",
              "</style>\n",
              "<table border=\"1\" class=\"dataframe\">\n",
              "  <thead>\n",
              "    <tr style=\"text-align: right;\">\n",
              "      <th></th>\n",
              "      <th>Nº da Nota - Venda</th>\n",
              "      <th>Tipo Oper. - Venda</th>\n",
              "      <th>Natureza Operação - Venda</th>\n",
              "      <th>CNPJ Destinatário - Venda</th>\n",
              "      <th>Razão Social Destinatário - Venda</th>\n",
              "      <th>UF Dest - Venda</th>\n",
              "      <th>CNPJ Emitente - Venda</th>\n",
              "      <th>Razão Social Emitente - Venda</th>\n",
              "      <th>Valor da Nota Fiscal - Venda</th>\n",
              "      <th>Emissão - Venda</th>\n",
              "      <th>Data Entr. Saída - Venda</th>\n",
              "      <th>Valor dos Produtos - Venda</th>\n",
              "      <th>Total ICMS - Venda</th>\n",
              "      <th>Total IPI - Venda</th>\n",
              "      <th>Forma de Pagamento - Venda</th>\n",
              "    </tr>\n",
              "  </thead>\n",
              "  <tbody>\n",
              "    <tr>\n",
              "      <th>757</th>\n",
              "      <td>43833</td>\n",
              "      <td>1 - Saída</td>\n",
              "      <td>5102 - Venda de mercadoria</td>\n",
              "      <td>16.655.965/0001-96</td>\n",
              "      <td>CEDA BITTS LTDA</td>\n",
              "      <td>MG</td>\n",
              "      <td>17.011.236/0001-59</td>\n",
              "      <td>COMERCIAL CELULOSE S.A.</td>\n",
              "      <td>62277.60</td>\n",
              "      <td>2021-07-15</td>\n",
              "      <td>-</td>\n",
              "      <td>62277.60</td>\n",
              "      <td>0.00</td>\n",
              "      <td>0.0</td>\n",
              "      <td>42 Dias</td>\n",
              "    </tr>\n",
              "    <tr>\n",
              "      <th>508</th>\n",
              "      <td>44479</td>\n",
              "      <td>1 - Saída</td>\n",
              "      <td>5102 - Venda de mercadoria</td>\n",
              "      <td>50.999.976/0001-99</td>\n",
              "      <td>RFX DISTRIBUIDORA DE PRODUTOS ESCRITORIOS LTDA</td>\n",
              "      <td>MG</td>\n",
              "      <td>17.011.236/0001-59</td>\n",
              "      <td>COMERCIAL CELULOSE S.A.</td>\n",
              "      <td>56410.40</td>\n",
              "      <td>2021-07-12</td>\n",
              "      <td>-</td>\n",
              "      <td>56410.40</td>\n",
              "      <td>0.00</td>\n",
              "      <td>0.0</td>\n",
              "      <td>42 Dias</td>\n",
              "    </tr>\n",
              "    <tr>\n",
              "      <th>1434</th>\n",
              "      <td>44553</td>\n",
              "      <td>1 - Saída</td>\n",
              "      <td>5102 - Venda de mercadoria</td>\n",
              "      <td>79.771.717/0001-96</td>\n",
              "      <td>LIDER PAPEL PECAS LTDA</td>\n",
              "      <td>MG</td>\n",
              "      <td>17.011.236/0001-59</td>\n",
              "      <td>COMERCIAL CELULOSE S.A.</td>\n",
              "      <td>32393.20</td>\n",
              "      <td>2021-07-30</td>\n",
              "      <td>-</td>\n",
              "      <td>32393.20</td>\n",
              "      <td>0.00</td>\n",
              "      <td>0.0</td>\n",
              "      <td>42 Dias</td>\n",
              "    </tr>\n",
              "    <tr>\n",
              "      <th>1016</th>\n",
              "      <td>44395</td>\n",
              "      <td>1 - Saída</td>\n",
              "      <td>5102 - Venda de mercadoria</td>\n",
              "      <td>57.196.166/0001-60</td>\n",
              "      <td>OTHON LUB LTDA - EPP</td>\n",
              "      <td>MG</td>\n",
              "      <td>17.011.236/0001-59</td>\n",
              "      <td>COMERCIAL CELULOSE S.A.</td>\n",
              "      <td>26880.00</td>\n",
              "      <td>2021-07-21</td>\n",
              "      <td>-</td>\n",
              "      <td>26880.00</td>\n",
              "      <td>0.00</td>\n",
              "      <td>0.0</td>\n",
              "      <td>42 Dias</td>\n",
              "    </tr>\n",
              "    <tr>\n",
              "      <th>1291</th>\n",
              "      <td>44369</td>\n",
              "      <td>1 - Saída</td>\n",
              "      <td>5102 - Venda de mercadoria</td>\n",
              "      <td>17.960.090/0001-66</td>\n",
              "      <td>CEDA SALA TREVINHO LTDA</td>\n",
              "      <td>MG</td>\n",
              "      <td>17.011.236/0001-59</td>\n",
              "      <td>COMERCIAL CELULOSE S.A.</td>\n",
              "      <td>25884.93</td>\n",
              "      <td>2021-07-28</td>\n",
              "      <td>-</td>\n",
              "      <td>25884.93</td>\n",
              "      <td>651.78</td>\n",
              "      <td>0.0</td>\n",
              "      <td>42 Dias</td>\n",
              "    </tr>\n",
              "    <tr>\n",
              "      <th>532</th>\n",
              "      <td>43633</td>\n",
              "      <td>1 - Saída</td>\n",
              "      <td>5102 - Venda de mercadoria</td>\n",
              "      <td>01.970.179/0001-77</td>\n",
              "      <td>CELT LTDA</td>\n",
              "      <td>MG</td>\n",
              "      <td>17.011.236/0001-59</td>\n",
              "      <td>COMERCIAL CELULOSE S.A.</td>\n",
              "      <td>24687.19</td>\n",
              "      <td>2021-07-12</td>\n",
              "      <td>-</td>\n",
              "      <td>24687.19</td>\n",
              "      <td>0.00</td>\n",
              "      <td>0.0</td>\n",
              "      <td>42 Dias</td>\n",
              "    </tr>\n",
              "    <tr>\n",
              "      <th>749</th>\n",
              "      <td>43825</td>\n",
              "      <td>1 - Saída</td>\n",
              "      <td>5102 - Venda de mercadoria</td>\n",
              "      <td>16.655.965/0007-69</td>\n",
              "      <td>CEDA BITTS LTDA</td>\n",
              "      <td>MG</td>\n",
              "      <td>17.011.236/0001-59</td>\n",
              "      <td>COMERCIAL CELULOSE S.A.</td>\n",
              "      <td>23888.88</td>\n",
              "      <td>2021-07-15</td>\n",
              "      <td>-</td>\n",
              "      <td>23888.88</td>\n",
              "      <td>0.00</td>\n",
              "      <td>0.0</td>\n",
              "      <td>42 Dias</td>\n",
              "    </tr>\n",
              "    <tr>\n",
              "      <th>1375</th>\n",
              "      <td>44454</td>\n",
              "      <td>1 - Saída</td>\n",
              "      <td>5102 - Venda de mercadoria</td>\n",
              "      <td>57.196.166/0001-60</td>\n",
              "      <td>OTHON LUB LTDA - EPP</td>\n",
              "      <td>MG</td>\n",
              "      <td>17.011.236/0001-59</td>\n",
              "      <td>COMERCIAL CELULOSE S.A.</td>\n",
              "      <td>18930.00</td>\n",
              "      <td>2021-07-29</td>\n",
              "      <td>-</td>\n",
              "      <td>18930.00</td>\n",
              "      <td>0.00</td>\n",
              "      <td>0.0</td>\n",
              "      <td>42 Dias</td>\n",
              "    </tr>\n",
              "    <tr>\n",
              "      <th>291</th>\n",
              "      <td>43448</td>\n",
              "      <td>1 - Saída</td>\n",
              "      <td>5102 - Venda de mercadoria</td>\n",
              "      <td>79.771.717/0001-96</td>\n",
              "      <td>LIDER PAPEL PECAS LTDA</td>\n",
              "      <td>MG</td>\n",
              "      <td>17.011.236/0001-59</td>\n",
              "      <td>COMERCIAL CELULOSE S.A.</td>\n",
              "      <td>15173.20</td>\n",
              "      <td>2021-07-07</td>\n",
              "      <td>-</td>\n",
              "      <td>15173.20</td>\n",
              "      <td>0.00</td>\n",
              "      <td>0.0</td>\n",
              "      <td>42 Dias</td>\n",
              "    </tr>\n",
              "    <tr>\n",
              "      <th>770</th>\n",
              "      <td>43843</td>\n",
              "      <td>1 - Saída</td>\n",
              "      <td>5102 - Venda de mercadoria</td>\n",
              "      <td>16.655.965/0004-79</td>\n",
              "      <td>CEDA BITTS LTDA</td>\n",
              "      <td>MG</td>\n",
              "      <td>17.011.236/0001-59</td>\n",
              "      <td>COMERCIAL CELULOSE S.A.</td>\n",
              "      <td>14680.32</td>\n",
              "      <td>2021-07-16</td>\n",
              "      <td>-</td>\n",
              "      <td>14680.32</td>\n",
              "      <td>0.00</td>\n",
              "      <td>0.0</td>\n",
              "      <td>42 Dias</td>\n",
              "    </tr>\n",
              "  </tbody>\n",
              "</table>\n",
              "</div>"
            ],
            "text/plain": [
              "     Nº da Nota - Venda  ... Forma de Pagamento - Venda\n",
              "757               43833  ...                    42 Dias\n",
              "508               44479  ...                    42 Dias\n",
              "1434              44553  ...                    42 Dias\n",
              "1016              44395  ...                    42 Dias\n",
              "1291              44369  ...                    42 Dias\n",
              "532               43633  ...                    42 Dias\n",
              "749               43825  ...                    42 Dias\n",
              "1375              44454  ...                    42 Dias\n",
              "291               43448  ...                    42 Dias\n",
              "770               43843  ...                    42 Dias\n",
              "\n",
              "[10 rows x 15 columns]"
            ]
          },
          "metadata": {},
          "execution_count": 343
        }
      ]
    },
    {
      "cell_type": "code",
      "metadata": {
        "colab": {
          "base_uri": "https://localhost:8080/",
          "height": 347
        },
        "id": "4Rm0WBzuDHk4",
        "outputId": "37d30dc8-4fb8-44b0-c1ad-2f55fce52410"
      },
      "source": [
        "#Gráfico de barras horizontais\n",
        "#dfvendas[\"Razão Social Destinatário - Venda\"].value_counts(ascending=True).plot.barh();\n",
        "dfvendas10 = dfvendas.nlargest(10, \"Valor da Nota Fiscal - Venda\")\n",
        "dfvendas10[\"Razão Social Destinatário - Venda\"].value_counts(ascending=True).plot.barh();"
      ],
      "execution_count": 348,
      "outputs": [
        {
          "output_type": "display_data",
          "data": {
            "image/png": "[encoded data removed]",
            "text/plain": [
              "<Figure size 576x396 with 1 Axes>"
            ]
          },
          "metadata": {}
        }
      ]
    },
    {
      "cell_type": "code",
      "metadata": {
        "colab": {
          "base_uri": "https://localhost:8080/"
        },
        "id": "rfrBgxaODoFf",
        "outputId": "3864c0a7-6dfd-41f5-b37c-292a7f9b20ac"
      },
      "source": [
        "#Agrupamento Natureza da Operação (importante para apuração dos Créditos dos impostos)\n",
        "dfvendas.groupby(\"Natureza Operação - Venda\")[\"Valor da Nota Fiscal - Venda\"].sum()"
      ],
      "execution_count": 349,
      "outputs": [
        {
          "output_type": "execute_result",
          "data": {
            "text/plain": [
              "Natureza Operação - Venda\n",
              "5102 - Venda de mercadoria                         2696894.23\n",
              "5202 - Devolução de compra para comercialização      15955.43\n",
              "5910 - Remessa em bonificação                          354.40\n",
              "Name: Valor da Nota Fiscal - Venda, dtype: float64"
            ]
          },
          "metadata": {},
          "execution_count": 349
        }
      ]
    },
    {
      "cell_type": "code",
      "metadata": {
        "colab": {
          "base_uri": "https://localhost:8080/",
          "height": 344
        },
        "id": "4YmGnu3PD52q",
        "outputId": "909cbc57-a931-4b7e-f6ad-6ea7294cf04d"
      },
      "source": [
        "#Gráfico de Pizza\n",
        "dfvendas[\"Natureza Operação - Venda\"].value_counts().plot.pie()\n",
        "plt.xlabel(\"Tipos de Vendas no mês\");\n",
        "plt.ylabel(\"\");"
      ],
      "execution_count": 352,
      "outputs": [
        {
          "output_type": "display_data",
          "data": {
            "image/png": "[encoded data removed]",
            "text/plain": [
              "<Figure size 576x396 with 1 Axes>"
            ]
          },
          "metadata": {}
        }
      ]
    },
    {
      "cell_type": "code",
      "metadata": {
        "colab": {
          "base_uri": "https://localhost:8080/",
          "height": 297
        },
        "id": "z46sj7f321YB",
        "outputId": "37819acc-8af1-4b0d-ac0b-4d4664c50725"
      },
      "source": [
        "#Estatíticas\n",
        "dfvendas.describe()"
      ],
      "execution_count": 353,
      "outputs": [
        {
          "output_type": "execute_result",
          "data": {
            "text/html": [
              "<div>\n",
              "<style scoped>\n",
              "    .dataframe tbody tr th:only-of-type {\n",
              "        vertical-align: middle;\n",
              "    }\n",
              "\n",
              "    .dataframe tbody tr th {\n",
              "        vertical-align: top;\n",
              "    }\n",
              "\n",
              "    .dataframe thead th {\n",
              "        text-align: right;\n",
              "    }\n",
              "</style>\n",
              "<table border=\"1\" class=\"dataframe\">\n",
              "  <thead>\n",
              "    <tr style=\"text-align: right;\">\n",
              "      <th></th>\n",
              "      <th>Valor da Nota Fiscal - Venda</th>\n",
              "      <th>Valor dos Produtos - Venda</th>\n",
              "      <th>Total ICMS - Venda</th>\n",
              "      <th>Total IPI - Venda</th>\n",
              "    </tr>\n",
              "  </thead>\n",
              "  <tbody>\n",
              "    <tr>\n",
              "      <th>count</th>\n",
              "      <td>1483.000000</td>\n",
              "      <td>1483.000000</td>\n",
              "      <td>1483.000000</td>\n",
              "      <td>1483.0</td>\n",
              "    </tr>\n",
              "    <tr>\n",
              "      <th>mean</th>\n",
              "      <td>1829.537465</td>\n",
              "      <td>1826.478281</td>\n",
              "      <td>6.838672</td>\n",
              "      <td>0.0</td>\n",
              "    </tr>\n",
              "    <tr>\n",
              "      <th>std</th>\n",
              "      <td>3214.311593</td>\n",
              "      <td>3208.260327</td>\n",
              "      <td>30.885921</td>\n",
              "      <td>0.0</td>\n",
              "    </tr>\n",
              "    <tr>\n",
              "      <th>min</th>\n",
              "      <td>75.420000</td>\n",
              "      <td>58.970000</td>\n",
              "      <td>0.000000</td>\n",
              "      <td>0.0</td>\n",
              "    </tr>\n",
              "    <tr>\n",
              "      <th>25%</th>\n",
              "      <td>624.560000</td>\n",
              "      <td>624.560000</td>\n",
              "      <td>0.000000</td>\n",
              "      <td>0.0</td>\n",
              "    </tr>\n",
              "    <tr>\n",
              "      <th>50%</th>\n",
              "      <td>1014.960000</td>\n",
              "      <td>1014.960000</td>\n",
              "      <td>0.000000</td>\n",
              "      <td>0.0</td>\n",
              "    </tr>\n",
              "    <tr>\n",
              "      <th>75%</th>\n",
              "      <td>1943.200000</td>\n",
              "      <td>1936.345000</td>\n",
              "      <td>0.000000</td>\n",
              "      <td>0.0</td>\n",
              "    </tr>\n",
              "    <tr>\n",
              "      <th>max</th>\n",
              "      <td>62277.600000</td>\n",
              "      <td>62277.600000</td>\n",
              "      <td>651.780000</td>\n",
              "      <td>0.0</td>\n",
              "    </tr>\n",
              "  </tbody>\n",
              "</table>\n",
              "</div>"
            ],
            "text/plain": [
              "       Valor da Nota Fiscal - Venda  ...  Total IPI - Venda\n",
              "count                   1483.000000  ...             1483.0\n",
              "mean                    1829.537465  ...                0.0\n",
              "std                     3214.311593  ...                0.0\n",
              "min                       75.420000  ...                0.0\n",
              "25%                      624.560000  ...                0.0\n",
              "50%                     1014.960000  ...                0.0\n",
              "75%                     1943.200000  ...                0.0\n",
              "max                    62277.600000  ...                0.0\n",
              "\n",
              "[8 rows x 4 columns]"
            ]
          },
          "metadata": {},
          "execution_count": 353
        }
      ]
    },
    {
      "cell_type": "markdown",
      "metadata": {
        "id": "THWQV_dbW0QH"
      },
      "source": [
        "# **Apuração dos Impostos**"
      ]
    },
    {
      "cell_type": "markdown",
      "metadata": {
        "id": "m3YAw6Wjy2gi"
      },
      "source": [
        "*Importante: TRATA-SE DE UMA SIMULAÇÃO UMA VEZ QUE É NECESSÁRIO MUITAS OUTRAS VARIÁVEIS PARA APURAÇÃO CORRETA*"
      ]
    },
    {
      "cell_type": "code",
      "metadata": {
        "id": "Ixi8KKOlmgQZ"
      },
      "source": [
        "#Arquivos para Análises\n",
        "df1 = pd.read_excel(\"/content/RelatorioNFe-entradas_limpa.xlsx\")\n",
        "df2 = pd.read_excel(\"/content/RelatorioNFe-saidas_limpa.xlsx\")"
      ],
      "execution_count": 354,
      "outputs": []
    },
    {
      "cell_type": "markdown",
      "metadata": {
        "id": "YcAas4_fbny5"
      },
      "source": [
        "# **ICMS** - Imposto sobre Circulação de Mercadorias e Serviços"
      ]
    },
    {
      "cell_type": "markdown",
      "metadata": {
        "id": "rB_DeG9wcA4b"
      },
      "source": [
        "**Compras**"
      ]
    },
    {
      "cell_type": "code",
      "metadata": {
        "id": "unAqUgs-FLfc"
      },
      "source": [
        "#Criando um novo DataFrame somente com os dados que serão usados na apuração do ICMS\n",
        "icms_compras = df1.groupby(\"Natureza Operação  - Compra\")[\"Total ICMS - Compra\"].sum().sort_values(ascending=False).reset_index()"
      ],
      "execution_count": 443,
      "outputs": []
    },
    {
      "cell_type": "code",
      "metadata": {
        "colab": {
          "base_uri": "https://localhost:8080/",
          "height": 266
        },
        "id": "XAKfjZPC9pHs",
        "outputId": "bbb2cd17-481a-49c2-f088-787263a037fc"
      },
      "source": [
        "#Novo Dataframe criado\n",
        "icms_compras"
      ],
      "execution_count": 444,
      "outputs": [
        {
          "output_type": "execute_result",
          "data": {
            "text/html": [
              "<div>\n",
              "<style scoped>\n",
              "    .dataframe tbody tr th:only-of-type {\n",
              "        vertical-align: middle;\n",
              "    }\n",
              "\n",
              "    .dataframe tbody tr th {\n",
              "        vertical-align: top;\n",
              "    }\n",
              "\n",
              "    .dataframe thead th {\n",
              "        text-align: right;\n",
              "    }\n",
              "</style>\n",
              "<table border=\"1\" class=\"dataframe\">\n",
              "  <thead>\n",
              "    <tr style=\"text-align: right;\">\n",
              "      <th></th>\n",
              "      <th>Natureza Operação  - Compra</th>\n",
              "      <th>Total ICMS - Compra</th>\n",
              "    </tr>\n",
              "  </thead>\n",
              "  <tbody>\n",
              "    <tr>\n",
              "      <th>0</th>\n",
              "      <td>1102 - Compra para comercialização</td>\n",
              "      <td>79324.05</td>\n",
              "    </tr>\n",
              "    <tr>\n",
              "      <th>1</th>\n",
              "      <td>1403 - Compra para comercialização ST</td>\n",
              "      <td>10426.93</td>\n",
              "    </tr>\n",
              "    <tr>\n",
              "      <th>2</th>\n",
              "      <td>6556 - Devolução de material de uso ou consumo</td>\n",
              "      <td>0.00</td>\n",
              "    </tr>\n",
              "    <tr>\n",
              "      <th>3</th>\n",
              "      <td>2653 - Compra de combustível ou lubrificante</td>\n",
              "      <td>0.00</td>\n",
              "    </tr>\n",
              "    <tr>\n",
              "      <th>4</th>\n",
              "      <td>1922 - Simples faturamento para entrega futura</td>\n",
              "      <td>0.00</td>\n",
              "    </tr>\n",
              "    <tr>\n",
              "      <th>5</th>\n",
              "      <td>1653 - Compra de combustível ou lubrificante</td>\n",
              "      <td>0.00</td>\n",
              "    </tr>\n",
              "    <tr>\n",
              "      <th>6</th>\n",
              "      <td>1202 - Devolução venda de mercadoria adquirida</td>\n",
              "      <td>0.00</td>\n",
              "    </tr>\n",
              "  </tbody>\n",
              "</table>\n",
              "</div>"
            ],
            "text/plain": [
              "                      Natureza Operação  - Compra  Total ICMS - Compra\n",
              "0              1102 - Compra para comercialização             79324.05\n",
              "1           1403 - Compra para comercialização ST             10426.93\n",
              "2  6556 - Devolução de material de uso ou consumo                 0.00\n",
              "3    2653 - Compra de combustível ou lubrificante                 0.00\n",
              "4  1922 - Simples faturamento para entrega futura                 0.00\n",
              "5    1653 - Compra de combustível ou lubrificante                 0.00\n",
              "6  1202 - Devolução venda de mercadoria adquirida                 0.00"
            ]
          },
          "metadata": {},
          "execution_count": 444
        }
      ]
    },
    {
      "cell_type": "code",
      "metadata": {
        "id": "IEXCNyr0wfy4"
      },
      "source": [
        "#Salvando uma nova planilha em excel\n",
        "icms_compras.to_excel(\"relatoriocreditoicmscompras.xlsx\", index=False)"
      ],
      "execution_count": 445,
      "outputs": []
    },
    {
      "cell_type": "code",
      "metadata": {
        "id": "VzVyNyZsKckj"
      },
      "source": [
        "#Filtrando somente os valores que podem ser considerados para apuração\n",
        "cfop_1102_icms = icms_compras.loc[icms_compras[\"Natureza Operação  - Compra\"] == \"1102 - Compra para comercialização\"]"
      ],
      "execution_count": 446,
      "outputs": []
    },
    {
      "cell_type": "code",
      "metadata": {
        "id": "EKjDt6fBMHuB"
      },
      "source": [
        "#Filtrando somente os valores que podem ser considerados para apuração\n",
        "cfop_1403_icms = icms_compras.loc[icms_compras[\"Natureza Operação  - Compra\"] == \"1403 - Compra para comercialização ST\"]"
      ],
      "execution_count": 447,
      "outputs": []
    },
    {
      "cell_type": "code",
      "metadata": {
        "colab": {
          "base_uri": "https://localhost:8080/"
        },
        "id": "a05YFJlJ6ne6",
        "outputId": "e6a4ac19-8bd7-4be3-f5cd-65e18d2e1231"
      },
      "source": [
        "#Totalizando os valores de crédito do ICMS para apuração\n",
        "ICMS_CRED = round(cfop_1102_icms[\"Total ICMS - Compra\"].sum() + cfop_1403_icms[\"Total ICMS - Compra\"].sum(), 2)\n",
        "ICMS_CRED"
      ],
      "execution_count": 448,
      "outputs": [
        {
          "output_type": "execute_result",
          "data": {
            "text/plain": [
              "89750.98"
            ]
          },
          "metadata": {},
          "execution_count": 448
        }
      ]
    },
    {
      "cell_type": "markdown",
      "metadata": {
        "id": "pLPJFTmm5mY8"
      },
      "source": [
        "**Vendas**"
      ]
    },
    {
      "cell_type": "code",
      "metadata": {
        "id": "kTs0qTzqeMNz"
      },
      "source": [
        "#Criando um novo DataFrame somente com os dados que serão usados para apuração\n",
        "icms_vendas = df2.groupby(\"Natureza Operação - Venda\")[\"Total ICMS - Venda\"].sum().sort_values(ascending=False).reset_index()"
      ],
      "execution_count": 449,
      "outputs": []
    },
    {
      "cell_type": "code",
      "metadata": {
        "colab": {
          "base_uri": "https://localhost:8080/",
          "height": 142
        },
        "id": "02p3bYU1eWU1",
        "outputId": "da2aa7cd-2b56-4b27-8cb8-b718ddbb3c05"
      },
      "source": [
        "#Novo Dataframe criado\n",
        "icms_vendas"
      ],
      "execution_count": 450,
      "outputs": [
        {
          "output_type": "execute_result",
          "data": {
            "text/html": [
              "<div>\n",
              "<style scoped>\n",
              "    .dataframe tbody tr th:only-of-type {\n",
              "        vertical-align: middle;\n",
              "    }\n",
              "\n",
              "    .dataframe tbody tr th {\n",
              "        vertical-align: top;\n",
              "    }\n",
              "\n",
              "    .dataframe thead th {\n",
              "        text-align: right;\n",
              "    }\n",
              "</style>\n",
              "<table border=\"1\" class=\"dataframe\">\n",
              "  <thead>\n",
              "    <tr style=\"text-align: right;\">\n",
              "      <th></th>\n",
              "      <th>Natureza Operação - Venda</th>\n",
              "      <th>Total ICMS - Venda</th>\n",
              "    </tr>\n",
              "  </thead>\n",
              "  <tbody>\n",
              "    <tr>\n",
              "      <th>0</th>\n",
              "      <td>5102 - Venda de mercadoria</td>\n",
              "      <td>10141.75</td>\n",
              "    </tr>\n",
              "    <tr>\n",
              "      <th>1</th>\n",
              "      <td>5910 - Remessa em bonificação</td>\n",
              "      <td>0.00</td>\n",
              "    </tr>\n",
              "    <tr>\n",
              "      <th>2</th>\n",
              "      <td>5202 - Devolução de compra para comercialização</td>\n",
              "      <td>0.00</td>\n",
              "    </tr>\n",
              "  </tbody>\n",
              "</table>\n",
              "</div>"
            ],
            "text/plain": [
              "                         Natureza Operação - Venda  Total ICMS - Venda\n",
              "0                       5102 - Venda de mercadoria            10141.75\n",
              "1                    5910 - Remessa em bonificação                0.00\n",
              "2  5202 - Devolução de compra para comercialização                0.00"
            ]
          },
          "metadata": {},
          "execution_count": 450
        }
      ]
    },
    {
      "cell_type": "code",
      "metadata": {
        "id": "FOPKZ_GLee4u"
      },
      "source": [
        "#Salvando uma nova planilha em excel\n",
        "icms_vendas.to_excel(\"relatoriodebitoicmsvendas.xlsx\", index=False)"
      ],
      "execution_count": 451,
      "outputs": []
    },
    {
      "cell_type": "code",
      "metadata": {
        "id": "Ul6s70_reofS"
      },
      "source": [
        "#Filtrando somente os valores que podem ser considerados para apuração\n",
        "cfop_5102_icms = icms_vendas.loc[icms_vendas[\"Natureza Operação - Venda\"] == \"5102 - Venda de mercadoria\"]"
      ],
      "execution_count": 452,
      "outputs": []
    },
    {
      "cell_type": "code",
      "metadata": {
        "colab": {
          "base_uri": "https://localhost:8080/"
        },
        "id": "-gQSJbGle6U6",
        "outputId": "5f002e45-83a2-462f-b10d-86427a924a6c"
      },
      "source": [
        "#Totalizando o valor do crédito para apuração do ICMS destacado nas notas fiscais\n",
        "ICMS_DEBIT = round(cfop_5102[\"Total ICMS - Venda\"].sum(), 2)\n",
        "ICMS_DEBIT"
      ],
      "execution_count": 453,
      "outputs": [
        {
          "output_type": "execute_result",
          "data": {
            "text/plain": [
              "10141.75"
            ]
          },
          "metadata": {},
          "execution_count": 453
        }
      ]
    },
    {
      "cell_type": "markdown",
      "metadata": {
        "id": "NeQ5xPSIgh8j"
      },
      "source": [
        "**Cálculo ICMS - Vr. Positivo - Débito ICMS a pagar /// Vr. Negativo - Crédito de ICMS a Compensar**\n"
      ]
    },
    {
      "cell_type": "code",
      "metadata": {
        "colab": {
          "base_uri": "https://localhost:8080/"
        },
        "id": "6v1cvWxIgdha",
        "outputId": "4258a15a-ce48-499a-a383-123ab04b407a"
      },
      "source": [
        "#Valor de Crédito à Compensar no proxímos mês\n",
        "ICMS_DEBIT - ICMS_CRED"
      ],
      "execution_count": 454,
      "outputs": [
        {
          "output_type": "execute_result",
          "data": {
            "text/plain": [
              "-79609.23"
            ]
          },
          "metadata": {},
          "execution_count": 454
        }
      ]
    },
    {
      "cell_type": "markdown",
      "metadata": {
        "id": "YRENfqeHbvvG"
      },
      "source": [
        "# **IPI** - Imposto sobre Produtos Industrializados"
      ]
    },
    {
      "cell_type": "markdown",
      "metadata": {
        "id": "OLOrWcxKwHwt"
      },
      "source": [
        "**Compras**"
      ]
    },
    {
      "cell_type": "code",
      "metadata": {
        "colab": {
          "base_uri": "https://localhost:8080/",
          "height": 266
        },
        "id": "BuR9TOofbPql",
        "outputId": "81585071-f3b7-4f47-bfc7-0ac5d5fb032e"
      },
      "source": [
        "#Criando um novo DataFrame somente com os dados que serão usados\n",
        "ipi_compras = df1.groupby(\"Natureza Operação  - Compra\")[\"Total IPI - Compra\"].sum().sort_values(ascending=False).reset_index()\n",
        "ipi_compras"
      ],
      "execution_count": 455,
      "outputs": [
        {
          "output_type": "execute_result",
          "data": {
            "text/html": [
              "<div>\n",
              "<style scoped>\n",
              "    .dataframe tbody tr th:only-of-type {\n",
              "        vertical-align: middle;\n",
              "    }\n",
              "\n",
              "    .dataframe tbody tr th {\n",
              "        vertical-align: top;\n",
              "    }\n",
              "\n",
              "    .dataframe thead th {\n",
              "        text-align: right;\n",
              "    }\n",
              "</style>\n",
              "<table border=\"1\" class=\"dataframe\">\n",
              "  <thead>\n",
              "    <tr style=\"text-align: right;\">\n",
              "      <th></th>\n",
              "      <th>Natureza Operação  - Compra</th>\n",
              "      <th>Total IPI - Compra</th>\n",
              "    </tr>\n",
              "  </thead>\n",
              "  <tbody>\n",
              "    <tr>\n",
              "      <th>0</th>\n",
              "      <td>1102 - Compra para comercialização</td>\n",
              "      <td>29156.26</td>\n",
              "    </tr>\n",
              "    <tr>\n",
              "      <th>1</th>\n",
              "      <td>1403 - Compra para comercialização ST</td>\n",
              "      <td>8828.29</td>\n",
              "    </tr>\n",
              "    <tr>\n",
              "      <th>2</th>\n",
              "      <td>6556 - Devolução de material de uso ou consumo</td>\n",
              "      <td>0.00</td>\n",
              "    </tr>\n",
              "    <tr>\n",
              "      <th>3</th>\n",
              "      <td>2653 - Compra de combustível ou lubrificante</td>\n",
              "      <td>0.00</td>\n",
              "    </tr>\n",
              "    <tr>\n",
              "      <th>4</th>\n",
              "      <td>1922 - Simples faturamento para entrega futura</td>\n",
              "      <td>0.00</td>\n",
              "    </tr>\n",
              "    <tr>\n",
              "      <th>5</th>\n",
              "      <td>1653 - Compra de combustível ou lubrificante</td>\n",
              "      <td>0.00</td>\n",
              "    </tr>\n",
              "    <tr>\n",
              "      <th>6</th>\n",
              "      <td>1202 - Devolução venda de mercadoria adquirida</td>\n",
              "      <td>0.00</td>\n",
              "    </tr>\n",
              "  </tbody>\n",
              "</table>\n",
              "</div>"
            ],
            "text/plain": [
              "                      Natureza Operação  - Compra  Total IPI - Compra\n",
              "0              1102 - Compra para comercialização            29156.26\n",
              "1           1403 - Compra para comercialização ST             8828.29\n",
              "2  6556 - Devolução de material de uso ou consumo                0.00\n",
              "3    2653 - Compra de combustível ou lubrificante                0.00\n",
              "4  1922 - Simples faturamento para entrega futura                0.00\n",
              "5    1653 - Compra de combustível ou lubrificante                0.00\n",
              "6  1202 - Devolução venda de mercadoria adquirida                0.00"
            ]
          },
          "metadata": {},
          "execution_count": 455
        }
      ]
    },
    {
      "cell_type": "code",
      "metadata": {
        "id": "bk74goPyufJO"
      },
      "source": [
        "#Filtrando somente os valores que podem ser considerados para apuração\n",
        "cfop_1102_ipi = ipi_compras.loc[ipi_compras[\"Natureza Operação  - Compra\"] == \"1102 - Compra para comercialização\"]"
      ],
      "execution_count": 456,
      "outputs": []
    },
    {
      "cell_type": "code",
      "metadata": {
        "id": "THFqUbteuyM7"
      },
      "source": [
        "#Filtrando somente os valores que podem ser considerados para apuração\n",
        "cfop_1403_ipi = ipi_compras.loc[ipi_compras[\"Natureza Operação  - Compra\"] == \"1403 - Compra para comercialização ST\"]"
      ],
      "execution_count": 457,
      "outputs": []
    },
    {
      "cell_type": "code",
      "metadata": {
        "colab": {
          "base_uri": "https://localhost:8080/"
        },
        "id": "Lw8OqxPwu21K",
        "outputId": "bb96b7e0-9996-489d-fded-7eaf96318f61"
      },
      "source": [
        "#Totalizando o valor do crédito para apuração do IPI destacado nas notas fiscais\n",
        "IPI_CRED = round(cfop_1102_ipi[\"Total IPI - Compra\"].sum() + cfop_1403_ipi[\"Total IPI - Compra\"].sum(), 2)\n",
        "IPI_CRED"
      ],
      "execution_count": 458,
      "outputs": [
        {
          "output_type": "execute_result",
          "data": {
            "text/plain": [
              "37984.55"
            ]
          },
          "metadata": {},
          "execution_count": 458
        }
      ]
    },
    {
      "cell_type": "markdown",
      "metadata": {
        "id": "JeY-ehPpwLPT"
      },
      "source": [
        "**Vendas**"
      ]
    },
    {
      "cell_type": "code",
      "metadata": {
        "colab": {
          "base_uri": "https://localhost:8080/",
          "height": 142
        },
        "id": "GD3iJYQCwT9q",
        "outputId": "3cf1753b-b56f-44de-cb79-c6933ce60785"
      },
      "source": [
        "#Criando um novo DataFrame somente com os dados que serão usados\n",
        "ipi_vendas = df2.groupby(\"Natureza Operação - Venda\")[\"Total IPI - Venda\"].sum().sort_values(ascending=False).reset_index()\n",
        "ipi_vendas"
      ],
      "execution_count": 459,
      "outputs": [
        {
          "output_type": "execute_result",
          "data": {
            "text/html": [
              "<div>\n",
              "<style scoped>\n",
              "    .dataframe tbody tr th:only-of-type {\n",
              "        vertical-align: middle;\n",
              "    }\n",
              "\n",
              "    .dataframe tbody tr th {\n",
              "        vertical-align: top;\n",
              "    }\n",
              "\n",
              "    .dataframe thead th {\n",
              "        text-align: right;\n",
              "    }\n",
              "</style>\n",
              "<table border=\"1\" class=\"dataframe\">\n",
              "  <thead>\n",
              "    <tr style=\"text-align: right;\">\n",
              "      <th></th>\n",
              "      <th>Natureza Operação - Venda</th>\n",
              "      <th>Total IPI - Venda</th>\n",
              "    </tr>\n",
              "  </thead>\n",
              "  <tbody>\n",
              "    <tr>\n",
              "      <th>0</th>\n",
              "      <td>5910 - Remessa em bonificação</td>\n",
              "      <td>0.0</td>\n",
              "    </tr>\n",
              "    <tr>\n",
              "      <th>1</th>\n",
              "      <td>5202 - Devolução de compra para comercialização</td>\n",
              "      <td>0.0</td>\n",
              "    </tr>\n",
              "    <tr>\n",
              "      <th>2</th>\n",
              "      <td>5102 - Venda de mercadoria</td>\n",
              "      <td>0.0</td>\n",
              "    </tr>\n",
              "  </tbody>\n",
              "</table>\n",
              "</div>"
            ],
            "text/plain": [
              "                         Natureza Operação - Venda  Total IPI - Venda\n",
              "0                    5910 - Remessa em bonificação                0.0\n",
              "1  5202 - Devolução de compra para comercialização                0.0\n",
              "2                       5102 - Venda de mercadoria                0.0"
            ]
          },
          "metadata": {},
          "execution_count": 459
        }
      ]
    },
    {
      "cell_type": "code",
      "metadata": {
        "id": "NMoVWvMsw3Sq"
      },
      "source": [
        "#Filtrando somente os valores que podem ser considerados para apuração\n",
        "cfop_5102_ipi = ipi_vendas.loc[ipi_vendas[\"Natureza Operação - Venda\"] == \"5102 - Venda de mercadoria\"]"
      ],
      "execution_count": 460,
      "outputs": []
    },
    {
      "cell_type": "code",
      "metadata": {
        "colab": {
          "base_uri": "https://localhost:8080/"
        },
        "id": "ZSJGUKQGxS3Z",
        "outputId": "006e3ea4-c92e-41d5-a11f-e69bac437985"
      },
      "source": [
        "#Totalizando o valor do crédito para apuração do IPI destacado nas notas fiscais\n",
        "IPI_DEBIT = round(cfop_5102_ipi[\"Total IPI - Venda\"].sum(), 2)\n",
        "IPI_DEBIT"
      ],
      "execution_count": 461,
      "outputs": [
        {
          "output_type": "execute_result",
          "data": {
            "text/plain": [
              "0.0"
            ]
          },
          "metadata": {},
          "execution_count": 461
        }
      ]
    },
    {
      "cell_type": "markdown",
      "metadata": {
        "id": "fYtcOKkMx8QT"
      },
      "source": [
        "**Cálculo IPI - Vr. Positivo - Débito IPI a pagar /// Vr. Negativo - Crédito de IPI a Compensar**"
      ]
    },
    {
      "cell_type": "code",
      "metadata": {
        "colab": {
          "base_uri": "https://localhost:8080/"
        },
        "id": "JPD_sgdvlUHR",
        "outputId": "70be9e53-3e05-4c1b-8f73-0c59ee159814"
      },
      "source": [
        "#Valor de Crédito à Compensar no proxímos mês\n",
        "IPI_DEBIT - IPI_CRED"
      ],
      "execution_count": 462,
      "outputs": [
        {
          "output_type": "execute_result",
          "data": {
            "text/plain": [
              "-37984.55"
            ]
          },
          "metadata": {},
          "execution_count": 462
        }
      ]
    },
    {
      "cell_type": "markdown",
      "metadata": {
        "id": "YG3JRsNKcHOa"
      },
      "source": [
        "# **PIS** - Programa de Integração Social"
      ]
    },
    {
      "cell_type": "markdown",
      "metadata": {
        "id": "ulVBrqId88Ga"
      },
      "source": [
        "**Compras**"
      ]
    },
    {
      "cell_type": "code",
      "metadata": {
        "colab": {
          "base_uri": "https://localhost:8080/",
          "height": 266
        },
        "id": "PO1xCWPu9E_i",
        "outputId": "1103c7c3-d788-46ad-c874-7084a142883e"
      },
      "source": [
        "#Criando um novo DataFrame somente com os dados que serão usados\n",
        "pis_compras = df1.groupby(\"Natureza Operação  - Compra\")[\"Valor dos Produtos - Compra\"].sum().sort_values(ascending=False).reset_index()\n",
        "pis_compras"
      ],
      "execution_count": 463,
      "outputs": [
        {
          "output_type": "execute_result",
          "data": {
            "text/html": [
              "<div>\n",
              "<style scoped>\n",
              "    .dataframe tbody tr th:only-of-type {\n",
              "        vertical-align: middle;\n",
              "    }\n",
              "\n",
              "    .dataframe tbody tr th {\n",
              "        vertical-align: top;\n",
              "    }\n",
              "\n",
              "    .dataframe thead th {\n",
              "        text-align: right;\n",
              "    }\n",
              "</style>\n",
              "<table border=\"1\" class=\"dataframe\">\n",
              "  <thead>\n",
              "    <tr style=\"text-align: right;\">\n",
              "      <th></th>\n",
              "      <th>Natureza Operação  - Compra</th>\n",
              "      <th>Valor dos Produtos - Compra</th>\n",
              "    </tr>\n",
              "  </thead>\n",
              "  <tbody>\n",
              "    <tr>\n",
              "      <th>0</th>\n",
              "      <td>1102 - Compra para comercialização</td>\n",
              "      <td>1013330.15</td>\n",
              "    </tr>\n",
              "    <tr>\n",
              "      <th>1</th>\n",
              "      <td>2653 - Compra de combustível ou lubrificante</td>\n",
              "      <td>172999.98</td>\n",
              "    </tr>\n",
              "    <tr>\n",
              "      <th>2</th>\n",
              "      <td>1403 - Compra para comercialização ST</td>\n",
              "      <td>130002.69</td>\n",
              "    </tr>\n",
              "    <tr>\n",
              "      <th>3</th>\n",
              "      <td>1653 - Compra de combustível ou lubrificante</td>\n",
              "      <td>67666.75</td>\n",
              "    </tr>\n",
              "    <tr>\n",
              "      <th>4</th>\n",
              "      <td>1922 - Simples faturamento para entrega futura</td>\n",
              "      <td>18405.89</td>\n",
              "    </tr>\n",
              "    <tr>\n",
              "      <th>5</th>\n",
              "      <td>6556 - Devolução de material de uso ou consumo</td>\n",
              "      <td>324.48</td>\n",
              "    </tr>\n",
              "    <tr>\n",
              "      <th>6</th>\n",
              "      <td>1202 - Devolução venda de mercadoria adquirida</td>\n",
              "      <td>203.84</td>\n",
              "    </tr>\n",
              "  </tbody>\n",
              "</table>\n",
              "</div>"
            ],
            "text/plain": [
              "                      Natureza Operação  - Compra  Valor dos Produtos - Compra\n",
              "0              1102 - Compra para comercialização                   1013330.15\n",
              "1    2653 - Compra de combustível ou lubrificante                    172999.98\n",
              "2           1403 - Compra para comercialização ST                    130002.69\n",
              "3    1653 - Compra de combustível ou lubrificante                     67666.75\n",
              "4  1922 - Simples faturamento para entrega futura                     18405.89\n",
              "5  6556 - Devolução de material de uso ou consumo                       324.48\n",
              "6  1202 - Devolução venda de mercadoria adquirida                       203.84"
            ]
          },
          "metadata": {},
          "execution_count": 463
        }
      ]
    },
    {
      "cell_type": "code",
      "metadata": {
        "id": "3DorbkvO9ojF"
      },
      "source": [
        "#Filtrando somente os valores que podem ser considerados para apuração\n",
        "cfop_1102_pis = pis_compras.loc[pis_compras[\"Natureza Operação  - Compra\"] == \"1102 - Compra para comercialização\"]"
      ],
      "execution_count": 464,
      "outputs": []
    },
    {
      "cell_type": "code",
      "metadata": {
        "id": "xrv5pNVN9tkT"
      },
      "source": [
        "#Filtrando somente os valores que podem ser considerados para apuração\n",
        "cfop_2653_pis = pis_compras.loc[pis_compras[\"Natureza Operação  - Compra\"] == \"2653 - Compra de combustível ou lubrificante\"]"
      ],
      "execution_count": 465,
      "outputs": []
    },
    {
      "cell_type": "code",
      "metadata": {
        "id": "gGEJYdD_9uCq"
      },
      "source": [
        "#Filtrando somente os valores que podem ser considerados para apuração\n",
        "cfop_1403_pis = pis_compras.loc[pis_compras[\"Natureza Operação  - Compra\"] == \"1403 - Compra para comercialização ST\"]"
      ],
      "execution_count": 466,
      "outputs": []
    },
    {
      "cell_type": "code",
      "metadata": {
        "id": "tojBeYoq9vfF"
      },
      "source": [
        "#Filtrando somente os valores que podem ser considerados para apuração\n",
        "cfop_1653_pis = pis_compras.loc[pis_compras[\"Natureza Operação  - Compra\"] == \"1653 - Compra de combustível ou lubrificante\"]"
      ],
      "execution_count": 467,
      "outputs": []
    },
    {
      "cell_type": "code",
      "metadata": {
        "colab": {
          "base_uri": "https://localhost:8080/"
        },
        "id": "5OfsP9wd-Xzy",
        "outputId": "db389dbe-58e3-4dea-a0a2-f62f75b79bb4"
      },
      "source": [
        "#Totalizando o valor do crédito para apuração do ICMS destacado nas notas fiscais\n",
        "BASE_PIS_CRED = round(cfop_1102_pis[\"Valor dos Produtos - Compra\"].sum() + cfop_2653_pis[\"Valor dos Produtos - Compra\"].sum() + cfop_1403_pis[\"Valor dos Produtos - Compra\"].sum() + cfop_1653_pis[\"Valor dos Produtos - Compra\"].sum(), 2)\n",
        "BASE_PIS_CRED"
      ],
      "execution_count": 468,
      "outputs": [
        {
          "output_type": "execute_result",
          "data": {
            "text/plain": [
              "1383999.57"
            ]
          },
          "metadata": {},
          "execution_count": 468
        }
      ]
    },
    {
      "cell_type": "code",
      "metadata": {
        "colab": {
          "base_uri": "https://localhost:8080/"
        },
        "id": "UcIxYAxw_HMi",
        "outputId": "caa9528d-1282-4b64-814c-b8395b788005"
      },
      "source": [
        "#Valor de crédito apurado de PIS\n",
        "PIS_CRED = round(BASE_PIS_CRED * 0.0165,2)\n",
        "PIS_CRED"
      ],
      "execution_count": 469,
      "outputs": [
        {
          "output_type": "execute_result",
          "data": {
            "text/plain": [
              "22835.99"
            ]
          },
          "metadata": {},
          "execution_count": 469
        }
      ]
    },
    {
      "cell_type": "markdown",
      "metadata": {
        "id": "Vv6_ZytUF-Y-"
      },
      "source": [
        "**Vendas**"
      ]
    },
    {
      "cell_type": "code",
      "metadata": {
        "colab": {
          "base_uri": "https://localhost:8080/",
          "height": 142
        },
        "id": "lLNUh5s6GUyD",
        "outputId": "9369b41e-394a-4776-9c44-4852a501805a"
      },
      "source": [
        "#Criando um novo DataFrame somente com os dados que serão usados\n",
        "pis_vendas = df2.groupby(\"Natureza Operação - Venda\")[\"Valor dos Produtos - Venda\"].sum().sort_values(ascending=False).reset_index()\n",
        "pis_vendas"
      ],
      "execution_count": 470,
      "outputs": [
        {
          "output_type": "execute_result",
          "data": {
            "text/html": [
              "<div>\n",
              "<style scoped>\n",
              "    .dataframe tbody tr th:only-of-type {\n",
              "        vertical-align: middle;\n",
              "    }\n",
              "\n",
              "    .dataframe tbody tr th {\n",
              "        vertical-align: top;\n",
              "    }\n",
              "\n",
              "    .dataframe thead th {\n",
              "        text-align: right;\n",
              "    }\n",
              "</style>\n",
              "<table border=\"1\" class=\"dataframe\">\n",
              "  <thead>\n",
              "    <tr style=\"text-align: right;\">\n",
              "      <th></th>\n",
              "      <th>Natureza Operação - Venda</th>\n",
              "      <th>Valor dos Produtos - Venda</th>\n",
              "    </tr>\n",
              "  </thead>\n",
              "  <tbody>\n",
              "    <tr>\n",
              "      <th>0</th>\n",
              "      <td>5102 - Venda de mercadoria</td>\n",
              "      <td>2696228.71</td>\n",
              "    </tr>\n",
              "    <tr>\n",
              "      <th>1</th>\n",
              "      <td>5202 - Devolução de compra para comercialização</td>\n",
              "      <td>12084.18</td>\n",
              "    </tr>\n",
              "    <tr>\n",
              "      <th>2</th>\n",
              "      <td>5910 - Remessa em bonificação</td>\n",
              "      <td>354.40</td>\n",
              "    </tr>\n",
              "  </tbody>\n",
              "</table>\n",
              "</div>"
            ],
            "text/plain": [
              "                         Natureza Operação - Venda  Valor dos Produtos - Venda\n",
              "0                       5102 - Venda de mercadoria                  2696228.71\n",
              "1  5202 - Devolução de compra para comercialização                    12084.18\n",
              "2                    5910 - Remessa em bonificação                      354.40"
            ]
          },
          "metadata": {},
          "execution_count": 470
        }
      ]
    },
    {
      "cell_type": "code",
      "metadata": {
        "id": "hppoxh-vHXGT"
      },
      "source": [
        "#Filtrando somente os valores que podem ser considerados para apuração\n",
        "cfop_5102_pis = pis_vendas.loc[pis_vendas[\"Natureza Operação - Venda\"] == \"5102 - Venda de mercadoria\"]"
      ],
      "execution_count": 471,
      "outputs": []
    },
    {
      "cell_type": "code",
      "metadata": {
        "colab": {
          "base_uri": "https://localhost:8080/"
        },
        "id": "Xe5cya2jHpaq",
        "outputId": "a0802240-b6e3-401a-8eec-39a1aec92ac4"
      },
      "source": [
        "#Totalizando o valor do crédito para apuração do ICMS destacado nas notas fiscais\n",
        "BASE_PIS_DEBIT = round(cfop_5102_pis[\"Valor dos Produtos - Venda\"].sum(), 2)\n",
        "BASE_PIS_DEBIT"
      ],
      "execution_count": 472,
      "outputs": [
        {
          "output_type": "execute_result",
          "data": {
            "text/plain": [
              "2696228.71"
            ]
          },
          "metadata": {},
          "execution_count": 472
        }
      ]
    },
    {
      "cell_type": "code",
      "metadata": {
        "colab": {
          "base_uri": "https://localhost:8080/"
        },
        "id": "9fP8T0EOH6c6",
        "outputId": "f7725a34-429b-4d44-b0c4-546f752ac650"
      },
      "source": [
        "#Valor do débito apurado de PIS\n",
        "PIS_DEBIT = round(BASE_PIS_DEBIT * 0.0165,2)\n",
        "PIS_DEBIT"
      ],
      "execution_count": 473,
      "outputs": [
        {
          "output_type": "execute_result",
          "data": {
            "text/plain": [
              "44487.77"
            ]
          },
          "metadata": {},
          "execution_count": 473
        }
      ]
    },
    {
      "cell_type": "markdown",
      "metadata": {
        "id": "P0V1Ff-zGM0x"
      },
      "source": [
        "**Cálculo PIS - Vr. Positivo - Débito PIS a pagar /// Vr. Negativo - Crédito de PIS a Compensar**"
      ]
    },
    {
      "cell_type": "code",
      "metadata": {
        "colab": {
          "base_uri": "https://localhost:8080/"
        },
        "id": "u1dARDI9lZvV",
        "outputId": "0029e52b-16d5-4180-a781-e652080cbd27"
      },
      "source": [
        "#Valor apurado a pagar\n",
        "round(PIS_DEBIT - PIS_CRED, 2)"
      ],
      "execution_count": 474,
      "outputs": [
        {
          "output_type": "execute_result",
          "data": {
            "text/plain": [
              "21651.78"
            ]
          },
          "metadata": {},
          "execution_count": 474
        }
      ]
    },
    {
      "cell_type": "markdown",
      "metadata": {
        "id": "DnpDJhmqcQ4b"
      },
      "source": [
        "# **COFINS** - Contribuição para o Financiamento da Seguridade Social"
      ]
    },
    {
      "cell_type": "markdown",
      "metadata": {
        "id": "5V-1KRsUI38A"
      },
      "source": [
        "**Compras**"
      ]
    },
    {
      "cell_type": "code",
      "metadata": {
        "colab": {
          "base_uri": "https://localhost:8080/",
          "height": 266
        },
        "id": "1D5O80i6I38A",
        "outputId": "b9c47074-d2d4-404d-c61b-d8cca9fbef9a"
      },
      "source": [
        "#Criando um novo DataFrame somente com os dados que serão usados\n",
        "cofins_compras = df1.groupby(\"Natureza Operação  - Compra\")[\"Valor dos Produtos - Compra\"].sum().sort_values(ascending=False).reset_index()\n",
        "cofins_compras"
      ],
      "execution_count": 475,
      "outputs": [
        {
          "output_type": "execute_result",
          "data": {
            "text/html": [
              "<div>\n",
              "<style scoped>\n",
              "    .dataframe tbody tr th:only-of-type {\n",
              "        vertical-align: middle;\n",
              "    }\n",
              "\n",
              "    .dataframe tbody tr th {\n",
              "        vertical-align: top;\n",
              "    }\n",
              "\n",
              "    .dataframe thead th {\n",
              "        text-align: right;\n",
              "    }\n",
              "</style>\n",
              "<table border=\"1\" class=\"dataframe\">\n",
              "  <thead>\n",
              "    <tr style=\"text-align: right;\">\n",
              "      <th></th>\n",
              "      <th>Natureza Operação  - Compra</th>\n",
              "      <th>Valor dos Produtos - Compra</th>\n",
              "    </tr>\n",
              "  </thead>\n",
              "  <tbody>\n",
              "    <tr>\n",
              "      <th>0</th>\n",
              "      <td>1102 - Compra para comercialização</td>\n",
              "      <td>1013330.15</td>\n",
              "    </tr>\n",
              "    <tr>\n",
              "      <th>1</th>\n",
              "      <td>2653 - Compra de combustível ou lubrificante</td>\n",
              "      <td>172999.98</td>\n",
              "    </tr>\n",
              "    <tr>\n",
              "      <th>2</th>\n",
              "      <td>1403 - Compra para comercialização ST</td>\n",
              "      <td>130002.69</td>\n",
              "    </tr>\n",
              "    <tr>\n",
              "      <th>3</th>\n",
              "      <td>1653 - Compra de combustível ou lubrificante</td>\n",
              "      <td>67666.75</td>\n",
              "    </tr>\n",
              "    <tr>\n",
              "      <th>4</th>\n",
              "      <td>1922 - Simples faturamento para entrega futura</td>\n",
              "      <td>18405.89</td>\n",
              "    </tr>\n",
              "    <tr>\n",
              "      <th>5</th>\n",
              "      <td>6556 - Devolução de material de uso ou consumo</td>\n",
              "      <td>324.48</td>\n",
              "    </tr>\n",
              "    <tr>\n",
              "      <th>6</th>\n",
              "      <td>1202 - Devolução venda de mercadoria adquirida</td>\n",
              "      <td>203.84</td>\n",
              "    </tr>\n",
              "  </tbody>\n",
              "</table>\n",
              "</div>"
            ],
            "text/plain": [
              "                      Natureza Operação  - Compra  Valor dos Produtos - Compra\n",
              "0              1102 - Compra para comercialização                   1013330.15\n",
              "1    2653 - Compra de combustível ou lubrificante                    172999.98\n",
              "2           1403 - Compra para comercialização ST                    130002.69\n",
              "3    1653 - Compra de combustível ou lubrificante                     67666.75\n",
              "4  1922 - Simples faturamento para entrega futura                     18405.89\n",
              "5  6556 - Devolução de material de uso ou consumo                       324.48\n",
              "6  1202 - Devolução venda de mercadoria adquirida                       203.84"
            ]
          },
          "metadata": {},
          "execution_count": 475
        }
      ]
    },
    {
      "cell_type": "code",
      "metadata": {
        "id": "I9w4TYLbI38A"
      },
      "source": [
        "#Filtrando somente os valores que podem ser considerados para apuração\n",
        "cfop_1102_cofins = cofins_compras.loc[cofins_compras[\"Natureza Operação  - Compra\"] == \"1102 - Compra para comercialização\"]"
      ],
      "execution_count": 476,
      "outputs": []
    },
    {
      "cell_type": "code",
      "metadata": {
        "id": "r96wTAfKKbJ6"
      },
      "source": [
        "#Filtrando somente os valores que podem ser considerados para apuração\n",
        "cfop_2653_cofins = cofins_compras.loc[cofins_compras[\"Natureza Operação  - Compra\"] == \"2653 - Compra de combustível ou lubrificante\"]"
      ],
      "execution_count": 477,
      "outputs": []
    },
    {
      "cell_type": "code",
      "metadata": {
        "id": "C14_KiFyKa9b"
      },
      "source": [
        "#Filtrando somente os valores que podem ser considerados para apuração\n",
        "cfop_1403_cofins = cofins_compras.loc[cofins_compras[\"Natureza Operação  - Compra\"] == \"1403 - Compra para comercialização ST\t\"]"
      ],
      "execution_count": 478,
      "outputs": []
    },
    {
      "cell_type": "code",
      "metadata": {
        "id": "jvUURPszKavy"
      },
      "source": [
        "#Filtrando somente os valores que podem ser considerados para apuração\n",
        "cfop_1653_cofins = cofins_compras.loc[cofins_compras[\"Natureza Operação  - Compra\"] == \"1653 - Compra de combustível ou lubrificante\"]"
      ],
      "execution_count": 479,
      "outputs": []
    },
    {
      "cell_type": "code",
      "metadata": {
        "colab": {
          "base_uri": "https://localhost:8080/"
        },
        "id": "si-7HqGPI38A",
        "outputId": "3b4434a3-7b08-4aed-836d-d4305cd732e4"
      },
      "source": [
        "#Totalizando o valor do crédito para apuração do ICMS destacado nas notas fiscais\n",
        "BASE_COFINS_CRED = round(cfop_1102_cofins[\"Valor dos Produtos - Compra\"].sum() + cfop_2653_cofins[\"Valor dos Produtos - Compra\"].sum() + cfop_1403_cofins[\"Valor dos Produtos - Compra\"].sum() + cfop_1653_cofins[\"Valor dos Produtos - Compra\"].sum(), 2)\n",
        "BASE_COFINS_CRED"
      ],
      "execution_count": 480,
      "outputs": [
        {
          "output_type": "execute_result",
          "data": {
            "text/plain": [
              "1253996.88"
            ]
          },
          "metadata": {},
          "execution_count": 480
        }
      ]
    },
    {
      "cell_type": "code",
      "metadata": {
        "colab": {
          "base_uri": "https://localhost:8080/"
        },
        "id": "om0uMCZRI38B",
        "outputId": "1c631fd4-80a8-4264-c303-e6cb9b004712"
      },
      "source": [
        "#Valor do crédito apurado de COFINS\n",
        "COFINS_CRED = round(BASE_COFINS_CRED * 0.0760,2)\n",
        "COFINS_CRED"
      ],
      "execution_count": 481,
      "outputs": [
        {
          "output_type": "execute_result",
          "data": {
            "text/plain": [
              "95303.76"
            ]
          },
          "metadata": {},
          "execution_count": 481
        }
      ]
    },
    {
      "cell_type": "markdown",
      "metadata": {
        "id": "-3ILCHcnI38B"
      },
      "source": [
        "**Vendas**"
      ]
    },
    {
      "cell_type": "code",
      "metadata": {
        "colab": {
          "base_uri": "https://localhost:8080/",
          "height": 142
        },
        "id": "iJqnoYrzI38B",
        "outputId": "18e59b2d-1a63-4987-c79a-7ea9d0486e66"
      },
      "source": [
        "#Criando um novo DataFrame somente com os dados que serão usados\n",
        "cofins_vendas = df2.groupby(\"Natureza Operação - Venda\")[\"Valor dos Produtos - Venda\"].sum().sort_values(ascending=False).reset_index()\n",
        "cofins_vendas"
      ],
      "execution_count": 482,
      "outputs": [
        {
          "output_type": "execute_result",
          "data": {
            "text/html": [
              "<div>\n",
              "<style scoped>\n",
              "    .dataframe tbody tr th:only-of-type {\n",
              "        vertical-align: middle;\n",
              "    }\n",
              "\n",
              "    .dataframe tbody tr th {\n",
              "        vertical-align: top;\n",
              "    }\n",
              "\n",
              "    .dataframe thead th {\n",
              "        text-align: right;\n",
              "    }\n",
              "</style>\n",
              "<table border=\"1\" class=\"dataframe\">\n",
              "  <thead>\n",
              "    <tr style=\"text-align: right;\">\n",
              "      <th></th>\n",
              "      <th>Natureza Operação - Venda</th>\n",
              "      <th>Valor dos Produtos - Venda</th>\n",
              "    </tr>\n",
              "  </thead>\n",
              "  <tbody>\n",
              "    <tr>\n",
              "      <th>0</th>\n",
              "      <td>5102 - Venda de mercadoria</td>\n",
              "      <td>2696228.71</td>\n",
              "    </tr>\n",
              "    <tr>\n",
              "      <th>1</th>\n",
              "      <td>5202 - Devolução de compra para comercialização</td>\n",
              "      <td>12084.18</td>\n",
              "    </tr>\n",
              "    <tr>\n",
              "      <th>2</th>\n",
              "      <td>5910 - Remessa em bonificação</td>\n",
              "      <td>354.40</td>\n",
              "    </tr>\n",
              "  </tbody>\n",
              "</table>\n",
              "</div>"
            ],
            "text/plain": [
              "                         Natureza Operação - Venda  Valor dos Produtos - Venda\n",
              "0                       5102 - Venda de mercadoria                  2696228.71\n",
              "1  5202 - Devolução de compra para comercialização                    12084.18\n",
              "2                    5910 - Remessa em bonificação                      354.40"
            ]
          },
          "metadata": {},
          "execution_count": 482
        }
      ]
    },
    {
      "cell_type": "code",
      "metadata": {
        "id": "wDo99elBI38B"
      },
      "source": [
        "#Filtrando somente os valores que podem ser considerados para apuração\n",
        "cfop_5102_cofins = cofins_vendas.loc[cofins_vendas[\"Natureza Operação - Venda\"] == \"5102 - Venda de mercadoria\"]"
      ],
      "execution_count": 483,
      "outputs": []
    },
    {
      "cell_type": "code",
      "metadata": {
        "colab": {
          "base_uri": "https://localhost:8080/"
        },
        "id": "xONg_1yQI38B",
        "outputId": "639dafd4-c699-4671-a192-3f06947f05e4"
      },
      "source": [
        "#Totalizando o valor do crédito para apuração do ICMS destacado nas notas fiscais\n",
        "BASE_COFINS_DEBIT = round(cfop_5102_cofins[\"Valor dos Produtos - Venda\"].sum(), 2)\n",
        "BASE_COFINS_DEBIT"
      ],
      "execution_count": 484,
      "outputs": [
        {
          "output_type": "execute_result",
          "data": {
            "text/plain": [
              "2696228.71"
            ]
          },
          "metadata": {},
          "execution_count": 484
        }
      ]
    },
    {
      "cell_type": "code",
      "metadata": {
        "colab": {
          "base_uri": "https://localhost:8080/"
        },
        "id": "D-zVVPWZI38B",
        "outputId": "6a0d87e0-881a-4d77-e688-8be54cc72875"
      },
      "source": [
        "#Valor do débito apurado de COFINS\n",
        "COFINS_DEBIT = round(BASE_COFINS_DEBIT * 0.0760,2)\n",
        "COFINS_DEBIT"
      ],
      "execution_count": 485,
      "outputs": [
        {
          "output_type": "execute_result",
          "data": {
            "text/plain": [
              "204913.38"
            ]
          },
          "metadata": {},
          "execution_count": 485
        }
      ]
    },
    {
      "cell_type": "markdown",
      "metadata": {
        "id": "9sOj4ejqI38C"
      },
      "source": [
        "**Cálculo COFINS - Vr. Positivo - Débito COFINS a pagar /// Vr. Negativo - Crédito de COFINS a Compensar**"
      ]
    },
    {
      "cell_type": "code",
      "metadata": {
        "colab": {
          "base_uri": "https://localhost:8080/"
        },
        "id": "VzaNoNFwI38C",
        "outputId": "ec92c4fa-78dc-49c7-c42c-bdcdf18f194b"
      },
      "source": [
        "#Valor apurado a pagar\n",
        "round(COFINS_DEBIT - COFINS_CRED, 2)"
      ],
      "execution_count": 486,
      "outputs": [
        {
          "output_type": "execute_result",
          "data": {
            "text/plain": [
              "109609.62"
            ]
          },
          "metadata": {},
          "execution_count": 486
        }
      ]
    }
  ]
}