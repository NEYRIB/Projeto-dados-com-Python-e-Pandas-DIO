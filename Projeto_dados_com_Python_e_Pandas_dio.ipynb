{
  "nbformat": 4,
  "nbformat_minor": 0,
  "metadata": {
    "colab": {
      "name": " Projeto -  dados com Python e Pandas dio.ipynb",
      "provenance": [],
      "collapsed_sections": [
        "BDV5-iYOeLt4",
        "rmlgaD1ausxB",
        "H9vdptQ5dCJA",
        "_LO-qBJJ0Nt3",
        "YRENfqeHbvvG",
        "YG3JRsNKcHOa",
        "DnpDJhmqcQ4b"
      ],
      "authorship_tag": "ABX9TyNhZHPjtTr+ehbh7N+dttv2",
      "include_colab_link": true
    },
    "kernelspec": {
      "name": "python3",
      "display_name": "Python 3"
    },
    "language_info": {
      "name": "python"
    }
  },
  "cells": [
    {
      "cell_type": "markdown",
      "metadata": {
        "id": "view-in-github",
        "colab_type": "text"
      },
      "source": [
        "<a href=\"https://colab.research.google.com/github/NEYRIB/Projeto-dados-com-Python-e-Pandas-DIO/blob/main/Projeto_dados_com_Python_e_Pandas_dio.ipynb\" target=\"_parent\"><img src=\"https://colab.research.google.com/assets/colab-badge.svg\" alt=\"Open In Colab\"/></a>"
      ]
    },
    {
      "cell_type": "markdown",
      "metadata": {
        "id": "BDV5-iYOeLt4"
      },
      "source": [
        "# **Disclaimer**\n",
        "#**1ª Etapa - Análise do mês**\n",
        "Premissas;\n",
        "\n",
        "*Análise das Compras feitas no mês*\n",
        "\n",
        "*Análise das Vendas feitas no mês*\n",
        "#**2ª Etapa - Apuração dos Impostos: ICMS, IPI, PIS e COFINS**\n",
        "Premissas;\n",
        "\n",
        "*-Regime de Tributação Lucro Real (débito/crédito)*\n",
        "\n",
        "*-ICMS e IPI base informada no documento fiscal*\n",
        "\n",
        "*-PIS e COFINS 1,65% e 7,60% sobre o valor da Nota Fiscal*\n",
        "\n",
        "*-CFOP considerado: Compras 1102 e 1403, Vendas 5102*"
      ]
    },
    {
      "cell_type": "markdown",
      "metadata": {
        "id": "pJvhiwYvrfqA"
      },
      "source": [
        "# Preparação"
      ]
    },
    {
      "cell_type": "code",
      "metadata": {
        "id": "PDysvtuMUyik"
      },
      "source": [
        "#Importando as bibliotecas\n",
        "import pandas as pd\n",
        "import matplotlib.pyplot as plt\n",
        "plt.style.use(\"seaborn\")"
      ],
      "execution_count": 3,
      "outputs": []
    },
    {
      "cell_type": "code",
      "metadata": {
        "colab": {
          "resources": {
            "http://localhost:8080/nbextensions/google.colab/files.js": {
              "data": "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",
              "ok": true,
              "headers": [
                [
                  "content-type",
                  "application/javascript"
                ]
              ],
              "status": 200,
              "status_text": ""
            }
          },
          "base_uri": "https://localhost:8080/",
          "height": 38
        },
        "id": "fm8uPDipY1KB",
        "outputId": "1a8904a0-23ea-4ec0-bc38-2461c65f34a2"
      },
      "source": [
        "#Upload do arquivo\n",
        "from google.colab import files\n",
        "arq = files.upload()"
      ],
      "execution_count": 4,
      "outputs": [
        {
          "output_type": "display_data",
          "data": {
            "text/html": [
              "\n",
              "     <input type=\"file\" id=\"files-be692894-6f5d-405f-bc6c-c1f570778fd2\" name=\"files[]\" multiple disabled\n",
              "        style=\"border:none\" />\n",
              "     <output id=\"result-be692894-6f5d-405f-bc6c-c1f570778fd2\">\n",
              "      Upload widget is only available when the cell has been executed in the\n",
              "      current browser session. Please rerun this cell to enable.\n",
              "      </output>\n",
              "      <script src=\"/nbextensions/google.colab/files.js\"></script> "
            ],
            "text/plain": [
              "<IPython.core.display.HTML object>"
            ]
          },
          "metadata": {}
        }
      ]
    },
    {
      "cell_type": "markdown",
      "metadata": {
        "id": "rmlgaD1ausxB"
      },
      "source": [
        "#**Análise do mês**"
      ]
    },
    {
      "cell_type": "markdown",
      "metadata": {
        "id": "H9vdptQ5dCJA"
      },
      "source": [
        "#*Análise da Planilha com Notas Fiscais de Compras*"
      ]
    },
    {
      "cell_type": "code",
      "metadata": {
        "id": "k0mkjeNlZJSH"
      },
      "source": [
        "#Criando DataFrame de Compras\n",
        "df = pd.read_excel(\"RelatorioNFe-entradas_limpa.xlsx\")"
      ],
      "execution_count": null,
      "outputs": []
    },
    {
      "cell_type": "code",
      "metadata": {
        "colab": {
          "base_uri": "https://localhost:8080/",
          "height": 479
        },
        "id": "LX3ttbqvZoyK",
        "outputId": "a17cc4fc-3df8-4a04-90d9-442b00cee885"
      },
      "source": [
        "#Visualizando as 5 primeiras linhas\n",
        "df.head()"
      ],
      "execution_count": null,
      "outputs": [
        {
          "output_type": "execute_result",
          "data": {
            "text/html": [
              "<div>\n",
              "<style scoped>\n",
              "    .dataframe tbody tr th:only-of-type {\n",
              "        vertical-align: middle;\n",
              "    }\n",
              "\n",
              "    .dataframe tbody tr th {\n",
              "        vertical-align: top;\n",
              "    }\n",
              "\n",
              "    .dataframe thead th {\n",
              "        text-align: right;\n",
              "    }\n",
              "</style>\n",
              "<table border=\"1\" class=\"dataframe\">\n",
              "  <thead>\n",
              "    <tr style=\"text-align: right;\">\n",
              "      <th></th>\n",
              "      <th>Nº da Nota - Compra</th>\n",
              "      <th>Tipo Oper.  - Compra</th>\n",
              "      <th>Natureza Operação  - Compra</th>\n",
              "      <th>CNPJ Destinatário  - Compra</th>\n",
              "      <th>Razão Social Destinatário  - Compra</th>\n",
              "      <th>UF Dest - Compra</th>\n",
              "      <th>CNPJ Emitente - Compra</th>\n",
              "      <th>Razão Social Emitente - Compra</th>\n",
              "      <th>Valor da Nota Fiscal - Compra</th>\n",
              "      <th>Emissão - Compra</th>\n",
              "      <th>Data Entr. Saída - Compra</th>\n",
              "      <th>Valor dos Produtos - Compra</th>\n",
              "      <th>Total ICMS - Compra</th>\n",
              "      <th>Total IPI - Compra</th>\n",
              "      <th>Forma de Pagamento - Compra</th>\n",
              "    </tr>\n",
              "  </thead>\n",
              "  <tbody>\n",
              "    <tr>\n",
              "      <th>0</th>\n",
              "      <td>335953</td>\n",
              "      <td>1 - Entrada</td>\n",
              "      <td>1102 - Compra para comercialização</td>\n",
              "      <td>17.011.236/0001-59</td>\n",
              "      <td>DISTRIBUIDORA AUTOMOTIVOS S.A.</td>\n",
              "      <td>MG</td>\n",
              "      <td>00.189.864/0001-56</td>\n",
              "      <td>FILTROS ELETROPECAS</td>\n",
              "      <td>333.00</td>\n",
              "      <td>2021-07-12</td>\n",
              "      <td>-</td>\n",
              "      <td>333.00</td>\n",
              "      <td>0.0</td>\n",
              "      <td>0.0</td>\n",
              "      <td>A vista</td>\n",
              "    </tr>\n",
              "    <tr>\n",
              "      <th>1</th>\n",
              "      <td>222350</td>\n",
              "      <td>1 - Entrada</td>\n",
              "      <td>1102 - Compra para comercialização</td>\n",
              "      <td>17.011.236/0001-59</td>\n",
              "      <td>DISTRIBUIDORA AUTOMOTIVOS S.A.</td>\n",
              "      <td>MG</td>\n",
              "      <td>01.111.114/0001-11</td>\n",
              "      <td>COMERCIAL DE PECAS AUTOMOTIVAS</td>\n",
              "      <td>563.11</td>\n",
              "      <td>2021-07-07</td>\n",
              "      <td>-</td>\n",
              "      <td>561.11</td>\n",
              "      <td>0.0</td>\n",
              "      <td>0.0</td>\n",
              "      <td>28 dias</td>\n",
              "    </tr>\n",
              "    <tr>\n",
              "      <th>2</th>\n",
              "      <td>222603</td>\n",
              "      <td>1 - Entrada</td>\n",
              "      <td>1102 - Compra para comercialização</td>\n",
              "      <td>17.011.236/0001-59</td>\n",
              "      <td>DISTRIBUIDORA AUTOMOTIVOS S.A.</td>\n",
              "      <td>MG</td>\n",
              "      <td>01.111.114/0001-11</td>\n",
              "      <td>COMERCIAL DE PECAS AUTOMOTIVAS</td>\n",
              "      <td>1456.56</td>\n",
              "      <td>2021-07-15</td>\n",
              "      <td>-</td>\n",
              "      <td>1454.56</td>\n",
              "      <td>0.0</td>\n",
              "      <td>0.0</td>\n",
              "      <td>28 dias</td>\n",
              "    </tr>\n",
              "    <tr>\n",
              "      <th>3</th>\n",
              "      <td>223025</td>\n",
              "      <td>1 - Entrada</td>\n",
              "      <td>1102 - Compra para comercialização</td>\n",
              "      <td>17.011.236/0001-59</td>\n",
              "      <td>DISTRIBUIDORA AUTOMOTIVOS S.A.</td>\n",
              "      <td>MG</td>\n",
              "      <td>01.111.114/0001-11</td>\n",
              "      <td>COMERCIAL DE PECAS AUTOMOTIVAS</td>\n",
              "      <td>1458.64</td>\n",
              "      <td>2021-07-22</td>\n",
              "      <td>-</td>\n",
              "      <td>1458.64</td>\n",
              "      <td>0.0</td>\n",
              "      <td>0.0</td>\n",
              "      <td>28 dias</td>\n",
              "    </tr>\n",
              "    <tr>\n",
              "      <th>4</th>\n",
              "      <td>223069</td>\n",
              "      <td>1 - Entrada</td>\n",
              "      <td>1102 - Compra para comercialização</td>\n",
              "      <td>17.011.236/0001-59</td>\n",
              "      <td>DISTRIBUIDORA AUTOMOTIVOS S.A.</td>\n",
              "      <td>MG</td>\n",
              "      <td>01.111.114/0001-11</td>\n",
              "      <td>COMERCIAL DE PECAS AUTOMOTIVAS</td>\n",
              "      <td>65.80</td>\n",
              "      <td>2021-07-23</td>\n",
              "      <td>-</td>\n",
              "      <td>63.80</td>\n",
              "      <td>0.0</td>\n",
              "      <td>0.0</td>\n",
              "      <td>28 dias</td>\n",
              "    </tr>\n",
              "  </tbody>\n",
              "</table>\n",
              "</div>"
            ],
            "text/plain": [
              "   Nº da Nota - Compra  ... Forma de Pagamento - Compra\n",
              "0               335953  ...                     A vista\n",
              "1               222350  ...                     28 dias\n",
              "2               222603  ...                     28 dias\n",
              "3               223025  ...                     28 dias\n",
              "4               223069  ...                     28 dias\n",
              "\n",
              "[5 rows x 15 columns]"
            ]
          },
          "metadata": {},
          "execution_count": 120
        }
      ]
    },
    {
      "cell_type": "code",
      "metadata": {
        "colab": {
          "base_uri": "https://localhost:8080/"
        },
        "id": "yNDsj6aaaCEx",
        "outputId": "a85a97db-451e-4c83-95b4-8fbc789cef57"
      },
      "source": [
        "#Quantidade de linhas e colunas\n",
        "df.shape"
      ],
      "execution_count": null,
      "outputs": [
        {
          "output_type": "execute_result",
          "data": {
            "text/plain": [
              "(86, 15)"
            ]
          },
          "metadata": {},
          "execution_count": 121
        }
      ]
    },
    {
      "cell_type": "code",
      "metadata": {
        "colab": {
          "base_uri": "https://localhost:8080/"
        },
        "id": "Cgk7kx3saU3z",
        "outputId": "f4045b08-d121-4b30-82a3-9423ba0f6c26"
      },
      "source": [
        "#Verificando os tipos de dados\n",
        "df.dtypes"
      ],
      "execution_count": null,
      "outputs": [
        {
          "output_type": "execute_result",
          "data": {
            "text/plain": [
              "Nº da Nota - Compra                      int64\n",
              "Tipo Oper.  - Compra                    object\n",
              "Natureza Operação  - Compra             object\n",
              "CNPJ Destinatário  - Compra             object\n",
              "Razão Social Destinatário  - Compra     object\n",
              "UF Dest - Compra                        object\n",
              "CNPJ Emitente - Compra                  object\n",
              "Razão Social Emitente - Compra          object\n",
              "Valor da Nota Fiscal - Compra          float64\n",
              "Emissão - Compra                        object\n",
              "Data Entr. Saída - Compra               object\n",
              "Valor dos Produtos - Compra            float64\n",
              "Total ICMS - Compra                    float64\n",
              "Total IPI - Compra                     float64\n",
              "Forma de Pagamento - Compra             object\n",
              "dtype: object"
            ]
          },
          "metadata": {},
          "execution_count": 122
        }
      ]
    },
    {
      "cell_type": "code",
      "metadata": {
        "id": "tXaSUFlrx5iH"
      },
      "source": [
        "#Alterando o tipo de dado das colunas Compras\n",
        "df[\"Nº da Nota - Compra\"] = df[\"Nº da Nota - Compra\"].astype(\"object\")\n",
        "df[\"Emissão - Compra\"] = df[\"Emissão - Compra\"].astype(\"datetime64[ns]\")"
      ],
      "execution_count": null,
      "outputs": []
    },
    {
      "cell_type": "code",
      "metadata": {
        "colab": {
          "base_uri": "https://localhost:8080/"
        },
        "id": "_mSdaR7EwTex",
        "outputId": "62a45ab1-c090-4593-ba6d-1b01e91c12b4"
      },
      "source": [
        "#Verificando os tipos de dados\n",
        "df.dtypes"
      ],
      "execution_count": null,
      "outputs": [
        {
          "output_type": "execute_result",
          "data": {
            "text/plain": [
              "Nº da Nota - Compra                            object\n",
              "Tipo Oper.  - Compra                           object\n",
              "Natureza Operação  - Compra                    object\n",
              "CNPJ Destinatário  - Compra                    object\n",
              "Razão Social Destinatário  - Compra            object\n",
              "UF Dest - Compra                               object\n",
              "CNPJ Emitente - Compra                         object\n",
              "Razão Social Emitente - Compra                 object\n",
              "Valor da Nota Fiscal - Compra                 float64\n",
              "Emissão - Compra                       datetime64[ns]\n",
              "Data Entr. Saída - Compra                      object\n",
              "Valor dos Produtos - Compra                   float64\n",
              "Total ICMS - Compra                           float64\n",
              "Total IPI - Compra                            float64\n",
              "Forma de Pagamento - Compra                    object\n",
              "dtype: object"
            ]
          },
          "metadata": {},
          "execution_count": 124
        }
      ]
    },
    {
      "cell_type": "code",
      "metadata": {
        "colab": {
          "base_uri": "https://localhost:8080/"
        },
        "id": "LpEDx5aX2PS7",
        "outputId": "268ab6c1-ac33-440a-a76d-438c2eb8d9d3"
      },
      "source": [
        "#Consultando linhas com valores faltantes\n",
        "df.isnull().sum()"
      ],
      "execution_count": null,
      "outputs": [
        {
          "output_type": "execute_result",
          "data": {
            "text/plain": [
              "Nº da Nota - Compra                    0\n",
              "Tipo Oper.  - Compra                   0\n",
              "Natureza Operação  - Compra            0\n",
              "CNPJ Destinatário  - Compra            0\n",
              "Razão Social Destinatário  - Compra    0\n",
              "UF Dest - Compra                       0\n",
              "CNPJ Emitente - Compra                 0\n",
              "Razão Social Emitente - Compra         0\n",
              "Valor da Nota Fiscal - Compra          0\n",
              "Emissão - Compra                       0\n",
              "Data Entr. Saída - Compra              0\n",
              "Valor dos Produtos - Compra            0\n",
              "Total ICMS - Compra                    0\n",
              "Total IPI - Compra                     0\n",
              "Forma de Pagamento - Compra            0\n",
              "dtype: int64"
            ]
          },
          "metadata": {},
          "execution_count": 125
        }
      ]
    },
    {
      "cell_type": "code",
      "metadata": {
        "colab": {
          "base_uri": "https://localhost:8080/",
          "height": 349
        },
        "id": "PFN8RDYn2bVx",
        "outputId": "379ddab8-8e9b-4cf9-e948-c8a31c5e2a23"
      },
      "source": [
        "df.sample(3)"
      ],
      "execution_count": null,
      "outputs": [
        {
          "output_type": "execute_result",
          "data": {
            "text/html": [
              "<div>\n",
              "<style scoped>\n",
              "    .dataframe tbody tr th:only-of-type {\n",
              "        vertical-align: middle;\n",
              "    }\n",
              "\n",
              "    .dataframe tbody tr th {\n",
              "        vertical-align: top;\n",
              "    }\n",
              "\n",
              "    .dataframe thead th {\n",
              "        text-align: right;\n",
              "    }\n",
              "</style>\n",
              "<table border=\"1\" class=\"dataframe\">\n",
              "  <thead>\n",
              "    <tr style=\"text-align: right;\">\n",
              "      <th></th>\n",
              "      <th>Nº da Nota - Compra</th>\n",
              "      <th>Tipo Oper.  - Compra</th>\n",
              "      <th>Natureza Operação  - Compra</th>\n",
              "      <th>CNPJ Destinatário  - Compra</th>\n",
              "      <th>Razão Social Destinatário  - Compra</th>\n",
              "      <th>UF Dest - Compra</th>\n",
              "      <th>CNPJ Emitente - Compra</th>\n",
              "      <th>Razão Social Emitente - Compra</th>\n",
              "      <th>Valor da Nota Fiscal - Compra</th>\n",
              "      <th>Emissão - Compra</th>\n",
              "      <th>Data Entr. Saída - Compra</th>\n",
              "      <th>Valor dos Produtos - Compra</th>\n",
              "      <th>Total ICMS - Compra</th>\n",
              "      <th>Total IPI - Compra</th>\n",
              "      <th>Forma de Pagamento - Compra</th>\n",
              "    </tr>\n",
              "  </thead>\n",
              "  <tbody>\n",
              "    <tr>\n",
              "      <th>5</th>\n",
              "      <td>223077</td>\n",
              "      <td>1 - Entrada</td>\n",
              "      <td>1102 - Compra para comercialização</td>\n",
              "      <td>17.011.236/0001-59</td>\n",
              "      <td>DISTRIBUIDORA AUTOMOTIVOS S.A.</td>\n",
              "      <td>MG</td>\n",
              "      <td>01.111.114/0001-11</td>\n",
              "      <td>COMERCIAL DE PECAS AUTOMOTIVAS</td>\n",
              "      <td>112.40</td>\n",
              "      <td>2021-07-23</td>\n",
              "      <td>-</td>\n",
              "      <td>110.40</td>\n",
              "      <td>0.00</td>\n",
              "      <td>0.00</td>\n",
              "      <td>28 dias</td>\n",
              "    </tr>\n",
              "    <tr>\n",
              "      <th>68</th>\n",
              "      <td>307020</td>\n",
              "      <td>1 - Entrada</td>\n",
              "      <td>1403 - Compra para comercialização ST</td>\n",
              "      <td>17.011.236/0001-59</td>\n",
              "      <td>DISTRIBUIDORA AUTOMOTIVOS S.A.</td>\n",
              "      <td>MG</td>\n",
              "      <td>66.975.699/0001-47</td>\n",
              "      <td>GLE DO BRASIL LTDA</td>\n",
              "      <td>1102.86</td>\n",
              "      <td>2021-07-29</td>\n",
              "      <td>-</td>\n",
              "      <td>836.54</td>\n",
              "      <td>100.39</td>\n",
              "      <td>66.92</td>\n",
              "      <td>35 DIAS</td>\n",
              "    </tr>\n",
              "    <tr>\n",
              "      <th>54</th>\n",
              "      <td>27562</td>\n",
              "      <td>1 - Entrada</td>\n",
              "      <td>1102 - Compra para comercialização</td>\n",
              "      <td>17.011.236/0001-59</td>\n",
              "      <td>DISTRIBUIDORA AUTOMOTIVOS S.A.</td>\n",
              "      <td>MG</td>\n",
              "      <td>11.145.571/0001-10</td>\n",
              "      <td>DQUIM PRODUTOS EIRELI</td>\n",
              "      <td>70947.60</td>\n",
              "      <td>2021-07-28</td>\n",
              "      <td>-</td>\n",
              "      <td>70947.60</td>\n",
              "      <td>8513.71</td>\n",
              "      <td>0.00</td>\n",
              "      <td>A vista</td>\n",
              "    </tr>\n",
              "  </tbody>\n",
              "</table>\n",
              "</div>"
            ],
            "text/plain": [
              "   Nº da Nota - Compra  ... Forma de Pagamento - Compra\n",
              "5               223077  ...                     28 dias\n",
              "68              307020  ...                     35 DIAS\n",
              "54               27562  ...                     A vista\n",
              "\n",
              "[3 rows x 15 columns]"
            ]
          },
          "metadata": {},
          "execution_count": 126
        }
      ]
    },
    {
      "cell_type": "code",
      "metadata": {
        "colab": {
          "base_uri": "https://localhost:8080/"
        },
        "id": "x3BIp0f62u1S",
        "outputId": "8a00ee31-2588-4d65-e23f-d67c9748b74a"
      },
      "source": [
        "#Retornando a maior Compra\n",
        "df[\"Valor da Nota Fiscal - Compra\"].max()"
      ],
      "execution_count": null,
      "outputs": [
        {
          "output_type": "execute_result",
          "data": {
            "text/plain": [
              "163145.14"
            ]
          },
          "metadata": {},
          "execution_count": 127
        }
      ]
    },
    {
      "cell_type": "code",
      "metadata": {
        "colab": {
          "base_uri": "https://localhost:8080/"
        },
        "id": "aP3I-6qviRi3",
        "outputId": "03af8639-476f-4e22-e2f3-16b289771fd9"
      },
      "source": [
        "#Retornando a menor Compra\n",
        "df[\"Valor da Nota Fiscal - Compra\"].min()"
      ],
      "execution_count": null,
      "outputs": [
        {
          "output_type": "execute_result",
          "data": {
            "text/plain": [
              "20.0"
            ]
          },
          "metadata": {},
          "execution_count": 128
        }
      ]
    },
    {
      "cell_type": "code",
      "metadata": {
        "colab": {
          "base_uri": "https://localhost:8080/"
        },
        "id": "vVV9vIuNidbt",
        "outputId": "312e7a99-8b0b-4e4f-f292-f64bb89bf712"
      },
      "source": [
        "#Retornando a média das Compras\n",
        "round(df[\"Valor da Nota Fiscal - Compra\"].mean(),2)"
      ],
      "execution_count": null,
      "outputs": [
        {
          "output_type": "execute_result",
          "data": {
            "text/plain": [
              "19106.37"
            ]
          },
          "metadata": {},
          "execution_count": 235
        }
      ]
    },
    {
      "cell_type": "code",
      "metadata": {
        "colab": {
          "base_uri": "https://localhost:8080/",
          "height": 332
        },
        "id": "rOzZDrH02v2-",
        "outputId": "1be929af-8b83-48f9-a1a3-139aa02c3393"
      },
      "source": [
        "#Retonando em ordem decrescente 3 Maiores Compras\n",
        "df.nlargest(3, \"Valor da Nota Fiscal - Compra\")"
      ],
      "execution_count": null,
      "outputs": [
        {
          "output_type": "execute_result",
          "data": {
            "text/html": [
              "<div>\n",
              "<style scoped>\n",
              "    .dataframe tbody tr th:only-of-type {\n",
              "        vertical-align: middle;\n",
              "    }\n",
              "\n",
              "    .dataframe tbody tr th {\n",
              "        vertical-align: top;\n",
              "    }\n",
              "\n",
              "    .dataframe thead th {\n",
              "        text-align: right;\n",
              "    }\n",
              "</style>\n",
              "<table border=\"1\" class=\"dataframe\">\n",
              "  <thead>\n",
              "    <tr style=\"text-align: right;\">\n",
              "      <th></th>\n",
              "      <th>Nº da Nota - Compra</th>\n",
              "      <th>Tipo Oper.  - Compra</th>\n",
              "      <th>Natureza Operação  - Compra</th>\n",
              "      <th>CNPJ Destinatário  - Compra</th>\n",
              "      <th>Razão Social Destinatário  - Compra</th>\n",
              "      <th>UF Dest - Compra</th>\n",
              "      <th>CNPJ Emitente - Compra</th>\n",
              "      <th>Razão Social Emitente - Compra</th>\n",
              "      <th>Valor da Nota Fiscal - Compra</th>\n",
              "      <th>Emissão - Compra</th>\n",
              "      <th>Data Entr. Saída - Compra</th>\n",
              "      <th>Valor dos Produtos - Compra</th>\n",
              "      <th>Total ICMS - Compra</th>\n",
              "      <th>Total IPI - Compra</th>\n",
              "      <th>Forma de Pagamento - Compra</th>\n",
              "    </tr>\n",
              "  </thead>\n",
              "  <tbody>\n",
              "    <tr>\n",
              "      <th>50</th>\n",
              "      <td>97532</td>\n",
              "      <td>1 - Entrada</td>\n",
              "      <td>1102 - Compra para comercialização</td>\n",
              "      <td>17.011.236/0001-59</td>\n",
              "      <td>DISTRIBUIDORA AUTOMOTIVOS S.A.</td>\n",
              "      <td>MG</td>\n",
              "      <td>04.155.016/0001-74</td>\n",
              "      <td>FAPE FILTROS S.A.</td>\n",
              "      <td>163145.14</td>\n",
              "      <td>2021-07-20</td>\n",
              "      <td>-</td>\n",
              "      <td>125979.84</td>\n",
              "      <td>14687.29</td>\n",
              "      <td>7415.68</td>\n",
              "      <td>42 DIAS</td>\n",
              "    </tr>\n",
              "    <tr>\n",
              "      <th>80</th>\n",
              "      <td>359720</td>\n",
              "      <td>1 - Entrada</td>\n",
              "      <td>1102 - Compra para comercialização</td>\n",
              "      <td>17.011.236/0001-59</td>\n",
              "      <td>DISTRIBUIDORA AUTOMOTIVOS S.A.</td>\n",
              "      <td>MG</td>\n",
              "      <td>05.097.111/0001-14</td>\n",
              "      <td>R PECAS AUTOMOTIVAS LTDA</td>\n",
              "      <td>109971.04</td>\n",
              "      <td>2021-07-17</td>\n",
              "      <td>-</td>\n",
              "      <td>109971.04</td>\n",
              "      <td>4398.84</td>\n",
              "      <td>0.00</td>\n",
              "      <td>42 DIAS</td>\n",
              "    </tr>\n",
              "    <tr>\n",
              "      <th>85</th>\n",
              "      <td>320953</td>\n",
              "      <td>1 - Entrada</td>\n",
              "      <td>1102 - Compra para comercialização</td>\n",
              "      <td>17.011.236/0001-59</td>\n",
              "      <td>DISTRIBUIDORA AUTOMOTIVOS S.A.</td>\n",
              "      <td>MG</td>\n",
              "      <td>05.097.111/0001-14</td>\n",
              "      <td>R PECAS AUTOMOTIVAS LTDA</td>\n",
              "      <td>105855.38</td>\n",
              "      <td>2021-07-29</td>\n",
              "      <td>-</td>\n",
              "      <td>105855.38</td>\n",
              "      <td>4234.22</td>\n",
              "      <td>0.00</td>\n",
              "      <td>42 DIAS</td>\n",
              "    </tr>\n",
              "  </tbody>\n",
              "</table>\n",
              "</div>"
            ],
            "text/plain": [
              "   Nº da Nota - Compra  ... Forma de Pagamento - Compra\n",
              "50               97532  ...                     42 DIAS\n",
              "80              359720  ...                     42 DIAS\n",
              "85              320953  ...                     42 DIAS\n",
              "\n",
              "[3 rows x 15 columns]"
            ]
          },
          "metadata": {},
          "execution_count": 130
        }
      ]
    },
    {
      "cell_type": "code",
      "metadata": {
        "colab": {
          "base_uri": "https://localhost:8080/",
          "height": 366
        },
        "id": "uZrhTIWe22jx",
        "outputId": "b8abc1e6-a512-4d23-b955-b0c11ecff698"
      },
      "source": [
        "#Retonando em ordem crescente 3 Menores Compras\n",
        "df.nsmallest(3, \"Valor da Nota Fiscal - Compra\")"
      ],
      "execution_count": null,
      "outputs": [
        {
          "output_type": "execute_result",
          "data": {
            "text/html": [
              "<div>\n",
              "<style scoped>\n",
              "    .dataframe tbody tr th:only-of-type {\n",
              "        vertical-align: middle;\n",
              "    }\n",
              "\n",
              "    .dataframe tbody tr th {\n",
              "        vertical-align: top;\n",
              "    }\n",
              "\n",
              "    .dataframe thead th {\n",
              "        text-align: right;\n",
              "    }\n",
              "</style>\n",
              "<table border=\"1\" class=\"dataframe\">\n",
              "  <thead>\n",
              "    <tr style=\"text-align: right;\">\n",
              "      <th></th>\n",
              "      <th>Nº da Nota - Compra</th>\n",
              "      <th>Tipo Oper.  - Compra</th>\n",
              "      <th>Natureza Operação  - Compra</th>\n",
              "      <th>CNPJ Destinatário  - Compra</th>\n",
              "      <th>Razão Social Destinatário  - Compra</th>\n",
              "      <th>UF Dest - Compra</th>\n",
              "      <th>CNPJ Emitente - Compra</th>\n",
              "      <th>Razão Social Emitente - Compra</th>\n",
              "      <th>Valor da Nota Fiscal - Compra</th>\n",
              "      <th>Emissão - Compra</th>\n",
              "      <th>Data Entr. Saída - Compra</th>\n",
              "      <th>Valor dos Produtos - Compra</th>\n",
              "      <th>Total ICMS - Compra</th>\n",
              "      <th>Total IPI - Compra</th>\n",
              "      <th>Forma de Pagamento - Compra</th>\n",
              "    </tr>\n",
              "  </thead>\n",
              "  <tbody>\n",
              "    <tr>\n",
              "      <th>33</th>\n",
              "      <td>329650</td>\n",
              "      <td>1 - Entrada</td>\n",
              "      <td>1403 - Compra para comercialização ST</td>\n",
              "      <td>17.011.236/0001-59</td>\n",
              "      <td>DISTRIBUIDORA AUTOMOTIVOS S.A.</td>\n",
              "      <td>MG</td>\n",
              "      <td>40.411.544/0146-74</td>\n",
              "      <td>CLARO S.A</td>\n",
              "      <td>20.0</td>\n",
              "      <td>2021-07-14</td>\n",
              "      <td>-</td>\n",
              "      <td>20.0</td>\n",
              "      <td>0.0</td>\n",
              "      <td>0.0</td>\n",
              "      <td>A vista</td>\n",
              "    </tr>\n",
              "    <tr>\n",
              "      <th>4</th>\n",
              "      <td>223069</td>\n",
              "      <td>1 - Entrada</td>\n",
              "      <td>1102 - Compra para comercialização</td>\n",
              "      <td>17.011.236/0001-59</td>\n",
              "      <td>DISTRIBUIDORA AUTOMOTIVOS S.A.</td>\n",
              "      <td>MG</td>\n",
              "      <td>01.111.114/0001-11</td>\n",
              "      <td>COMERCIAL DE PECAS AUTOMOTIVAS</td>\n",
              "      <td>65.8</td>\n",
              "      <td>2021-07-23</td>\n",
              "      <td>-</td>\n",
              "      <td>63.8</td>\n",
              "      <td>0.0</td>\n",
              "      <td>0.0</td>\n",
              "      <td>28 dias</td>\n",
              "    </tr>\n",
              "    <tr>\n",
              "      <th>5</th>\n",
              "      <td>223077</td>\n",
              "      <td>1 - Entrada</td>\n",
              "      <td>1102 - Compra para comercialização</td>\n",
              "      <td>17.011.236/0001-59</td>\n",
              "      <td>DISTRIBUIDORA AUTOMOTIVOS S.A.</td>\n",
              "      <td>MG</td>\n",
              "      <td>01.111.114/0001-11</td>\n",
              "      <td>COMERCIAL DE PECAS AUTOMOTIVAS</td>\n",
              "      <td>112.4</td>\n",
              "      <td>2021-07-23</td>\n",
              "      <td>-</td>\n",
              "      <td>110.4</td>\n",
              "      <td>0.0</td>\n",
              "      <td>0.0</td>\n",
              "      <td>28 dias</td>\n",
              "    </tr>\n",
              "  </tbody>\n",
              "</table>\n",
              "</div>"
            ],
            "text/plain": [
              "   Nº da Nota - Compra  ... Forma de Pagamento - Compra\n",
              "33              329650  ...                     A vista\n",
              "4               223069  ...                     28 dias\n",
              "5               223077  ...                     28 dias\n",
              "\n",
              "[3 rows x 15 columns]"
            ]
          },
          "metadata": {},
          "execution_count": 131
        }
      ]
    },
    {
      "cell_type": "code",
      "metadata": {
        "colab": {
          "base_uri": "https://localhost:8080/",
          "height": 787
        },
        "id": "QYWDZuI4qoIu",
        "outputId": "e9237b5e-364b-4ef5-cbfc-fdc7ad82b4ab"
      },
      "source": [
        "#Ordenando o conjunto de dados\n",
        "df.sort_values(\"Valor da Nota Fiscal - Compra\", ascending=False).head(10)"
      ],
      "execution_count": null,
      "outputs": [
        {
          "output_type": "execute_result",
          "data": {
            "text/html": [
              "<div>\n",
              "<style scoped>\n",
              "    .dataframe tbody tr th:only-of-type {\n",
              "        vertical-align: middle;\n",
              "    }\n",
              "\n",
              "    .dataframe tbody tr th {\n",
              "        vertical-align: top;\n",
              "    }\n",
              "\n",
              "    .dataframe thead th {\n",
              "        text-align: right;\n",
              "    }\n",
              "</style>\n",
              "<table border=\"1\" class=\"dataframe\">\n",
              "  <thead>\n",
              "    <tr style=\"text-align: right;\">\n",
              "      <th></th>\n",
              "      <th>Nº da Nota - Compra</th>\n",
              "      <th>Tipo Oper.  - Compra</th>\n",
              "      <th>Natureza Operação  - Compra</th>\n",
              "      <th>CNPJ Destinatário  - Compra</th>\n",
              "      <th>Razão Social Destinatário  - Compra</th>\n",
              "      <th>UF Dest - Compra</th>\n",
              "      <th>CNPJ Emitente - Compra</th>\n",
              "      <th>Razão Social Emitente - Compra</th>\n",
              "      <th>Valor da Nota Fiscal - Compra</th>\n",
              "      <th>Emissão - Compra</th>\n",
              "      <th>Data Entr. Saída - Compra</th>\n",
              "      <th>Valor dos Produtos - Compra</th>\n",
              "      <th>Total ICMS - Compra</th>\n",
              "      <th>Total IPI - Compra</th>\n",
              "      <th>Forma de Pagamento - Compra</th>\n",
              "    </tr>\n",
              "  </thead>\n",
              "  <tbody>\n",
              "    <tr>\n",
              "      <th>50</th>\n",
              "      <td>97532</td>\n",
              "      <td>1 - Entrada</td>\n",
              "      <td>1102 - Compra para comercialização</td>\n",
              "      <td>17.011.236/0001-59</td>\n",
              "      <td>DISTRIBUIDORA AUTOMOTIVOS S.A.</td>\n",
              "      <td>MG</td>\n",
              "      <td>04.155.016/0001-74</td>\n",
              "      <td>FAPE FILTROS S.A.</td>\n",
              "      <td>163145.14</td>\n",
              "      <td>2021-07-20</td>\n",
              "      <td>-</td>\n",
              "      <td>125979.84</td>\n",
              "      <td>14687.29</td>\n",
              "      <td>7415.68</td>\n",
              "      <td>42 DIAS</td>\n",
              "    </tr>\n",
              "    <tr>\n",
              "      <th>80</th>\n",
              "      <td>359720</td>\n",
              "      <td>1 - Entrada</td>\n",
              "      <td>1102 - Compra para comercialização</td>\n",
              "      <td>17.011.236/0001-59</td>\n",
              "      <td>DISTRIBUIDORA AUTOMOTIVOS S.A.</td>\n",
              "      <td>MG</td>\n",
              "      <td>05.097.111/0001-14</td>\n",
              "      <td>R PECAS AUTOMOTIVAS LTDA</td>\n",
              "      <td>109971.04</td>\n",
              "      <td>2021-07-17</td>\n",
              "      <td>-</td>\n",
              "      <td>109971.04</td>\n",
              "      <td>4398.84</td>\n",
              "      <td>0.00</td>\n",
              "      <td>42 DIAS</td>\n",
              "    </tr>\n",
              "    <tr>\n",
              "      <th>85</th>\n",
              "      <td>320953</td>\n",
              "      <td>1 - Entrada</td>\n",
              "      <td>1102 - Compra para comercialização</td>\n",
              "      <td>17.011.236/0001-59</td>\n",
              "      <td>DISTRIBUIDORA AUTOMOTIVOS S.A.</td>\n",
              "      <td>MG</td>\n",
              "      <td>05.097.111/0001-14</td>\n",
              "      <td>R PECAS AUTOMOTIVAS LTDA</td>\n",
              "      <td>105855.38</td>\n",
              "      <td>2021-07-29</td>\n",
              "      <td>-</td>\n",
              "      <td>105855.38</td>\n",
              "      <td>4234.22</td>\n",
              "      <td>0.00</td>\n",
              "      <td>42 DIAS</td>\n",
              "    </tr>\n",
              "    <tr>\n",
              "      <th>79</th>\n",
              "      <td>359759</td>\n",
              "      <td>1 - Entrada</td>\n",
              "      <td>1102 - Compra para comercialização</td>\n",
              "      <td>17.011.236/0001-59</td>\n",
              "      <td>DISTRIBUIDORA AUTOMOTIVOS S.A.</td>\n",
              "      <td>MG</td>\n",
              "      <td>05.097.111/0001-14</td>\n",
              "      <td>R PECAS AUTOMOTIVAS LTDA</td>\n",
              "      <td>102902.14</td>\n",
              "      <td>2021-07-17</td>\n",
              "      <td>-</td>\n",
              "      <td>102902.14</td>\n",
              "      <td>4116.09</td>\n",
              "      <td>0.00</td>\n",
              "      <td>42 DIAS</td>\n",
              "    </tr>\n",
              "    <tr>\n",
              "      <th>75</th>\n",
              "      <td>3272</td>\n",
              "      <td>1 - Entrada</td>\n",
              "      <td>2653 - Compra de combustível ou lubrificante</td>\n",
              "      <td>17.011.236/0001-59</td>\n",
              "      <td>DISTRIBUIDORA AUTOMOTIVOS S.A.</td>\n",
              "      <td>MG</td>\n",
              "      <td>00.616.970/0001-05</td>\n",
              "      <td>CLUB LUBRIFICANTES LTDA</td>\n",
              "      <td>102066.47</td>\n",
              "      <td>2021-07-09</td>\n",
              "      <td>-</td>\n",
              "      <td>75376.10</td>\n",
              "      <td>0.00</td>\n",
              "      <td>0.00</td>\n",
              "      <td>42 DIAS</td>\n",
              "    </tr>\n",
              "    <tr>\n",
              "      <th>46</th>\n",
              "      <td>97532</td>\n",
              "      <td>1 - Entrada</td>\n",
              "      <td>1102 - Compra para comercialização</td>\n",
              "      <td>17.011.236/0001-59</td>\n",
              "      <td>DISTRIBUIDORA AUTOMOTIVOS S.A.</td>\n",
              "      <td>MG</td>\n",
              "      <td>04.155.016/0001-74</td>\n",
              "      <td>FAPE FILTROS S.A.</td>\n",
              "      <td>89575.35</td>\n",
              "      <td>2021-07-20</td>\n",
              "      <td>-</td>\n",
              "      <td>68871.12</td>\n",
              "      <td>7984.74</td>\n",
              "      <td>4331.51</td>\n",
              "      <td>42 DIAS</td>\n",
              "    </tr>\n",
              "    <tr>\n",
              "      <th>84</th>\n",
              "      <td>320950</td>\n",
              "      <td>1 - Entrada</td>\n",
              "      <td>1102 - Compra para comercialização</td>\n",
              "      <td>17.011.236/0001-59</td>\n",
              "      <td>DISTRIBUIDORA AUTOMOTIVOS S.A.</td>\n",
              "      <td>MG</td>\n",
              "      <td>05.097.111/0001-14</td>\n",
              "      <td>R PECAS AUTOMOTIVAS LTDA</td>\n",
              "      <td>87423.06</td>\n",
              "      <td>2021-07-29</td>\n",
              "      <td>-</td>\n",
              "      <td>87423.06</td>\n",
              "      <td>3496.92</td>\n",
              "      <td>0.00</td>\n",
              "      <td>42 DIAS</td>\n",
              "    </tr>\n",
              "    <tr>\n",
              "      <th>52</th>\n",
              "      <td>97263</td>\n",
              "      <td>1 - Entrada</td>\n",
              "      <td>1102 - Compra para comercialização</td>\n",
              "      <td>17.011.236/0001-59</td>\n",
              "      <td>DISTRIBUIDORA AUTOMOTIVOS S.A.</td>\n",
              "      <td>MG</td>\n",
              "      <td>04.155.016/0001-74</td>\n",
              "      <td>FAPE FILTROS S.A.</td>\n",
              "      <td>76105.56</td>\n",
              "      <td>2021-07-21</td>\n",
              "      <td>-</td>\n",
              "      <td>57562.45</td>\n",
              "      <td>6378.97</td>\n",
              "      <td>4249.90</td>\n",
              "      <td>42 DIAS</td>\n",
              "    </tr>\n",
              "    <tr>\n",
              "      <th>54</th>\n",
              "      <td>27562</td>\n",
              "      <td>1 - Entrada</td>\n",
              "      <td>1102 - Compra para comercialização</td>\n",
              "      <td>17.011.236/0001-59</td>\n",
              "      <td>DISTRIBUIDORA AUTOMOTIVOS S.A.</td>\n",
              "      <td>MG</td>\n",
              "      <td>11.145.571/0001-10</td>\n",
              "      <td>DQUIM PRODUTOS EIRELI</td>\n",
              "      <td>70947.60</td>\n",
              "      <td>2021-07-28</td>\n",
              "      <td>-</td>\n",
              "      <td>70947.60</td>\n",
              "      <td>8513.71</td>\n",
              "      <td>0.00</td>\n",
              "      <td>A vista</td>\n",
              "    </tr>\n",
              "    <tr>\n",
              "      <th>73</th>\n",
              "      <td>3207</td>\n",
              "      <td>1 - Entrada</td>\n",
              "      <td>2653 - Compra de combustível ou lubrificante</td>\n",
              "      <td>17.011.236/0001-59</td>\n",
              "      <td>DISTRIBUIDORA AUTOMOTIVOS S.A.</td>\n",
              "      <td>MG</td>\n",
              "      <td>00.616.970/0001-05</td>\n",
              "      <td>CLUB LUBRIFICANTES LTDA</td>\n",
              "      <td>70248.17</td>\n",
              "      <td>2021-07-01</td>\n",
              "      <td>-</td>\n",
              "      <td>51878.28</td>\n",
              "      <td>0.00</td>\n",
              "      <td>0.00</td>\n",
              "      <td>42 DIAS</td>\n",
              "    </tr>\n",
              "  </tbody>\n",
              "</table>\n",
              "</div>"
            ],
            "text/plain": [
              "   Nº da Nota - Compra  ... Forma de Pagamento - Compra\n",
              "50               97532  ...                     42 DIAS\n",
              "80              359720  ...                     42 DIAS\n",
              "85              320953  ...                     42 DIAS\n",
              "79              359759  ...                     42 DIAS\n",
              "75                3272  ...                     42 DIAS\n",
              "46               97532  ...                     42 DIAS\n",
              "84              320950  ...                     42 DIAS\n",
              "52               97263  ...                     42 DIAS\n",
              "54               27562  ...                     A vista\n",
              "73                3207  ...                     42 DIAS\n",
              "\n",
              "[10 rows x 15 columns]"
            ]
          },
          "metadata": {},
          "execution_count": 132
        }
      ]
    },
    {
      "cell_type": "code",
      "metadata": {
        "colab": {
          "base_uri": "https://localhost:8080/",
          "height": 347
        },
        "id": "j-ZL4P4M01zp",
        "outputId": "0de919a7-ea87-456c-8202-68cc75ca7096"
      },
      "source": [
        "#Gráfico de barras horizontais\n",
        "df[\"Razão Social Emitente - Compra\"].value_counts(ascending=True).plot.barh();"
      ],
      "execution_count": null,
      "outputs": [
        {
          "output_type": "display_data",
          "data": {
            "image/png": "[encoded data removed]",
            "text/plain": [
              "<Figure size 576x396 with 1 Axes>"
            ]
          },
          "metadata": {}
        }
      ]
    },
    {
      "cell_type": "code",
      "metadata": {
        "colab": {
          "base_uri": "https://localhost:8080/"
        },
        "id": "A3HIqv3025bw",
        "outputId": "cd63bad0-460b-4d33-fa87-05c6c5f5ca67"
      },
      "source": [
        "#Agrupamento Natureza da Operação (importante para apuração dos Créditos dos impostos)\n",
        "df.groupby(\"Natureza Operação  - Compra\")[\"Valor da Nota Fiscal - Compra\"].sum()"
      ],
      "execution_count": null,
      "outputs": [
        {
          "output_type": "execute_result",
          "data": {
            "text/plain": [
              "Natureza Operação  - Compra\n",
              "1102 - Compra para comercialização                1151303.98\n",
              "1202 - Devolução venda de mercadoria adquirida        203.84\n",
              "1403 - Compra para comercialização ST              174047.52\n",
              "1653 - Compra de combustível ou lubrificante        64603.28\n",
              "1922 - Simples faturamento para entrega futura      18405.89\n",
              "2653 - Compra de combustível ou lubrificante       234258.57\n",
              "6556 - Devolução de material de uso ou consumo        324.48\n",
              "Name: Valor da Nota Fiscal - Compra, dtype: float64"
            ]
          },
          "metadata": {},
          "execution_count": 52
        }
      ]
    },
    {
      "cell_type": "code",
      "metadata": {
        "colab": {
          "base_uri": "https://localhost:8080/",
          "height": 330
        },
        "id": "gljEu0nQuq3V",
        "outputId": "c64e2b30-2fdd-400f-fcf8-e20b19372569"
      },
      "source": [
        "#Gráfico de Pizza\n",
        "df[\"Natureza Operação  - Compra\"].value_counts().plot.pie()\n",
        "plt.ylabel(\"Tipos de Compras no mês\");"
      ],
      "execution_count": null,
      "outputs": [
        {
          "output_type": "display_data",
          "data": {
            "image/png": "[encoded data removed]",
            "text/plain": [
              "<Figure size 576x396 with 1 Axes>"
            ]
          },
          "metadata": {}
        }
      ]
    },
    {
      "cell_type": "markdown",
      "metadata": {
        "id": "_LO-qBJJ0Nt3"
      },
      "source": [
        "#*Análise da Planilha com Notas Fiscais de Vendas*"
      ]
    },
    {
      "cell_type": "code",
      "metadata": {
        "id": "cNcU4NdOAXVz"
      },
      "source": [
        "#Criando DataFrame de Vendas\n",
        "df = pd.read_excel(\"RelatorioNFe-saidas_limpa.xlsx\")"
      ],
      "execution_count": null,
      "outputs": []
    },
    {
      "cell_type": "code",
      "metadata": {
        "colab": {
          "base_uri": "https://localhost:8080/",
          "height": 357
        },
        "id": "v4Bl3V3ZAp1w",
        "outputId": "679017fd-3cfe-483e-bcfd-77dd37d43e2b"
      },
      "source": [
        "#Visualizando as 5 primeiras linhas\n",
        "df.head()"
      ],
      "execution_count": null,
      "outputs": [
        {
          "output_type": "execute_result",
          "data": {
            "text/html": [
              "<div>\n",
              "<style scoped>\n",
              "    .dataframe tbody tr th:only-of-type {\n",
              "        vertical-align: middle;\n",
              "    }\n",
              "\n",
              "    .dataframe tbody tr th {\n",
              "        vertical-align: top;\n",
              "    }\n",
              "\n",
              "    .dataframe thead th {\n",
              "        text-align: right;\n",
              "    }\n",
              "</style>\n",
              "<table border=\"1\" class=\"dataframe\">\n",
              "  <thead>\n",
              "    <tr style=\"text-align: right;\">\n",
              "      <th></th>\n",
              "      <th>Nº da Nota - Venda</th>\n",
              "      <th>Tipo Oper. - Venda</th>\n",
              "      <th>Natureza Operação - Venda</th>\n",
              "      <th>CNPJ Destinatário - Venda</th>\n",
              "      <th>Razão Social Destinatário - Venda</th>\n",
              "      <th>UF Dest - Venda</th>\n",
              "      <th>CNPJ Emitente - Venda</th>\n",
              "      <th>Razão Social Emitente - Venda</th>\n",
              "      <th>Valor da Nota Fiscal - Venda</th>\n",
              "      <th>Emissão - Venda</th>\n",
              "      <th>Data Entr. Saída - Venda</th>\n",
              "      <th>Valor dos Produtos - Venda</th>\n",
              "      <th>Total ICMS - Venda</th>\n",
              "      <th>Total IPI - Venda</th>\n",
              "      <th>Forma de Pagamento - Venda</th>\n",
              "    </tr>\n",
              "  </thead>\n",
              "  <tbody>\n",
              "    <tr>\n",
              "      <th>0</th>\n",
              "      <td>43363</td>\n",
              "      <td>1 - Saída</td>\n",
              "      <td>5102 - Venda de mercadoria</td>\n",
              "      <td>19.697.697/0001-66</td>\n",
              "      <td>CAITANO PEÇAS</td>\n",
              "      <td>MG</td>\n",
              "      <td>17.011.236/0001-59</td>\n",
              "      <td>DISTRIBUIDORA AUTOMOTIVOS S.A.</td>\n",
              "      <td>2034.66</td>\n",
              "      <td>2021-07-01</td>\n",
              "      <td>-</td>\n",
              "      <td>2034.66</td>\n",
              "      <td>0.0</td>\n",
              "      <td>0.0</td>\n",
              "      <td>28 DIAS</td>\n",
              "    </tr>\n",
              "    <tr>\n",
              "      <th>1</th>\n",
              "      <td>43364</td>\n",
              "      <td>1 - Saída</td>\n",
              "      <td>5102 - Venda de mercadoria</td>\n",
              "      <td>76.977.957/0001-46</td>\n",
              "      <td>MAIA PEÇAS</td>\n",
              "      <td>MG</td>\n",
              "      <td>17.011.236/0001-59</td>\n",
              "      <td>DISTRIBUIDORA AUTOMOTIVOS S.A.</td>\n",
              "      <td>646.56</td>\n",
              "      <td>2021-07-01</td>\n",
              "      <td>-</td>\n",
              "      <td>646.56</td>\n",
              "      <td>0.0</td>\n",
              "      <td>0.0</td>\n",
              "      <td>A VISTA</td>\n",
              "    </tr>\n",
              "    <tr>\n",
              "      <th>2</th>\n",
              "      <td>43365</td>\n",
              "      <td>1 - Saída</td>\n",
              "      <td>5102 - Venda de mercadoria</td>\n",
              "      <td>59.961.974/0001-74</td>\n",
              "      <td>SILVA PEÇAS</td>\n",
              "      <td>MG</td>\n",
              "      <td>17.011.236/0001-59</td>\n",
              "      <td>DISTRIBUIDORA AUTOMOTIVOS S.A.</td>\n",
              "      <td>759.60</td>\n",
              "      <td>2021-07-01</td>\n",
              "      <td>-</td>\n",
              "      <td>759.60</td>\n",
              "      <td>0.0</td>\n",
              "      <td>0.0</td>\n",
              "      <td>A VISTA</td>\n",
              "    </tr>\n",
              "    <tr>\n",
              "      <th>3</th>\n",
              "      <td>43366</td>\n",
              "      <td>1 - Saída</td>\n",
              "      <td>5102 - Venda de mercadoria</td>\n",
              "      <td>17.466.499/0001-00</td>\n",
              "      <td>SPARTA CENTRO AUTOMOTIVO LTDA</td>\n",
              "      <td>MG</td>\n",
              "      <td>17.011.236/0001-59</td>\n",
              "      <td>DISTRIBUIDORA AUTOMOTIVOS S.A.</td>\n",
              "      <td>813.60</td>\n",
              "      <td>2021-07-01</td>\n",
              "      <td>-</td>\n",
              "      <td>813.60</td>\n",
              "      <td>0.0</td>\n",
              "      <td>0.0</td>\n",
              "      <td>A VISTA</td>\n",
              "    </tr>\n",
              "    <tr>\n",
              "      <th>4</th>\n",
              "      <td>43367</td>\n",
              "      <td>1 - Saída</td>\n",
              "      <td>5102 - Venda de mercadoria</td>\n",
              "      <td>19.197.619/0001-96</td>\n",
              "      <td>COMERCIO DE LUBRIFICANTES LTDA</td>\n",
              "      <td>MG</td>\n",
              "      <td>17.011.236/0001-59</td>\n",
              "      <td>DISTRIBUIDORA AUTOMOTIVOS S.A.</td>\n",
              "      <td>762.00</td>\n",
              "      <td>2021-07-01</td>\n",
              "      <td>-</td>\n",
              "      <td>762.00</td>\n",
              "      <td>0.0</td>\n",
              "      <td>0.0</td>\n",
              "      <td>A VISTA</td>\n",
              "    </tr>\n",
              "  </tbody>\n",
              "</table>\n",
              "</div>"
            ],
            "text/plain": [
              "   Nº da Nota - Venda  ... Forma de Pagamento - Venda\n",
              "0               43363  ...                    28 DIAS\n",
              "1               43364  ...                    A VISTA\n",
              "2               43365  ...                    A VISTA\n",
              "3               43366  ...                    A VISTA\n",
              "4               43367  ...                    A VISTA\n",
              "\n",
              "[5 rows x 15 columns]"
            ]
          },
          "metadata": {},
          "execution_count": 143
        }
      ]
    },
    {
      "cell_type": "code",
      "metadata": {
        "colab": {
          "base_uri": "https://localhost:8080/"
        },
        "id": "iRAJuZSOA-XT",
        "outputId": "e233d29e-493d-445f-ca72-8802475146ba"
      },
      "source": [
        "#Quantidade de linhas e colunas\n",
        "df.shape"
      ],
      "execution_count": null,
      "outputs": [
        {
          "output_type": "execute_result",
          "data": {
            "text/plain": [
              "(1483, 15)"
            ]
          },
          "metadata": {},
          "execution_count": 144
        }
      ]
    },
    {
      "cell_type": "code",
      "metadata": {
        "colab": {
          "base_uri": "https://localhost:8080/"
        },
        "id": "EBXkraJjBFGq",
        "outputId": "edcb7911-abe5-4c0a-ae04-ee02490b2d93"
      },
      "source": [
        "#Verificando os tipos de dados\n",
        "df.dtypes"
      ],
      "execution_count": null,
      "outputs": [
        {
          "output_type": "execute_result",
          "data": {
            "text/plain": [
              "Nº da Nota - Venda                     int64\n",
              "Tipo Oper. - Venda                    object\n",
              "Natureza Operação - Venda             object\n",
              "CNPJ Destinatário - Venda             object\n",
              "Razão Social Destinatário - Venda     object\n",
              "UF Dest - Venda                       object\n",
              "CNPJ Emitente - Venda                 object\n",
              "Razão Social Emitente - Venda         object\n",
              "Valor da Nota Fiscal - Venda         float64\n",
              "Emissão - Venda                       object\n",
              "Data Entr. Saída - Venda              object\n",
              "Valor dos Produtos - Venda           float64\n",
              "Total ICMS - Venda                   float64\n",
              "Total IPI - Venda                    float64\n",
              "Forma de Pagamento - Venda            object\n",
              "dtype: object"
            ]
          },
          "metadata": {},
          "execution_count": 145
        }
      ]
    },
    {
      "cell_type": "code",
      "metadata": {
        "id": "9I9JpluwBLna"
      },
      "source": [
        "#Alterando o tipo de dado das colunas Compras\n",
        "df[\"Nº da Nota - Venda\"] = df[\"Nº da Nota - Venda\"].astype(\"object\")\n",
        "df[\"Emissão - Venda\"] = df[\"Emissão - Venda\"].astype(\"datetime64[ns]\")"
      ],
      "execution_count": null,
      "outputs": []
    },
    {
      "cell_type": "code",
      "metadata": {
        "colab": {
          "base_uri": "https://localhost:8080/"
        },
        "id": "BZW_1mPLBcCy",
        "outputId": "f0694da9-98f3-4d08-e69d-01e68978a805"
      },
      "source": [
        "#Verificando os tipos de dados\n",
        "df.dtypes"
      ],
      "execution_count": null,
      "outputs": [
        {
          "output_type": "execute_result",
          "data": {
            "text/plain": [
              "Nº da Nota - Venda                           object\n",
              "Tipo Oper. - Venda                           object\n",
              "Natureza Operação - Venda                    object\n",
              "CNPJ Destinatário - Venda                    object\n",
              "Razão Social Destinatário - Venda            object\n",
              "UF Dest - Venda                              object\n",
              "CNPJ Emitente - Venda                        object\n",
              "Razão Social Emitente - Venda                object\n",
              "Valor da Nota Fiscal - Venda                float64\n",
              "Emissão - Venda                      datetime64[ns]\n",
              "Data Entr. Saída - Venda                     object\n",
              "Valor dos Produtos - Venda                  float64\n",
              "Total ICMS - Venda                          float64\n",
              "Total IPI - Venda                           float64\n",
              "Forma de Pagamento - Venda                   object\n",
              "dtype: object"
            ]
          },
          "metadata": {},
          "execution_count": 147
        }
      ]
    },
    {
      "cell_type": "code",
      "metadata": {
        "colab": {
          "base_uri": "https://localhost:8080/"
        },
        "id": "y61eMT95Bi-R",
        "outputId": "b76c87e2-9f69-42e4-a743-29e9ec77958d"
      },
      "source": [
        "#Consultando linhas com valores faltantes\n",
        "df.isnull().sum()"
      ],
      "execution_count": null,
      "outputs": [
        {
          "output_type": "execute_result",
          "data": {
            "text/plain": [
              "Nº da Nota - Venda                   0\n",
              "Tipo Oper. - Venda                   0\n",
              "Natureza Operação - Venda            0\n",
              "CNPJ Destinatário - Venda            0\n",
              "Razão Social Destinatário - Venda    0\n",
              "UF Dest - Venda                      0\n",
              "CNPJ Emitente - Venda                0\n",
              "Razão Social Emitente - Venda        0\n",
              "Valor da Nota Fiscal - Venda         0\n",
              "Emissão - Venda                      0\n",
              "Data Entr. Saída - Venda             0\n",
              "Valor dos Produtos - Venda           0\n",
              "Total ICMS - Venda                   0\n",
              "Total IPI - Venda                    0\n",
              "Forma de Pagamento - Venda           0\n",
              "dtype: int64"
            ]
          },
          "metadata": {},
          "execution_count": 148
        }
      ]
    },
    {
      "cell_type": "code",
      "metadata": {
        "colab": {
          "base_uri": "https://localhost:8080/",
          "height": 278
        },
        "id": "zO2j1xIoBqPW",
        "outputId": "3597bd3d-4033-4c3f-9101-d314438ae5b3"
      },
      "source": [
        "df.sample(3)"
      ],
      "execution_count": null,
      "outputs": [
        {
          "output_type": "execute_result",
          "data": {
            "text/html": [
              "<div>\n",
              "<style scoped>\n",
              "    .dataframe tbody tr th:only-of-type {\n",
              "        vertical-align: middle;\n",
              "    }\n",
              "\n",
              "    .dataframe tbody tr th {\n",
              "        vertical-align: top;\n",
              "    }\n",
              "\n",
              "    .dataframe thead th {\n",
              "        text-align: right;\n",
              "    }\n",
              "</style>\n",
              "<table border=\"1\" class=\"dataframe\">\n",
              "  <thead>\n",
              "    <tr style=\"text-align: right;\">\n",
              "      <th></th>\n",
              "      <th>Nº da Nota - Venda</th>\n",
              "      <th>Tipo Oper. - Venda</th>\n",
              "      <th>Natureza Operação - Venda</th>\n",
              "      <th>CNPJ Destinatário - Venda</th>\n",
              "      <th>Razão Social Destinatário - Venda</th>\n",
              "      <th>UF Dest - Venda</th>\n",
              "      <th>CNPJ Emitente - Venda</th>\n",
              "      <th>Razão Social Emitente - Venda</th>\n",
              "      <th>Valor da Nota Fiscal - Venda</th>\n",
              "      <th>Emissão - Venda</th>\n",
              "      <th>Data Entr. Saída - Venda</th>\n",
              "      <th>Valor dos Produtos - Venda</th>\n",
              "      <th>Total ICMS - Venda</th>\n",
              "      <th>Total IPI - Venda</th>\n",
              "      <th>Forma de Pagamento - Venda</th>\n",
              "    </tr>\n",
              "  </thead>\n",
              "  <tbody>\n",
              "    <tr>\n",
              "      <th>1482</th>\n",
              "      <td>44563</td>\n",
              "      <td>1 - Saída</td>\n",
              "      <td>5102 - Venda de mercadoria</td>\n",
              "      <td>10.470.695/0001-56</td>\n",
              "      <td>LUBRIFICANTES BANDEIRANTES LTDA</td>\n",
              "      <td>MG</td>\n",
              "      <td>17.011.236/0001-59</td>\n",
              "      <td>DISTRIBUIDORA AUTOMOTIVOS S.A.</td>\n",
              "      <td>601.55</td>\n",
              "      <td>2021-07-30</td>\n",
              "      <td>-</td>\n",
              "      <td>601.55</td>\n",
              "      <td>0.0</td>\n",
              "      <td>0.0</td>\n",
              "      <td>A VISTA</td>\n",
              "    </tr>\n",
              "    <tr>\n",
              "      <th>380</th>\n",
              "      <td>43448</td>\n",
              "      <td>1 - Saída</td>\n",
              "      <td>5102 - Venda de mercadoria</td>\n",
              "      <td>55.100.905/0001-75</td>\n",
              "      <td>UNAVIA PECAS E AUTO ELETRICA EIRELI</td>\n",
              "      <td>MG</td>\n",
              "      <td>17.011.236/0001-59</td>\n",
              "      <td>DISTRIBUIDORA AUTOMOTIVOS S.A.</td>\n",
              "      <td>1408.85</td>\n",
              "      <td>2021-07-08</td>\n",
              "      <td>-</td>\n",
              "      <td>1408.85</td>\n",
              "      <td>0.0</td>\n",
              "      <td>0.0</td>\n",
              "      <td>28 DIAS</td>\n",
              "    </tr>\n",
              "    <tr>\n",
              "      <th>855</th>\n",
              "      <td>43929</td>\n",
              "      <td>1 - Saída</td>\n",
              "      <td>5102 - Venda de mercadoria</td>\n",
              "      <td>41.069.174/0001-99</td>\n",
              "      <td>V NORTE LTDA</td>\n",
              "      <td>MG</td>\n",
              "      <td>17.011.236/0001-59</td>\n",
              "      <td>DISTRIBUIDORA AUTOMOTIVOS S.A.</td>\n",
              "      <td>362.09</td>\n",
              "      <td>2021-07-19</td>\n",
              "      <td>-</td>\n",
              "      <td>317.09</td>\n",
              "      <td>0.0</td>\n",
              "      <td>0.0</td>\n",
              "      <td>A VISTA</td>\n",
              "    </tr>\n",
              "  </tbody>\n",
              "</table>\n",
              "</div>"
            ],
            "text/plain": [
              "     Nº da Nota - Venda  ... Forma de Pagamento - Venda\n",
              "1482              44563  ...                    A VISTA\n",
              "380               43448  ...                    28 DIAS\n",
              "855               43929  ...                    A VISTA\n",
              "\n",
              "[3 rows x 15 columns]"
            ]
          },
          "metadata": {},
          "execution_count": 149
        }
      ]
    },
    {
      "cell_type": "code",
      "metadata": {
        "colab": {
          "base_uri": "https://localhost:8080/"
        },
        "id": "pA_67-UEByaz",
        "outputId": "d3420b36-77dd-489f-9210-6a5544fff371"
      },
      "source": [
        "#Retornando a maior Venda do mês\n",
        "df[\"Valor da Nota Fiscal - Venda\"].max()"
      ],
      "execution_count": null,
      "outputs": [
        {
          "output_type": "execute_result",
          "data": {
            "text/plain": [
              "62277.6"
            ]
          },
          "metadata": {},
          "execution_count": 150
        }
      ]
    },
    {
      "cell_type": "code",
      "metadata": {
        "colab": {
          "base_uri": "https://localhost:8080/"
        },
        "id": "1-Tp94owCDai",
        "outputId": "701a981b-bcfb-4ea8-fbaa-4a8d30261a40"
      },
      "source": [
        "#Retornando a menor Venda do mês\n",
        "df[\"Valor da Nota Fiscal - Venda\"].min()"
      ],
      "execution_count": null,
      "outputs": [
        {
          "output_type": "execute_result",
          "data": {
            "text/plain": [
              "75.42"
            ]
          },
          "metadata": {},
          "execution_count": 151
        }
      ]
    },
    {
      "cell_type": "code",
      "metadata": {
        "colab": {
          "base_uri": "https://localhost:8080/"
        },
        "id": "lBU02i0ACRkB",
        "outputId": "2163e80d-9a42-4885-9794-31ab5c7537ef"
      },
      "source": [
        "#Retornando a média das Vendas do mês\n",
        "round(df[\"Valor da Nota Fiscal - Venda\"].mean(), 2)"
      ],
      "execution_count": null,
      "outputs": [
        {
          "output_type": "execute_result",
          "data": {
            "text/plain": [
              "1829.54"
            ]
          },
          "metadata": {},
          "execution_count": 240
        }
      ]
    },
    {
      "cell_type": "code",
      "metadata": {
        "colab": {
          "base_uri": "https://localhost:8080/",
          "height": 261
        },
        "id": "QVH5YQ_ZCjNk",
        "outputId": "c64cfe20-17d1-46bb-93ff-74c9cad7df21"
      },
      "source": [
        "#Retonando em ordem decrescente 3 Maiores Compras\n",
        "df.nlargest(3, \"Valor da Nota Fiscal - Venda\")"
      ],
      "execution_count": null,
      "outputs": [
        {
          "output_type": "execute_result",
          "data": {
            "text/html": [
              "<div>\n",
              "<style scoped>\n",
              "    .dataframe tbody tr th:only-of-type {\n",
              "        vertical-align: middle;\n",
              "    }\n",
              "\n",
              "    .dataframe tbody tr th {\n",
              "        vertical-align: top;\n",
              "    }\n",
              "\n",
              "    .dataframe thead th {\n",
              "        text-align: right;\n",
              "    }\n",
              "</style>\n",
              "<table border=\"1\" class=\"dataframe\">\n",
              "  <thead>\n",
              "    <tr style=\"text-align: right;\">\n",
              "      <th></th>\n",
              "      <th>Nº da Nota - Venda</th>\n",
              "      <th>Tipo Oper. - Venda</th>\n",
              "      <th>Natureza Operação - Venda</th>\n",
              "      <th>CNPJ Destinatário - Venda</th>\n",
              "      <th>Razão Social Destinatário - Venda</th>\n",
              "      <th>UF Dest - Venda</th>\n",
              "      <th>CNPJ Emitente - Venda</th>\n",
              "      <th>Razão Social Emitente - Venda</th>\n",
              "      <th>Valor da Nota Fiscal - Venda</th>\n",
              "      <th>Emissão - Venda</th>\n",
              "      <th>Data Entr. Saída - Venda</th>\n",
              "      <th>Valor dos Produtos - Venda</th>\n",
              "      <th>Total ICMS - Venda</th>\n",
              "      <th>Total IPI - Venda</th>\n",
              "      <th>Forma de Pagamento - Venda</th>\n",
              "    </tr>\n",
              "  </thead>\n",
              "  <tbody>\n",
              "    <tr>\n",
              "      <th>757</th>\n",
              "      <td>43833</td>\n",
              "      <td>1 - Saída</td>\n",
              "      <td>5102 - Venda de mercadoria</td>\n",
              "      <td>16.655.965/0001-96</td>\n",
              "      <td>AUTO BITTS LTDA</td>\n",
              "      <td>MG</td>\n",
              "      <td>17.011.236/0001-59</td>\n",
              "      <td>DISTRIBUIDORA AUTOMOTIVOS S.A.</td>\n",
              "      <td>62277.6</td>\n",
              "      <td>2021-07-15</td>\n",
              "      <td>-</td>\n",
              "      <td>62277.6</td>\n",
              "      <td>0.0</td>\n",
              "      <td>0.0</td>\n",
              "      <td>42 Dias</td>\n",
              "    </tr>\n",
              "    <tr>\n",
              "      <th>508</th>\n",
              "      <td>44479</td>\n",
              "      <td>1 - Saída</td>\n",
              "      <td>5102 - Venda de mercadoria</td>\n",
              "      <td>50.999.976/0001-99</td>\n",
              "      <td>RFX DISTRIBUIDORA DE PRODUTOS AUTOMOTIVOS LTDA</td>\n",
              "      <td>MG</td>\n",
              "      <td>17.011.236/0001-59</td>\n",
              "      <td>DISTRIBUIDORA AUTOMOTIVOS S.A.</td>\n",
              "      <td>56410.4</td>\n",
              "      <td>2021-07-12</td>\n",
              "      <td>-</td>\n",
              "      <td>56410.4</td>\n",
              "      <td>0.0</td>\n",
              "      <td>0.0</td>\n",
              "      <td>42 Dias</td>\n",
              "    </tr>\n",
              "    <tr>\n",
              "      <th>1434</th>\n",
              "      <td>44553</td>\n",
              "      <td>1 - Saída</td>\n",
              "      <td>5102 - Venda de mercadoria</td>\n",
              "      <td>79.771.717/0001-96</td>\n",
              "      <td>LIDER AUTOMOTIVA PECAS LTDA</td>\n",
              "      <td>MG</td>\n",
              "      <td>17.011.236/0001-59</td>\n",
              "      <td>DISTRIBUIDORA AUTOMOTIVOS S.A.</td>\n",
              "      <td>32393.2</td>\n",
              "      <td>2021-07-30</td>\n",
              "      <td>-</td>\n",
              "      <td>32393.2</td>\n",
              "      <td>0.0</td>\n",
              "      <td>0.0</td>\n",
              "      <td>42 Dias</td>\n",
              "    </tr>\n",
              "  </tbody>\n",
              "</table>\n",
              "</div>"
            ],
            "text/plain": [
              "     Nº da Nota - Venda  ... Forma de Pagamento - Venda\n",
              "757               43833  ...                    42 Dias\n",
              "508               44479  ...                    42 Dias\n",
              "1434              44553  ...                    42 Dias\n",
              "\n",
              "[3 rows x 15 columns]"
            ]
          },
          "metadata": {},
          "execution_count": 153
        }
      ]
    },
    {
      "cell_type": "code",
      "metadata": {
        "colab": {
          "base_uri": "https://localhost:8080/",
          "height": 295
        },
        "id": "nvB4aevlCuP_",
        "outputId": "4856f554-0142-4ef6-9440-11a7b9d5f723"
      },
      "source": [
        "#Retonando em ordem crescente 3 Menores Compras\n",
        "df.nsmallest(3, \"Valor da Nota Fiscal - Venda\")"
      ],
      "execution_count": null,
      "outputs": [
        {
          "output_type": "execute_result",
          "data": {
            "text/html": [
              "<div>\n",
              "<style scoped>\n",
              "    .dataframe tbody tr th:only-of-type {\n",
              "        vertical-align: middle;\n",
              "    }\n",
              "\n",
              "    .dataframe tbody tr th {\n",
              "        vertical-align: top;\n",
              "    }\n",
              "\n",
              "    .dataframe thead th {\n",
              "        text-align: right;\n",
              "    }\n",
              "</style>\n",
              "<table border=\"1\" class=\"dataframe\">\n",
              "  <thead>\n",
              "    <tr style=\"text-align: right;\">\n",
              "      <th></th>\n",
              "      <th>Nº da Nota - Venda</th>\n",
              "      <th>Tipo Oper. - Venda</th>\n",
              "      <th>Natureza Operação - Venda</th>\n",
              "      <th>CNPJ Destinatário - Venda</th>\n",
              "      <th>Razão Social Destinatário - Venda</th>\n",
              "      <th>UF Dest - Venda</th>\n",
              "      <th>CNPJ Emitente - Venda</th>\n",
              "      <th>Razão Social Emitente - Venda</th>\n",
              "      <th>Valor da Nota Fiscal - Venda</th>\n",
              "      <th>Emissão - Venda</th>\n",
              "      <th>Data Entr. Saída - Venda</th>\n",
              "      <th>Valor dos Produtos - Venda</th>\n",
              "      <th>Total ICMS - Venda</th>\n",
              "      <th>Total IPI - Venda</th>\n",
              "      <th>Forma de Pagamento - Venda</th>\n",
              "    </tr>\n",
              "  </thead>\n",
              "  <tbody>\n",
              "    <tr>\n",
              "      <th>775</th>\n",
              "      <td>43848</td>\n",
              "      <td>1 - Saída</td>\n",
              "      <td>5202 - Devolução de compra para comercialização</td>\n",
              "      <td>00.616.970/0005-06</td>\n",
              "      <td>TECLUB INDUSTRIA E COMERCIO DE LUBRIFICANTES LTDA</td>\n",
              "      <td>PR</td>\n",
              "      <td>17.011.236/0001-59</td>\n",
              "      <td>DISTRIBUIDORA AUTOMOTIVOS S.A.</td>\n",
              "      <td>75.42</td>\n",
              "      <td>2021-07-16</td>\n",
              "      <td>-</td>\n",
              "      <td>58.97</td>\n",
              "      <td>0.00</td>\n",
              "      <td>0.0</td>\n",
              "      <td>A VISTA</td>\n",
              "    </tr>\n",
              "    <tr>\n",
              "      <th>55</th>\n",
              "      <td>43558</td>\n",
              "      <td>1 - Saída</td>\n",
              "      <td>5102 - Venda de mercadoria</td>\n",
              "      <td>41.517.704/0001-50</td>\n",
              "      <td>SAO CRISTOVAO COMBUSTIVEIS LTDA</td>\n",
              "      <td>MG</td>\n",
              "      <td>17.011.236/0001-59</td>\n",
              "      <td>DISTRIBUIDORA AUTOMOTIVOS S.A.</td>\n",
              "      <td>106.08</td>\n",
              "      <td>2021-07-01</td>\n",
              "      <td>-</td>\n",
              "      <td>106.08</td>\n",
              "      <td>19.09</td>\n",
              "      <td>0.0</td>\n",
              "      <td>A VISTA</td>\n",
              "    </tr>\n",
              "    <tr>\n",
              "      <th>428</th>\n",
              "      <td>43498</td>\n",
              "      <td>1 - Saída</td>\n",
              "      <td>5102 - Venda de mercadoria</td>\n",
              "      <td>19.999.667/0001-99</td>\n",
              "      <td>MARCHALENTA AUTO SERVICOS LTDA</td>\n",
              "      <td>MG</td>\n",
              "      <td>17.011.236/0001-59</td>\n",
              "      <td>DISTRIBUIDORA AUTOMOTIVOS S.A.</td>\n",
              "      <td>124.45</td>\n",
              "      <td>2021-07-09</td>\n",
              "      <td>-</td>\n",
              "      <td>124.45</td>\n",
              "      <td>8.42</td>\n",
              "      <td>0.0</td>\n",
              "      <td>A VISTA</td>\n",
              "    </tr>\n",
              "  </tbody>\n",
              "</table>\n",
              "</div>"
            ],
            "text/plain": [
              "    Nº da Nota - Venda  ... Forma de Pagamento - Venda\n",
              "775              43848  ...                    A VISTA\n",
              "55               43558  ...                    A VISTA\n",
              "428              43498  ...                    A VISTA\n",
              "\n",
              "[3 rows x 15 columns]"
            ]
          },
          "metadata": {},
          "execution_count": 154
        }
      ]
    },
    {
      "cell_type": "code",
      "metadata": {
        "colab": {
          "base_uri": "https://localhost:8080/",
          "height": 750
        },
        "id": "UWqITyG5C831",
        "outputId": "0cd216ef-5db4-498a-d657-766fca6c92f4"
      },
      "source": [
        "#Ordenando o conjunto de dados\n",
        "df.sort_values(\"Valor da Nota Fiscal - Venda\", ascending=False).head(10)"
      ],
      "execution_count": null,
      "outputs": [
        {
          "output_type": "execute_result",
          "data": {
            "text/html": [
              "<div>\n",
              "<style scoped>\n",
              "    .dataframe tbody tr th:only-of-type {\n",
              "        vertical-align: middle;\n",
              "    }\n",
              "\n",
              "    .dataframe tbody tr th {\n",
              "        vertical-align: top;\n",
              "    }\n",
              "\n",
              "    .dataframe thead th {\n",
              "        text-align: right;\n",
              "    }\n",
              "</style>\n",
              "<table border=\"1\" class=\"dataframe\">\n",
              "  <thead>\n",
              "    <tr style=\"text-align: right;\">\n",
              "      <th></th>\n",
              "      <th>Nº da Nota - Venda</th>\n",
              "      <th>Tipo Oper. - Venda</th>\n",
              "      <th>Natureza Operação - Venda</th>\n",
              "      <th>CNPJ Destinatário - Venda</th>\n",
              "      <th>Razão Social Destinatário - Venda</th>\n",
              "      <th>UF Dest - Venda</th>\n",
              "      <th>CNPJ Emitente - Venda</th>\n",
              "      <th>Razão Social Emitente - Venda</th>\n",
              "      <th>Valor da Nota Fiscal - Venda</th>\n",
              "      <th>Emissão - Venda</th>\n",
              "      <th>Data Entr. Saída - Venda</th>\n",
              "      <th>Valor dos Produtos - Venda</th>\n",
              "      <th>Total ICMS - Venda</th>\n",
              "      <th>Total IPI - Venda</th>\n",
              "      <th>Forma de Pagamento - Venda</th>\n",
              "    </tr>\n",
              "  </thead>\n",
              "  <tbody>\n",
              "    <tr>\n",
              "      <th>757</th>\n",
              "      <td>43833</td>\n",
              "      <td>1 - Saída</td>\n",
              "      <td>5102 - Venda de mercadoria</td>\n",
              "      <td>16.655.965/0001-96</td>\n",
              "      <td>AUTO BITTS LTDA</td>\n",
              "      <td>MG</td>\n",
              "      <td>17.011.236/0001-59</td>\n",
              "      <td>DISTRIBUIDORA AUTOMOTIVOS S.A.</td>\n",
              "      <td>62277.60</td>\n",
              "      <td>2021-07-15</td>\n",
              "      <td>-</td>\n",
              "      <td>62277.60</td>\n",
              "      <td>0.00</td>\n",
              "      <td>0.0</td>\n",
              "      <td>42 Dias</td>\n",
              "    </tr>\n",
              "    <tr>\n",
              "      <th>508</th>\n",
              "      <td>44479</td>\n",
              "      <td>1 - Saída</td>\n",
              "      <td>5102 - Venda de mercadoria</td>\n",
              "      <td>50.999.976/0001-99</td>\n",
              "      <td>RFX DISTRIBUIDORA DE PRODUTOS AUTOMOTIVOS LTDA</td>\n",
              "      <td>MG</td>\n",
              "      <td>17.011.236/0001-59</td>\n",
              "      <td>DISTRIBUIDORA AUTOMOTIVOS S.A.</td>\n",
              "      <td>56410.40</td>\n",
              "      <td>2021-07-12</td>\n",
              "      <td>-</td>\n",
              "      <td>56410.40</td>\n",
              "      <td>0.00</td>\n",
              "      <td>0.0</td>\n",
              "      <td>42 Dias</td>\n",
              "    </tr>\n",
              "    <tr>\n",
              "      <th>1434</th>\n",
              "      <td>44553</td>\n",
              "      <td>1 - Saída</td>\n",
              "      <td>5102 - Venda de mercadoria</td>\n",
              "      <td>79.771.717/0001-96</td>\n",
              "      <td>LIDER AUTOMOTIVA PECAS LTDA</td>\n",
              "      <td>MG</td>\n",
              "      <td>17.011.236/0001-59</td>\n",
              "      <td>DISTRIBUIDORA AUTOMOTIVOS S.A.</td>\n",
              "      <td>32393.20</td>\n",
              "      <td>2021-07-30</td>\n",
              "      <td>-</td>\n",
              "      <td>32393.20</td>\n",
              "      <td>0.00</td>\n",
              "      <td>0.0</td>\n",
              "      <td>42 Dias</td>\n",
              "    </tr>\n",
              "    <tr>\n",
              "      <th>1016</th>\n",
              "      <td>44395</td>\n",
              "      <td>1 - Saída</td>\n",
              "      <td>5102 - Venda de mercadoria</td>\n",
              "      <td>57.196.166/0001-60</td>\n",
              "      <td>OTHON LUB LTDA - EPP</td>\n",
              "      <td>MG</td>\n",
              "      <td>17.011.236/0001-59</td>\n",
              "      <td>DISTRIBUIDORA AUTOMOTIVOS S.A.</td>\n",
              "      <td>26880.00</td>\n",
              "      <td>2021-07-21</td>\n",
              "      <td>-</td>\n",
              "      <td>26880.00</td>\n",
              "      <td>0.00</td>\n",
              "      <td>0.0</td>\n",
              "      <td>42 Dias</td>\n",
              "    </tr>\n",
              "    <tr>\n",
              "      <th>1291</th>\n",
              "      <td>44369</td>\n",
              "      <td>1 - Saída</td>\n",
              "      <td>5102 - Venda de mercadoria</td>\n",
              "      <td>17.960.090/0001-66</td>\n",
              "      <td>AUTO POSTO TREVINHO LTDA</td>\n",
              "      <td>MG</td>\n",
              "      <td>17.011.236/0001-59</td>\n",
              "      <td>DISTRIBUIDORA AUTOMOTIVOS S.A.</td>\n",
              "      <td>25884.93</td>\n",
              "      <td>2021-07-28</td>\n",
              "      <td>-</td>\n",
              "      <td>25884.93</td>\n",
              "      <td>651.78</td>\n",
              "      <td>0.0</td>\n",
              "      <td>42 Dias</td>\n",
              "    </tr>\n",
              "    <tr>\n",
              "      <th>532</th>\n",
              "      <td>43633</td>\n",
              "      <td>1 - Saída</td>\n",
              "      <td>5102 - Venda de mercadoria</td>\n",
              "      <td>01.970.179/0001-77</td>\n",
              "      <td>CELT LTDA</td>\n",
              "      <td>MG</td>\n",
              "      <td>17.011.236/0001-59</td>\n",
              "      <td>DISTRIBUIDORA AUTOMOTIVOS S.A.</td>\n",
              "      <td>24687.19</td>\n",
              "      <td>2021-07-12</td>\n",
              "      <td>-</td>\n",
              "      <td>24687.19</td>\n",
              "      <td>0.00</td>\n",
              "      <td>0.0</td>\n",
              "      <td>42 Dias</td>\n",
              "    </tr>\n",
              "    <tr>\n",
              "      <th>749</th>\n",
              "      <td>43825</td>\n",
              "      <td>1 - Saída</td>\n",
              "      <td>5102 - Venda de mercadoria</td>\n",
              "      <td>16.655.965/0007-69</td>\n",
              "      <td>AUTO BITTS LTDA</td>\n",
              "      <td>MG</td>\n",
              "      <td>17.011.236/0001-59</td>\n",
              "      <td>DISTRIBUIDORA AUTOMOTIVOS S.A.</td>\n",
              "      <td>23888.88</td>\n",
              "      <td>2021-07-15</td>\n",
              "      <td>-</td>\n",
              "      <td>23888.88</td>\n",
              "      <td>0.00</td>\n",
              "      <td>0.0</td>\n",
              "      <td>42 Dias</td>\n",
              "    </tr>\n",
              "    <tr>\n",
              "      <th>1375</th>\n",
              "      <td>44454</td>\n",
              "      <td>1 - Saída</td>\n",
              "      <td>5102 - Venda de mercadoria</td>\n",
              "      <td>57.196.166/0001-60</td>\n",
              "      <td>OTHON LUB LTDA - EPP</td>\n",
              "      <td>MG</td>\n",
              "      <td>17.011.236/0001-59</td>\n",
              "      <td>DISTRIBUIDORA AUTOMOTIVOS S.A.</td>\n",
              "      <td>18930.00</td>\n",
              "      <td>2021-07-29</td>\n",
              "      <td>-</td>\n",
              "      <td>18930.00</td>\n",
              "      <td>0.00</td>\n",
              "      <td>0.0</td>\n",
              "      <td>42 Dias</td>\n",
              "    </tr>\n",
              "    <tr>\n",
              "      <th>291</th>\n",
              "      <td>43448</td>\n",
              "      <td>1 - Saída</td>\n",
              "      <td>5102 - Venda de mercadoria</td>\n",
              "      <td>79.771.717/0001-96</td>\n",
              "      <td>LIDER AUTOMOTIVA PECAS LTDA</td>\n",
              "      <td>MG</td>\n",
              "      <td>17.011.236/0001-59</td>\n",
              "      <td>DISTRIBUIDORA AUTOMOTIVOS S.A.</td>\n",
              "      <td>15173.20</td>\n",
              "      <td>2021-07-07</td>\n",
              "      <td>-</td>\n",
              "      <td>15173.20</td>\n",
              "      <td>0.00</td>\n",
              "      <td>0.0</td>\n",
              "      <td>42 Dias</td>\n",
              "    </tr>\n",
              "    <tr>\n",
              "      <th>770</th>\n",
              "      <td>43843</td>\n",
              "      <td>1 - Saída</td>\n",
              "      <td>5102 - Venda de mercadoria</td>\n",
              "      <td>16.655.965/0004-79</td>\n",
              "      <td>AUTO BITTS LTDA</td>\n",
              "      <td>MG</td>\n",
              "      <td>17.011.236/0001-59</td>\n",
              "      <td>DISTRIBUIDORA AUTOMOTIVOS S.A.</td>\n",
              "      <td>14680.32</td>\n",
              "      <td>2021-07-16</td>\n",
              "      <td>-</td>\n",
              "      <td>14680.32</td>\n",
              "      <td>0.00</td>\n",
              "      <td>0.0</td>\n",
              "      <td>42 Dias</td>\n",
              "    </tr>\n",
              "  </tbody>\n",
              "</table>\n",
              "</div>"
            ],
            "text/plain": [
              "     Nº da Nota - Venda  ... Forma de Pagamento - Venda\n",
              "757               43833  ...                    42 Dias\n",
              "508               44479  ...                    42 Dias\n",
              "1434              44553  ...                    42 Dias\n",
              "1016              44395  ...                    42 Dias\n",
              "1291              44369  ...                    42 Dias\n",
              "532               43633  ...                    42 Dias\n",
              "749               43825  ...                    42 Dias\n",
              "1375              44454  ...                    42 Dias\n",
              "291               43448  ...                    42 Dias\n",
              "770               43843  ...                    42 Dias\n",
              "\n",
              "[10 rows x 15 columns]"
            ]
          },
          "metadata": {},
          "execution_count": 155
        }
      ]
    },
    {
      "cell_type": "code",
      "metadata": {
        "colab": {
          "base_uri": "https://localhost:8080/",
          "height": 351
        },
        "id": "4Rm0WBzuDHk4",
        "outputId": "503dfae1-4b8e-4dc2-c923-ceb6e02de0a2"
      },
      "source": [
        "#Gráfico de barras horizontais\n",
        "df[\"Razão Social Destinatário - Venda\"].value_counts(ascending=True).plot.barh();"
      ],
      "execution_count": null,
      "outputs": [
        {
          "output_type": "display_data",
          "data": {
            "image/png": "[encoded data removed]",
            "text/plain": [
              "<Figure size 576x396 with 1 Axes>"
            ]
          },
          "metadata": {}
        }
      ]
    },
    {
      "cell_type": "code",
      "metadata": {
        "colab": {
          "base_uri": "https://localhost:8080/"
        },
        "id": "rfrBgxaODoFf",
        "outputId": "8276b355-165f-4e65-ff00-434c0cb5cd41"
      },
      "source": [
        "#Agrupamento Natureza da Operação (importante para apuração dos Créditos dos impostos)\n",
        "df.groupby(\"Natureza Operação - Venda\")[\"Valor da Nota Fiscal - Venda\"].sum()"
      ],
      "execution_count": null,
      "outputs": [
        {
          "output_type": "execute_result",
          "data": {
            "text/plain": [
              "Natureza Operação - Venda\n",
              "5102 - Venda de mercadoria                         2696894.23\n",
              "5202 - Devolução de compra para comercialização      15955.43\n",
              "5910 - Remessa em bonificação                          354.40\n",
              "Name: Valor da Nota Fiscal - Venda, dtype: float64"
            ]
          },
          "metadata": {},
          "execution_count": 162
        }
      ]
    },
    {
      "cell_type": "code",
      "metadata": {
        "colab": {
          "base_uri": "https://localhost:8080/",
          "height": 344
        },
        "id": "4YmGnu3PD52q",
        "outputId": "5ead6b6b-ad27-4397-acfa-8933df9c24c0"
      },
      "source": [
        "#Gráfico de Pizza\n",
        "df[\"Natureza Operação - Venda\"].value_counts().plot.pie()\n",
        "plt.xlabel(\"Tipos de Vendas no mês\");\n",
        "plt.ylabel(\"\");"
      ],
      "execution_count": null,
      "outputs": [
        {
          "output_type": "display_data",
          "data": {
            "image/png": "[encoded data removed]",
            "text/plain": [
              "<Figure size 576x396 with 1 Axes>"
            ]
          },
          "metadata": {}
        }
      ]
    },
    {
      "cell_type": "markdown",
      "metadata": {
        "id": "THWQV_dbW0QH"
      },
      "source": [
        "# **Apuração dos Impostos**"
      ]
    },
    {
      "cell_type": "code",
      "metadata": {
        "id": "Ixi8KKOlmgQZ"
      },
      "source": [
        "#Base de Cálculo\n",
        "df1 = pd.read_excel(\"/content/RelatorioNFe-entradas_limpa.xlsx\")\n",
        "df2 = pd.read_excel(\"/content/RelatorioNFe-saidas_limpa.xlsx\")"
      ],
      "execution_count": 5,
      "outputs": []
    },
    {
      "cell_type": "code",
      "metadata": {
        "colab": {
          "base_uri": "https://localhost:8080/"
        },
        "id": "CJRZbX_A1FCc",
        "outputId": "04d681aa-9330-4602-b00f-cf71b6eb33d5"
      },
      "source": [
        "df1[\"Natureza Operação  - Compra\"].unique()"
      ],
      "execution_count": 7,
      "outputs": [
        {
          "output_type": "execute_result",
          "data": {
            "text/plain": [
              "array(['1102 - Compra para comercialização',\n",
              "       '1403 - Compra para comercialização ST',\n",
              "       '1653 - Compra de combustível ou lubrificante',\n",
              "       '1202 - Devolução venda de mercadoria adquirida',\n",
              "       '1922 - Simples faturamento para entrega futura',\n",
              "       '6556 - Devolução de material de uso ou consumo',\n",
              "       '2653 - Compra de combustível ou lubrificante'], dtype=object)"
            ]
          },
          "metadata": {},
          "execution_count": 7
        }
      ]
    },
    {
      "cell_type": "code",
      "metadata": {
        "colab": {
          "base_uri": "https://localhost:8080/"
        },
        "id": "HBu0CoTE3QBu",
        "outputId": "381b79b9-fd1b-4f91-9547-ee6757b65118"
      },
      "source": [
        "df1.groupby(\"Natureza Operação  - Compra\")[\"Total ICMS - Compra\"].nunique()"
      ],
      "execution_count": 27,
      "outputs": [
        {
          "output_type": "execute_result",
          "data": {
            "text/plain": [
              "Natureza Operação  - Compra\n",
              "1102 - Compra para comercialização                33\n",
              "1202 - Devolução venda de mercadoria adquirida     1\n",
              "1403 - Compra para comercialização ST             17\n",
              "1653 - Compra de combustível ou lubrificante       1\n",
              "1922 - Simples faturamento para entrega futura     1\n",
              "2653 - Compra de combustível ou lubrificante       1\n",
              "6556 - Devolução de material de uso ou consumo     1\n",
              "Name: Total ICMS - Compra, dtype: int64"
            ]
          },
          "metadata": {},
          "execution_count": 27
        }
      ]
    },
    {
      "cell_type": "code",
      "metadata": {
        "colab": {
          "base_uri": "https://localhost:8080/"
        },
        "id": "SBijteXf5PNU",
        "outputId": "d23dfbe3-64f3-4a65-8c08-b2550afac42b"
      },
      "source": [
        "df1.groupby(\"Natureza Operação  - Compra\")[\"Total ICMS - Compra\"].sum()"
      ],
      "execution_count": 30,
      "outputs": [
        {
          "output_type": "execute_result",
          "data": {
            "text/plain": [
              "Natureza Operação  - Compra\n",
              "1102 - Compra para comercialização                79324.05\n",
              "1202 - Devolução venda de mercadoria adquirida        0.00\n",
              "1403 - Compra para comercialização ST             10426.93\n",
              "1653 - Compra de combustível ou lubrificante          0.00\n",
              "1922 - Simples faturamento para entrega futura        0.00\n",
              "2653 - Compra de combustível ou lubrificante          0.00\n",
              "6556 - Devolução de material de uso ou consumo        0.00\n",
              "Name: Total ICMS - Compra, dtype: float64"
            ]
          },
          "metadata": {},
          "execution_count": 30
        }
      ]
    },
    {
      "cell_type": "code",
      "metadata": {
        "id": "XAKfjZPC9pHs"
      },
      "source": [
        ""
      ],
      "execution_count": null,
      "outputs": []
    },
    {
      "cell_type": "markdown",
      "metadata": {
        "id": "pLPJFTmm5mY8"
      },
      "source": [
        ""
      ]
    },
    {
      "cell_type": "markdown",
      "metadata": {
        "id": "-eJJWlti5mPl"
      },
      "source": [
        ""
      ]
    },
    {
      "cell_type": "markdown",
      "metadata": {
        "id": "cDgt4CzL5mtU"
      },
      "source": [
        ""
      ]
    },
    {
      "cell_type": "markdown",
      "metadata": {
        "id": "jlyftHpx5mGf"
      },
      "source": [
        ""
      ]
    },
    {
      "cell_type": "markdown",
      "metadata": {
        "id": "xLC4jMcO5l8E"
      },
      "source": [
        ""
      ]
    },
    {
      "cell_type": "markdown",
      "metadata": {
        "id": "agF11sn35lw3"
      },
      "source": [
        ""
      ]
    },
    {
      "cell_type": "code",
      "metadata": {
        "colab": {
          "base_uri": "https://localhost:8080/"
        },
        "id": "khpPQPAxyqAC",
        "outputId": "9b639d72-92b5-45bd-8389-534b2dec27f4"
      },
      "source": [
        "ICMS_CRED = df1.groupby(df1[\"Natureza Operação  - Compra\"].isin([[\"1102 - Compra para comercialização\", \"1403 - Compra para comercialização ST\"]]))[\"Total ICMS - Compra\"].sum()\n",
        "N = ICMS_CRED + 111\n",
        "print(N)"
      ],
      "execution_count": null,
      "outputs": [
        {
          "output_type": "stream",
          "name": "stdout",
          "text": [
            "Natureza Operação  - Compra\n",
            "False    89861.98\n",
            "Name: Total ICMS - Compra, dtype: float64\n"
          ]
        }
      ]
    },
    {
      "cell_type": "code",
      "metadata": {
        "colab": {
          "base_uri": "https://localhost:8080/"
        },
        "id": "W0UVHQpv_G-Y",
        "outputId": "72bd909c-8acf-4149-fade-0b4c000e6114"
      },
      "source": [
        "df1[[\"Natureza Operação  - Compra\", \"Total ICMS - Compra\"]]\n",
        "df1.groupby(df1[\"Natureza Operação  - Compra\"])[\"Total ICMS - Compra\"].sum()"
      ],
      "execution_count": null,
      "outputs": [
        {
          "output_type": "execute_result",
          "data": {
            "text/plain": [
              "Natureza Operação  - Compra\n",
              "1102 - Compra para comercialização                79324.05\n",
              "1202 - Devolução venda de mercadoria adquirida        0.00\n",
              "1403 - Compra para comercialização ST             10426.93\n",
              "1653 - Compra de combustível ou lubrificante          0.00\n",
              "1922 - Simples faturamento para entrega futura        0.00\n",
              "2653 - Compra de combustível ou lubrificante          0.00\n",
              "6556 - Devolução de material de uso ou consumo        0.00\n",
              "Name: Total ICMS - Compra, dtype: float64"
            ]
          },
          "metadata": {},
          "execution_count": 18
        }
      ]
    },
    {
      "cell_type": "code",
      "metadata": {
        "id": "c2oR7LCCtoGy",
        "colab": {
          "base_uri": "https://localhost:8080/",
          "height": 180
        },
        "outputId": "9d49d2fc-6b88-4ec3-a79b-8ef0bedc24b6"
      },
      "source": [
        "df1.groupby([\"Natureza Operação  - Compra\"].isin([[\"1102 - Compra para comercialização\", \"1403 - Compra para comercialização ST\"]]))[[\"Total ICMS - Compra\"]].sum()"
      ],
      "execution_count": null,
      "outputs": [
        {
          "output_type": "error",
          "ename": "AttributeError",
          "evalue": "ignored",
          "traceback": [
            "\u001b[0;31m---------------------------------------------------------------------------\u001b[0m",
            "\u001b[0;31mAttributeError\u001b[0m                            Traceback (most recent call last)",
            "\u001b[0;32m<ipython-input-16-8a850b197596>\u001b[0m in \u001b[0;36m<module>\u001b[0;34m()\u001b[0m\n\u001b[0;32m----> 1\u001b[0;31m \u001b[0mdf1\u001b[0m\u001b[0;34m.\u001b[0m\u001b[0mgroupby\u001b[0m\u001b[0;34m(\u001b[0m\u001b[0;34m[\u001b[0m\u001b[0;34m\"Natureza Operação  - Compra\"\u001b[0m\u001b[0;34m]\u001b[0m\u001b[0;34m.\u001b[0m\u001b[0misin\u001b[0m\u001b[0;34m(\u001b[0m\u001b[0;34m[\u001b[0m\u001b[0;34m[\u001b[0m\u001b[0;34m\"1102 - Compra para comercialização\"\u001b[0m\u001b[0;34m,\u001b[0m \u001b[0;34m\"1403 - Compra para comercialização ST\"\u001b[0m\u001b[0;34m]\u001b[0m\u001b[0;34m]\u001b[0m\u001b[0;34m)\u001b[0m\u001b[0;34m)\u001b[0m\u001b[0;34m\u001b[0m\u001b[0;34m\u001b[0m\u001b[0m\n\u001b[0m",
            "\u001b[0;31mAttributeError\u001b[0m: 'list' object has no attribute 'isin'"
          ]
        }
      ]
    },
    {
      "cell_type": "code",
      "metadata": {
        "colab": {
          "base_uri": "https://localhost:8080/",
          "height": 111
        },
        "id": "XDikVllKvL8a",
        "outputId": "d3c71e63-5c8d-4ae3-8551-f16684b38166"
      },
      "source": [
        "df1.isin([[\"1102 - Compra para comercialização\", \"1403 - Compra para comercialização ST\"]]).groupby([\"Natureza Operação  - Compra\"])[[\"Total ICMS - Compra\"]].sum()"
      ],
      "execution_count": null,
      "outputs": [
        {
          "output_type": "execute_result",
          "data": {
            "text/html": [
              "<div>\n",
              "<style scoped>\n",
              "    .dataframe tbody tr th:only-of-type {\n",
              "        vertical-align: middle;\n",
              "    }\n",
              "\n",
              "    .dataframe tbody tr th {\n",
              "        vertical-align: top;\n",
              "    }\n",
              "\n",
              "    .dataframe thead th {\n",
              "        text-align: right;\n",
              "    }\n",
              "</style>\n",
              "<table border=\"1\" class=\"dataframe\">\n",
              "  <thead>\n",
              "    <tr style=\"text-align: right;\">\n",
              "      <th></th>\n",
              "      <th>Total ICMS - Compra</th>\n",
              "    </tr>\n",
              "    <tr>\n",
              "      <th>Natureza Operação  - Compra</th>\n",
              "      <th></th>\n",
              "    </tr>\n",
              "  </thead>\n",
              "  <tbody>\n",
              "    <tr>\n",
              "      <th>False</th>\n",
              "      <td>0</td>\n",
              "    </tr>\n",
              "  </tbody>\n",
              "</table>\n",
              "</div>"
            ],
            "text/plain": [
              "                             Total ICMS - Compra\n",
              "Natureza Operação  - Compra                     \n",
              "False                                          0"
            ]
          },
          "metadata": {},
          "execution_count": 55
        }
      ]
    },
    {
      "cell_type": "code",
      "metadata": {
        "colab": {
          "base_uri": "https://localhost:8080/",
          "height": 163
        },
        "id": "ZGhQQgQ1sk35",
        "outputId": "d0495cc8-e904-40e3-cea4-0e9c74827338"
      },
      "source": [
        "print(credito)"
      ],
      "execution_count": null,
      "outputs": [
        {
          "output_type": "error",
          "ename": "NameError",
          "evalue": "ignored",
          "traceback": [
            "\u001b[0;31m---------------------------------------------------------------------------\u001b[0m",
            "\u001b[0;31mNameError\u001b[0m                                 Traceback (most recent call last)",
            "\u001b[0;32m<ipython-input-6-0b161773e8bb>\u001b[0m in \u001b[0;36m<module>\u001b[0;34m()\u001b[0m\n\u001b[0;32m----> 1\u001b[0;31m \u001b[0mprint\u001b[0m\u001b[0;34m(\u001b[0m\u001b[0mcredito\u001b[0m\u001b[0;34m)\u001b[0m\u001b[0;34m\u001b[0m\u001b[0;34m\u001b[0m\u001b[0m\n\u001b[0m",
            "\u001b[0;31mNameError\u001b[0m: name 'credito' is not defined"
          ]
        }
      ]
    },
    {
      "cell_type": "code",
      "metadata": {
        "colab": {
          "base_uri": "https://localhost:8080/",
          "height": 163
        },
        "id": "UikC_dpOt0sa",
        "outputId": "834237af-fc4b-48b8-871e-de24834cb81f"
      },
      "source": [
        "credito.loc(\"Total ICMS - Compra\")"
      ],
      "execution_count": null,
      "outputs": [
        {
          "output_type": "error",
          "ename": "NameError",
          "evalue": "ignored",
          "traceback": [
            "\u001b[0;31m---------------------------------------------------------------------------\u001b[0m",
            "\u001b[0;31mNameError\u001b[0m                                 Traceback (most recent call last)",
            "\u001b[0;32m<ipython-input-4-0fda375fd9be>\u001b[0m in \u001b[0;36m<module>\u001b[0;34m()\u001b[0m\n\u001b[0;32m----> 1\u001b[0;31m \u001b[0mcredito\u001b[0m\u001b[0;34m.\u001b[0m\u001b[0mloc\u001b[0m\u001b[0;34m(\u001b[0m\u001b[0;34m\"Total ICMS - Compra\"\u001b[0m\u001b[0;34m)\u001b[0m\u001b[0;34m\u001b[0m\u001b[0;34m\u001b[0m\u001b[0m\n\u001b[0m",
            "\u001b[0;31mNameError\u001b[0m: name 'credito' is not defined"
          ]
        }
      ]
    },
    {
      "cell_type": "markdown",
      "metadata": {
        "id": "YcAas4_fbny5"
      },
      "source": [
        "# **ICMS** - Imposto sobre Circulação de Mercadorias e Serviços"
      ]
    },
    {
      "cell_type": "code",
      "metadata": {
        "colab": {
          "base_uri": "https://localhost:8080/"
        },
        "id": "B0ZUITTLaw7E",
        "outputId": "950bfff7-5459-41e0-8c18-0be8dc6c46a3"
      },
      "source": [
        "ICMS_CRED = df1.groupby(df1[\"Natureza Operação  - Compra\"])[\"Total ICMS - Compra\"].sum()\n",
        "print(ICMS_CRED)"
      ],
      "execution_count": null,
      "outputs": [
        {
          "output_type": "stream",
          "name": "stdout",
          "text": [
            "Natureza Operação  - Compra\n",
            "1102 - Compra para comercialização                79324.05\n",
            "1202 - Devolução venda de mercadoria adquirida        0.00\n",
            "1403 - Compra para comercialização ST             10426.93\n",
            "1653 - Compra de combustível ou lubrificante          0.00\n",
            "1922 - Simples faturamento para entrega futura        0.00\n",
            "2653 - Compra de combustível ou lubrificante          0.00\n",
            "6556 - Devolução de material de uso ou consumo        0.00\n",
            "Name: Total ICMS - Compra, dtype: float64\n"
          ]
        }
      ]
    },
    {
      "cell_type": "code",
      "metadata": {
        "colab": {
          "base_uri": "https://localhost:8080/",
          "height": 102
        },
        "id": "jfKZ6XIQZhy3",
        "outputId": "9518e3d7-e965-4ba9-f415-9f43f6fcc6d1"
      },
      "source": [
        "ICMS_DEBT = df2.groupby(df2[\"Natureza Operação - Venda\"])[\"Total ICMS - Venda\"].sum()\n",
        "display(ICMS_DEBT)"
      ],
      "execution_count": null,
      "outputs": [
        {
          "output_type": "display_data",
          "data": {
            "text/plain": [
              "Natureza Operação - Venda\n",
              "5102 - Venda de mercadoria                         10141.75\n",
              "5202 - Devolução de compra para comercialização        0.00\n",
              "5910 - Remessa em bonificação                          0.00\n",
              "Name: Total ICMS - Venda, dtype: float64"
            ]
          },
          "metadata": {}
        }
      ]
    },
    {
      "cell_type": "code",
      "metadata": {
        "colab": {
          "base_uri": "https://localhost:8080/"
        },
        "id": "VcjF3tpS2zsW",
        "outputId": "34a068c6-065a-4509-9824-42852352f31c"
      },
      "source": [
        "round(ICMS_CRED.sum() - ICMS_DEBT.sum(),2)"
      ],
      "execution_count": null,
      "outputs": [
        {
          "output_type": "execute_result",
          "data": {
            "text/plain": [
              "79609.23"
            ]
          },
          "metadata": {},
          "execution_count": 69
        }
      ]
    },
    {
      "cell_type": "markdown",
      "metadata": {
        "id": "YRENfqeHbvvG"
      },
      "source": [
        "# **IPI** - Imposto sobre Produtos Industrializados"
      ]
    },
    {
      "cell_type": "code",
      "metadata": {
        "colab": {
          "base_uri": "https://localhost:8080/",
          "height": 170
        },
        "id": "BuR9TOofbPql",
        "outputId": "917488b1-2fb7-4627-8f61-cd7f58d91912"
      },
      "source": [
        "IPI_CRED = df1.groupby(df1[\"Natureza Operação  - Compra\"])[\"Total IPI - Compra\"].sum()\n",
        "display(IPI_CRED)"
      ],
      "execution_count": null,
      "outputs": [
        {
          "output_type": "display_data",
          "data": {
            "text/plain": [
              "Natureza Operação  - Compra\n",
              "1102 - Compra para comercialização                29156.26\n",
              "1202 - Devolução venda de mercadoria adquirida        0.00\n",
              "1403 - Compra para comercialização ST              8828.29\n",
              "1653 - Compra de combustível ou lubrificante          0.00\n",
              "1922 - Simples faturamento para entrega futura        0.00\n",
              "2653 - Compra de combustível ou lubrificante          0.00\n",
              "6556 - Devolução de material de uso ou consumo        0.00\n",
              "Name: Total IPI - Compra, dtype: float64"
            ]
          },
          "metadata": {}
        }
      ]
    },
    {
      "cell_type": "code",
      "metadata": {
        "colab": {
          "base_uri": "https://localhost:8080/",
          "height": 102
        },
        "id": "qvklIalzbSWb",
        "outputId": "485f150b-2226-4447-dac7-5ab64a37f95d"
      },
      "source": [
        "IPI_DEBT = df2.groupby(df2[\"Natureza Operação - Venda\"])[\"Total IPI - Venda\"].sum()\n",
        "display(IPI_DEBT)"
      ],
      "execution_count": null,
      "outputs": [
        {
          "output_type": "display_data",
          "data": {
            "text/plain": [
              "Natureza Operação - Venda\n",
              "5102 - Venda de mercadoria                         0.0\n",
              "5202 - Devolução de compra para comercialização    0.0\n",
              "5910 - Remessa em bonificação                      0.0\n",
              "Name: Total IPI - Venda, dtype: float64"
            ]
          },
          "metadata": {}
        }
      ]
    },
    {
      "cell_type": "code",
      "metadata": {
        "colab": {
          "base_uri": "https://localhost:8080/"
        },
        "id": "JPD_sgdvlUHR",
        "outputId": "12d9d72d-fcc4-4dd2-ce0c-541cb8aaa49c"
      },
      "source": [
        "IPI_CRED.sum() - IPI_DEBT.sum()"
      ],
      "execution_count": null,
      "outputs": [
        {
          "output_type": "execute_result",
          "data": {
            "text/plain": [
              "37984.55"
            ]
          },
          "metadata": {},
          "execution_count": 35
        }
      ]
    },
    {
      "cell_type": "markdown",
      "metadata": {
        "id": "YG3JRsNKcHOa"
      },
      "source": [
        "# **PIS** - Programa de Integração Social"
      ]
    },
    {
      "cell_type": "code",
      "metadata": {
        "colab": {
          "base_uri": "https://localhost:8080/",
          "height": 170
        },
        "id": "iG3eY1OLcLvW",
        "outputId": "8f0c1f07-f3f4-4f90-e227-e8fd7fd6ec85"
      },
      "source": [
        "PIS_CRED = df1.groupby(df1[\"Natureza Operação  - Compra\"])[\"Valor da Nota Fiscal - Compra\"].sum()\n",
        "display(PIS_CRED)"
      ],
      "execution_count": null,
      "outputs": [
        {
          "output_type": "display_data",
          "data": {
            "text/plain": [
              "Natureza Operação  - Compra\n",
              "1102 - Compra para comercialização                1151303.98\n",
              "1202 - Devolução venda de mercadoria adquirida        203.84\n",
              "1403 - Compra para comercialização ST              174047.52\n",
              "1653 - Compra de combustível ou lubrificante        64603.28\n",
              "1922 - Simples faturamento para entrega futura      18405.89\n",
              "2653 - Compra de combustível ou lubrificante       234258.57\n",
              "6556 - Devolução de material de uso ou consumo        324.48\n",
              "Name: Valor da Nota Fiscal - Compra, dtype: float64"
            ]
          },
          "metadata": {}
        }
      ]
    },
    {
      "cell_type": "code",
      "metadata": {
        "colab": {
          "base_uri": "https://localhost:8080/",
          "height": 102
        },
        "id": "n2RVGshzcLTt",
        "outputId": "83748f4a-4e5e-4574-e70c-7a03874933ab"
      },
      "source": [
        "PIS_DEBT = df2.groupby(df2[\"Natureza Operação - Venda\"])[\"Valor da Nota Fiscal - Venda\"].sum()\n",
        "display(PIS_DEBT)"
      ],
      "execution_count": null,
      "outputs": [
        {
          "output_type": "display_data",
          "data": {
            "text/plain": [
              "Natureza Operação - Venda\n",
              "5102 - Venda de mercadoria                         2696894.23\n",
              "5202 - Devolução de compra para comercialização      15955.43\n",
              "5910 - Remessa em bonificação                          354.40\n",
              "Name: Valor da Nota Fiscal - Venda, dtype: float64"
            ]
          },
          "metadata": {}
        }
      ]
    },
    {
      "cell_type": "code",
      "metadata": {
        "colab": {
          "base_uri": "https://localhost:8080/"
        },
        "id": "u1dARDI9lZvV",
        "outputId": "98aa57c9-20ff-44bc-8d87-975e4d558bfd"
      },
      "source": [
        "round(PIS_CRED.sum() - PIS_DEBT.sum(), 2)"
      ],
      "execution_count": null,
      "outputs": [
        {
          "output_type": "execute_result",
          "data": {
            "text/plain": [
              "-1070056.5"
            ]
          },
          "metadata": {},
          "execution_count": 50
        }
      ]
    },
    {
      "cell_type": "markdown",
      "metadata": {
        "id": "DnpDJhmqcQ4b"
      },
      "source": [
        "# **COFINS** - Contribuição para o Financiamento da Seguridade Social"
      ]
    },
    {
      "cell_type": "code",
      "metadata": {
        "colab": {
          "base_uri": "https://localhost:8080/",
          "height": 170
        },
        "id": "T1zk0Fb2cVE8",
        "outputId": "e7d22cae-94b4-4fbf-a46a-463519fa518f"
      },
      "source": [
        "COFINS_CRED = df1.groupby(df1[\"Natureza Operação  - Compra\"])[\"Valor da Nota Fiscal - Compra\"].sum()\n",
        "display(COFINS_CRED)"
      ],
      "execution_count": null,
      "outputs": [
        {
          "output_type": "display_data",
          "data": {
            "text/plain": [
              "Natureza Operação  - Compra\n",
              "1102 - Compra para comercialização                1151303.98\n",
              "1202 - Devolução venda de mercadoria adquirida        203.84\n",
              "1403 - Compra para comercialização ST              174047.52\n",
              "1653 - Compra de combustível ou lubrificante        64603.28\n",
              "1922 - Simples faturamento para entrega futura      18405.89\n",
              "2653 - Compra de combustível ou lubrificante       234258.57\n",
              "6556 - Devolução de material de uso ou consumo        324.48\n",
              "Name: Valor da Nota Fiscal - Compra, dtype: float64"
            ]
          },
          "metadata": {}
        }
      ]
    },
    {
      "cell_type": "code",
      "metadata": {
        "colab": {
          "base_uri": "https://localhost:8080/",
          "height": 102
        },
        "id": "Tv3CwZhJcVxZ",
        "outputId": "8b09beee-6580-43db-f8b7-0eb322eb7f91"
      },
      "source": [
        "COFINS_DEBT = df2.groupby(df2[\"Natureza Operação - Venda\"])[\"Valor da Nota Fiscal - Venda\"].sum()\n",
        "display(COFINS_DEBT)"
      ],
      "execution_count": null,
      "outputs": [
        {
          "output_type": "display_data",
          "data": {
            "text/plain": [
              "Natureza Operação - Venda\n",
              "5102 - Venda de mercadoria                         2696894.23\n",
              "5202 - Devolução de compra para comercialização      15955.43\n",
              "5910 - Remessa em bonificação                          354.40\n",
              "Name: Valor da Nota Fiscal - Venda, dtype: float64"
            ]
          },
          "metadata": {}
        }
      ]
    },
    {
      "cell_type": "code",
      "metadata": {
        "colab": {
          "base_uri": "https://localhost:8080/"
        },
        "id": "WDDXoqJuleY1",
        "outputId": "2e684988-57fb-4737-d026-ce8e3a740000"
      },
      "source": [
        "round(COFINS_CRED.sum() - COFINS_DEBT.sum(), 2)"
      ],
      "execution_count": null,
      "outputs": [
        {
          "output_type": "execute_result",
          "data": {
            "text/plain": [
              "-1070056.5"
            ]
          },
          "metadata": {},
          "execution_count": 47
        }
      ]
    }
  ]
}